{
 "cells": [
  {
   "cell_type": "markdown",
   "metadata": {},
   "source": [
    "## 5.3 순환 신경망을 사용한 텍스트 분류"
   ]
  },
  {
   "cell_type": "markdown",
   "metadata": {
    "id": "9TnJztDZGw-n"
   },
   "source": [
    "### 순환 신경망 개념"
   ]
  },
  {
   "cell_type": "markdown",
   "metadata": {
    "id": "lUWearf0Gw-p"
   },
   "source": [
    "이 텍스트 분류 튜토리얼은 감정 분석을 위해 [IMDB 대형 영화 리뷰 데이터세트](https://developers.google.com/machine-learning/glossary/#recurrent_neural_network)로 [순환 신경망](http://ai.stanford.edu/~amaas/data/sentiment/)을 훈련합니다."
   ]
  },
  {
   "cell_type": "code",
   "execution_count": 3,
   "metadata": {
    "execution": {
     "iopub.execute_input": "2020-11-12T06:29:05.793149Z",
     "iopub.status.busy": "2020-11-12T06:29:05.792424Z",
     "iopub.status.idle": "2020-11-12T06:29:12.476210Z",
     "shell.execute_reply": "2020-11-12T06:29:12.475579Z"
    },
    "id": "z682XYsrjkY9"
   },
   "outputs": [],
   "source": [
    "import tensorflow_datasets as tfds\n",
    "import tensorflow as tf"
   ]
  },
  {
   "cell_type": "markdown",
   "metadata": {
    "id": "1rXHa-w9JZhb"
   },
   "source": [
    "`matplotlib`을 가져오고 그래프를 플롯하는 helper 함수를 만듭니다."
   ]
  },
  {
   "cell_type": "code",
   "execution_count": 4,
   "metadata": {
    "execution": {
     "iopub.execute_input": "2020-11-12T06:29:12.481839Z",
     "iopub.status.busy": "2020-11-12T06:29:12.481148Z",
     "iopub.status.idle": "2020-11-12T06:29:12.483344Z",
     "shell.execute_reply": "2020-11-12T06:29:12.482863Z"
    },
    "id": "Mp1Z7P9pYRSK"
   },
   "outputs": [],
   "source": [
    "import matplotlib.pyplot as plt\n",
    "\n",
    "def plot_graphs(history, metric):\n",
    "  plt.plot(history.history[metric])\n",
    "  plt.plot(history.history['val_'+metric], '')\n",
    "  plt.xlabel(\"Epochs\")\n",
    "  plt.ylabel(metric)\n",
    "  plt.legend([metric, 'val_'+metric])\n",
    "  plt.show()"
   ]
  },
  {
   "cell_type": "markdown",
   "metadata": {
    "id": "pRmMubr0jrE2"
   },
   "source": [
    "### 입력 파이프라인 설정하기\n",
    "\n",
    "IMDB 대형 영화 리뷰 데이터세트는 *binary classification* 데이터세트입니다. 모든 리뷰에는 *positive* 또는 *negative* 감정이 있습니다.\n",
    "\n",
    "[TFDS](https://www.tensorflow.org/datasets)를 사용하여 데이터세트를 다운로드합니다.\n"
   ]
  },
  {
   "cell_type": "code",
   "execution_count": 6,
   "metadata": {
    "execution": {
     "iopub.execute_input": "2020-11-12T06:29:12.487872Z",
     "iopub.status.busy": "2020-11-12T06:29:12.487239Z",
     "iopub.status.idle": "2020-11-12T06:31:17.037733Z",
     "shell.execute_reply": "2020-11-12T06:31:17.038223Z"
    },
    "id": "SHRwRoP2nVHX"
   },
   "outputs": [
    {
     "name": "stderr",
     "output_type": "stream",
     "text": [
      "WARNING:absl:TFDS datasets with text encoding are deprecated and will be removed in a future version. Instead, you should use the plain text version and tokenize the text using `tensorflow_text` (See: https://www.tensorflow.org/tutorials/tensorflow_text/intro#tfdata_example)\n"
     ]
    }
   ],
   "source": [
    "dataset, info = tfds.load('imdb_reviews/subwords8k', with_info=True,\n",
    "                          as_supervised=True)\n",
    "train_dataset, test_dataset = dataset['train'], dataset['test']"
   ]
  },
  {
   "cell_type": "markdown",
   "metadata": {
    "id": "MCorLciXSDJE"
   },
   "source": [
    "데이터세트 `info`에는 인코더( `tfds.features.text.SubwordTextEncoder`)가 포함됩니다."
   ]
  },
  {
   "cell_type": "code",
   "execution_count": 7,
   "metadata": {
    "execution": {
     "iopub.execute_input": "2020-11-12T06:31:17.042907Z",
     "iopub.status.busy": "2020-11-12T06:31:17.041982Z",
     "iopub.status.idle": "2020-11-12T06:31:17.044535Z",
     "shell.execute_reply": "2020-11-12T06:31:17.043974Z"
    },
    "id": "EplYp5pNnW1S"
   },
   "outputs": [],
   "source": [
    "encoder = info.features['text'].encoder"
   ]
  },
  {
   "cell_type": "code",
   "execution_count": 8,
   "metadata": {
    "execution": {
     "iopub.execute_input": "2020-11-12T06:31:17.048759Z",
     "iopub.status.busy": "2020-11-12T06:31:17.048061Z",
     "iopub.status.idle": "2020-11-12T06:31:17.050743Z",
     "shell.execute_reply": "2020-11-12T06:31:17.051166Z"
    },
    "id": "e7ACuHM5hFp3"
   },
   "outputs": [
    {
     "name": "stdout",
     "output_type": "stream",
     "text": [
      "Vocabulary size: 8185\n"
     ]
    }
   ],
   "source": [
    "print('Vocabulary size: {}'.format(encoder.vocab_size))"
   ]
  },
  {
   "cell_type": "markdown",
   "metadata": {
    "id": "tAfGg8YRe6fu"
   },
   "source": [
    "이 텍스트 인코더는 문자열을 가역적으로 인코딩하여 필요한 경우 바이트 인코딩으로 돌아갑니다."
   ]
  },
  {
   "cell_type": "code",
   "execution_count": 9,
   "metadata": {
    "execution": {
     "iopub.execute_input": "2020-11-12T06:31:17.056158Z",
     "iopub.status.busy": "2020-11-12T06:31:17.055411Z",
     "iopub.status.idle": "2020-11-12T06:31:17.058157Z",
     "shell.execute_reply": "2020-11-12T06:31:17.058606Z"
    },
    "id": "Bq6xDmf2SAs-"
   },
   "outputs": [
    {
     "name": "stdout",
     "output_type": "stream",
     "text": [
      "Encoded string is [4025, 222, 6307, 2327, 4043, 2120, 7975]\n",
      "The original string: \"Hello TensorFlow.\"\n"
     ]
    }
   ],
   "source": [
    "sample_string = 'Hello TensorFlow.'\n",
    "\n",
    "encoded_string = encoder.encode(sample_string)\n",
    "print('Encoded string is {}'.format(encoded_string))\n",
    "\n",
    "original_string = encoder.decode(encoded_string)\n",
    "print('The original string: \"{}\"'.format(original_string))"
   ]
  },
  {
   "cell_type": "code",
   "execution_count": 10,
   "metadata": {
    "execution": {
     "iopub.execute_input": "2020-11-12T06:31:17.062830Z",
     "iopub.status.busy": "2020-11-12T06:31:17.061875Z",
     "iopub.status.idle": "2020-11-12T06:31:17.064677Z",
     "shell.execute_reply": "2020-11-12T06:31:17.064097Z"
    },
    "id": "TN7QbKaM4-5H"
   },
   "outputs": [],
   "source": [
    "assert original_string == sample_string"
   ]
  },
  {
   "cell_type": "code",
   "execution_count": 11,
   "metadata": {
    "execution": {
     "iopub.execute_input": "2020-11-12T06:31:17.069064Z",
     "iopub.status.busy": "2020-11-12T06:31:17.068336Z",
     "iopub.status.idle": "2020-11-12T06:31:17.071731Z",
     "shell.execute_reply": "2020-11-12T06:31:17.071248Z"
    },
    "id": "MDVc6UGO5Dh6"
   },
   "outputs": [
    {
     "name": "stdout",
     "output_type": "stream",
     "text": [
      "4025 ----> Hell\n",
      "222 ----> o \n",
      "6307 ----> Ten\n",
      "2327 ----> sor\n",
      "4043 ----> Fl\n",
      "2120 ----> ow\n",
      "7975 ----> .\n"
     ]
    }
   ],
   "source": [
    "for index in encoded_string:\n",
    "  print('{} ----> {}'.format(index, encoder.decode([index])))"
   ]
  },
  {
   "cell_type": "markdown",
   "metadata": {
    "id": "GlYWqhTVlUyQ"
   },
   "source": [
    "### 데이터셋 준비 및 전처리"
   ]
  },
  {
   "cell_type": "markdown",
   "metadata": {
    "id": "z2qVJzcEluH_"
   },
   "source": [
    "다음으로 이러한 인코딩된 문자열을 일괄적으로 생성합니다. `padded_batch` 메서드를 사용하여 배치에서 가장 긴 문자열의 길이로 시퀀스를 0으로 채웁니다."
   ]
  },
  {
   "cell_type": "code",
   "execution_count": 12,
   "metadata": {
    "execution": {
     "iopub.execute_input": "2020-11-12T06:31:17.076155Z",
     "iopub.status.busy": "2020-11-12T06:31:17.075186Z",
     "iopub.status.idle": "2020-11-12T06:31:17.077819Z",
     "shell.execute_reply": "2020-11-12T06:31:17.077249Z"
    },
    "id": "dDsCaZCDYZgm"
   },
   "outputs": [],
   "source": [
    "BUFFER_SIZE = 10000\n",
    "BATCH_SIZE = 64"
   ]
  },
  {
   "cell_type": "code",
   "execution_count": 13,
   "metadata": {
    "execution": {
     "iopub.execute_input": "2020-11-12T06:31:17.082380Z",
     "iopub.status.busy": "2020-11-12T06:31:17.081352Z",
     "iopub.status.idle": "2020-11-12T06:31:17.090671Z",
     "shell.execute_reply": "2020-11-12T06:31:17.090028Z"
    },
    "id": "VznrltNOnUc5"
   },
   "outputs": [],
   "source": [
    "train_dataset = train_dataset.shuffle(BUFFER_SIZE)\n",
    "train_dataset = train_dataset.padded_batch(BATCH_SIZE)\n",
    "\n",
    "test_dataset = test_dataset.padded_batch(BATCH_SIZE)"
   ]
  },
  {
   "cell_type": "markdown",
   "metadata": {
    "id": "bjUqGVBxGw-t"
   },
   "source": [
    "### 모델 만들기"
   ]
  },
  {
   "cell_type": "markdown",
   "metadata": {
    "id": "bgs6nnSTGw-t"
   },
   "source": [
    "`tf.keras.Sequential` 모델을 빌드하고 embedding 레이어로 시작합니다. embedding 레이어는 단어당 하나의 벡터를 저장합니다. 호출되면 단어 인덱스 시퀀스를 벡터 시퀀스로 변환합니다. 이들 벡터는 훈련 가능합니다. (충분한 데이터에 대해) 훈련 후, 유사한 의미를 가진 단어는 종종 비슷한 벡터를 갖습니다.\n",
    "\n",
    "이 인덱스 조회는 원-핫 인코딩된 벡터를 `tf.keras.layers.Dense` 레이어를 통해 전달하는 동등한 연산보다 훨씬 효율적입니다.\n",
    "\n",
    "RNN(Recurrent Neural Network)은 요소를 반복하여 시퀀스 입력을 처리합니다. RNN은 출력을 하나의 타임스텝에서 입력으로 전달한 다음, 다음 단계로 전달합니다.\n",
    "\n",
    "`tf.keras.layers.Bidirectional` 래퍼도 RNN 레이어와 함께 사용할 수 있습니다. 이는 RNN 레이어를 통해 입력을 앞뒤로 전파한 다음 출력을 연결합니다. 이는 RNN이 장거리 종속성을 학습하는 데 도움이 됩니다."
   ]
  },
  {
   "cell_type": "code",
   "execution_count": 14,
   "metadata": {
    "execution": {
     "iopub.execute_input": "2020-11-12T06:31:17.096003Z",
     "iopub.status.busy": "2020-11-12T06:31:17.095256Z",
     "iopub.status.idle": "2020-11-12T06:31:17.845591Z",
     "shell.execute_reply": "2020-11-12T06:31:17.844939Z"
    },
    "id": "LwfoBkmRYcP3"
   },
   "outputs": [],
   "source": [
    "model = tf.keras.Sequential([\n",
    "    tf.keras.layers.Embedding(encoder.vocab_size, 64),\n",
    "    tf.keras.layers.Bidirectional(tf.keras.layers.LSTM(64)),\n",
    "    tf.keras.layers.Dense(64, activation='relu'),\n",
    "    tf.keras.layers.Dense(1)\n",
    "])"
   ]
  },
  {
   "cell_type": "markdown",
   "metadata": {
    "id": "QIGmIGkkouUb"
   },
   "source": [
    "모델의 모든 레이어에는 단일 입력만 있고 단일 출력이 생성되므로 여기서는 Keras 순차형 모델을 선택합니다. 상태 저장 RNN 레이어를 사용하려는 경우, Keras 함수 API 또는 모델 하위 클래스화를 사용하여 모델을 빌드하여 RNN 레이어 상태를 검색하고 재사용할 수 있습니다. 자세한 내용은 [Keras RNN 가이드](https://www.tensorflow.org/guide/keras/rnn#rnn_state_reuse)를 확인하세요."
   ]
  },
  {
   "cell_type": "markdown",
   "metadata": {
    "id": "sRI776ZcH3Tf"
   },
   "source": [
    "Keras 모델을 컴파일하여 훈련 프로세스를 구성합니다."
   ]
  },
  {
   "cell_type": "code",
   "execution_count": 15,
   "metadata": {
    "execution": {
     "iopub.execute_input": "2020-11-12T06:31:17.861557Z",
     "iopub.status.busy": "2020-11-12T06:31:17.860455Z",
     "iopub.status.idle": "2020-11-12T06:31:17.869729Z",
     "shell.execute_reply": "2020-11-12T06:31:17.869199Z"
    },
    "id": "kj2xei41YZjC"
   },
   "outputs": [],
   "source": [
    "model.compile(loss=tf.keras.losses.BinaryCrossentropy(from_logits=True),\n",
    "              optimizer=tf.keras.optimizers.Adam(1e-4),\n",
    "              metrics=['accuracy'])"
   ]
  },
  {
   "cell_type": "markdown",
   "metadata": {
    "id": "zIwH3nto596k"
   },
   "source": [
    "## 모델 훈련 및 평가"
   ]
  },
  {
   "cell_type": "code",
   "execution_count": 17,
   "metadata": {
    "execution": {
     "iopub.execute_input": "2020-11-12T06:31:17.874916Z",
     "iopub.status.busy": "2020-11-12T06:31:17.873851Z",
     "iopub.status.idle": "2020-11-12T06:38:14.729471Z",
     "shell.execute_reply": "2020-11-12T06:38:14.728735Z"
    },
    "id": "hw86wWS4YgR2"
   },
   "outputs": [
    {
     "name": "stdout",
     "output_type": "stream",
     "text": [
      "Epoch 1/10\n",
      "391/391 [==============================] - 43s 107ms/step - loss: 0.6640 - accuracy: 0.5196 - val_loss: 0.5344 - val_accuracy: 0.7198\n",
      "Epoch 2/10\n",
      "391/391 [==============================] - 38s 97ms/step - loss: 0.3837 - accuracy: 0.8383 - val_loss: 0.3577 - val_accuracy: 0.8422\n",
      "Epoch 3/10\n",
      "391/391 [==============================] - 37s 95ms/step - loss: 0.2692 - accuracy: 0.8937 - val_loss: 0.3316 - val_accuracy: 0.8672\n",
      "Epoch 4/10\n",
      "391/391 [==============================] - 37s 95ms/step - loss: 0.2185 - accuracy: 0.9194 - val_loss: 0.3660 - val_accuracy: 0.8562\n",
      "Epoch 5/10\n",
      "391/391 [==============================] - 37s 95ms/step - loss: 0.1888 - accuracy: 0.9296 - val_loss: 0.3857 - val_accuracy: 0.8521\n",
      "Epoch 6/10\n",
      "391/391 [==============================] - 37s 95ms/step - loss: 0.1665 - accuracy: 0.9404 - val_loss: 0.3701 - val_accuracy: 0.8635\n",
      "Epoch 7/10\n",
      "391/391 [==============================] - 37s 95ms/step - loss: 0.1503 - accuracy: 0.9464 - val_loss: 0.3886 - val_accuracy: 0.8599\n",
      "Epoch 8/10\n",
      "391/391 [==============================] - 37s 95ms/step - loss: 0.1319 - accuracy: 0.9552 - val_loss: 0.3956 - val_accuracy: 0.8641\n",
      "Epoch 9/10\n",
      "391/391 [==============================] - 37s 95ms/step - loss: 0.1298 - accuracy: 0.9551 - val_loss: 0.4235 - val_accuracy: 0.8594\n",
      "Epoch 10/10\n",
      "391/391 [==============================] - 37s 95ms/step - loss: 0.1173 - accuracy: 0.9605 - val_loss: 0.4245 - val_accuracy: 0.8589\n"
     ]
    }
   ],
   "source": [
    "history = model.fit(train_dataset, epochs=10,\n",
    "                    validation_data=test_dataset, \n",
    "                    validation_steps=30)"
   ]
  },
  {
   "cell_type": "code",
   "execution_count": 18,
   "metadata": {
    "execution": {
     "iopub.execute_input": "2020-11-12T06:38:14.735411Z",
     "iopub.status.busy": "2020-11-12T06:38:14.734569Z",
     "iopub.status.idle": "2020-11-12T06:38:31.161871Z",
     "shell.execute_reply": "2020-11-12T06:38:31.161316Z"
    },
    "id": "BaNbXi43YgUT"
   },
   "outputs": [
    {
     "name": "stdout",
     "output_type": "stream",
     "text": [
      "391/391 [==============================] - 15s 38ms/step - loss: 0.4196 - accuracy: 0.8562\n",
      "Test Loss: 0.41959404945373535\n",
      "Test Accuracy: 0.8561599850654602\n"
     ]
    }
   ],
   "source": [
    "test_loss, test_acc = model.evaluate(test_dataset)\n",
    "\n",
    "print('Test Loss: {}'.format(test_loss))\n",
    "print('Test Accuracy: {}'.format(test_acc))"
   ]
  },
  {
   "cell_type": "markdown",
   "metadata": {
    "id": "DwSE_386uhxD"
   },
   "source": [
    "위의 모델은 시퀀스에 적용된 패딩을 마스킹하지 않습니다. 패딩된 시퀀스에 대해 훈련하고 패딩되지 않은 시퀀스를 테스트하면 왜곡될 수 있습니다. 이상적으로는 [마스킹을 사용](../../guide/keras/masking_and_padding)하여 이를 피할 수 있지만, 아래에서 볼 수 있듯이 출력에는 약간의 영향만 미칩니다.\n",
    "\n",
    "예측값이 >= 0.5인 경우, 양성이고 그렇지 않으면 음성입니다."
   ]
  },
  {
   "cell_type": "code",
   "execution_count": 19,
   "metadata": {
    "execution": {
     "iopub.execute_input": "2020-11-12T06:38:31.166603Z",
     "iopub.status.busy": "2020-11-12T06:38:31.165895Z",
     "iopub.status.idle": "2020-11-12T06:38:31.167968Z",
     "shell.execute_reply": "2020-11-12T06:38:31.168345Z"
    },
    "id": "8w0dseJMiEUh"
   },
   "outputs": [],
   "source": [
    "def pad_to_size(vec, size):\n",
    "  zeros = [0] * (size - len(vec))\n",
    "  vec.extend(zeros)\n",
    "  return vec"
   ]
  },
  {
   "cell_type": "code",
   "execution_count": 20,
   "metadata": {
    "execution": {
     "iopub.execute_input": "2020-11-12T06:38:31.173022Z",
     "iopub.status.busy": "2020-11-12T06:38:31.172358Z",
     "iopub.status.idle": "2020-11-12T06:38:31.174511Z",
     "shell.execute_reply": "2020-11-12T06:38:31.174992Z"
    },
    "id": "Y-E4cgkIvmVu"
   },
   "outputs": [],
   "source": [
    "def sample_predict(sample_pred_text, pad):\n",
    "  encoded_sample_pred_text = encoder.encode(sample_pred_text)\n",
    "\n",
    "  if pad:\n",
    "    encoded_sample_pred_text = pad_to_size(encoded_sample_pred_text, 64)\n",
    "  encoded_sample_pred_text = tf.cast(encoded_sample_pred_text, tf.float32)\n",
    "  predictions = model.predict(tf.expand_dims(encoded_sample_pred_text, 0))\n",
    "\n",
    "  return (predictions)"
   ]
  },
  {
   "cell_type": "code",
   "execution_count": 21,
   "metadata": {
    "execution": {
     "iopub.execute_input": "2020-11-12T06:38:31.179435Z",
     "iopub.status.busy": "2020-11-12T06:38:31.178779Z",
     "iopub.status.idle": "2020-11-12T06:38:31.827642Z",
     "shell.execute_reply": "2020-11-12T06:38:31.827102Z"
    },
    "id": "O41gw3KfWHus"
   },
   "outputs": [
    {
     "name": "stdout",
     "output_type": "stream",
     "text": [
      "[[-0.3210312]]\n"
     ]
    }
   ],
   "source": [
    "# predict on a sample text without padding.\n",
    "\n",
    "sample_pred_text = ('The movie was cool. The animation and the graphics '\n",
    "                    'were out of this world. I would recommend this movie.')\n",
    "predictions = sample_predict(sample_pred_text, pad=False)\n",
    "print(predictions)"
   ]
  },
  {
   "cell_type": "code",
   "execution_count": 22,
   "metadata": {
    "execution": {
     "iopub.execute_input": "2020-11-12T06:38:31.832553Z",
     "iopub.status.busy": "2020-11-12T06:38:31.831823Z",
     "iopub.status.idle": "2020-11-12T06:38:32.829045Z",
     "shell.execute_reply": "2020-11-12T06:38:32.829486Z"
    },
    "id": "kFh4xLARucTy"
   },
   "outputs": [
    {
     "name": "stdout",
     "output_type": "stream",
     "text": [
      "[[-0.30923536]]\n"
     ]
    }
   ],
   "source": [
    "# predict on a sample text with padding\n",
    "\n",
    "sample_pred_text = ('The movie was cool. The animation and the graphics '\n",
    "                    'were out of this world. I would recommend this movie.')\n",
    "predictions = sample_predict(sample_pred_text, pad=True)\n",
    "print(predictions)"
   ]
  },
  {
   "cell_type": "code",
   "execution_count": 23,
   "metadata": {
    "execution": {
     "iopub.execute_input": "2020-11-12T06:38:32.850793Z",
     "iopub.status.busy": "2020-11-12T06:38:32.849685Z",
     "iopub.status.idle": "2020-11-12T06:38:32.985245Z",
     "shell.execute_reply": "2020-11-12T06:38:32.985700Z"
    },
    "id": "ZfIVoxiNmKBF"
   },
   "outputs": [
    {
     "data": {
      "image/png": "[encoded data removed]",
      "text/plain": [
       "<Figure size 432x288 with 1 Axes>"
      ]
     },
     "metadata": {
      "needs_background": "light"
     },
     "output_type": "display_data"
    }
   ],
   "source": [
    "plot_graphs(history, 'accuracy')"
   ]
  },
  {
   "cell_type": "code",
   "execution_count": 24,
   "metadata": {
    "execution": {
     "iopub.execute_input": "2020-11-12T06:38:33.023155Z",
     "iopub.status.busy": "2020-11-12T06:38:33.002448Z",
     "iopub.status.idle": "2020-11-12T06:38:33.121933Z",
     "shell.execute_reply": "2020-11-12T06:38:33.122427Z"
    },
    "id": "IUzgkqnhmKD2"
   },
   "outputs": [
    {
     "data": {
      "image/png": "[encoded data removed]",
      "text/plain": [
       "<Figure size 432x288 with 1 Axes>"
      ]
     },
     "metadata": {
      "needs_background": "light"
     },
     "output_type": "display_data"
    }
   ],
   "source": [
    "plot_graphs(history, 'loss')"
   ]
  },
  {
   "cell_type": "markdown",
   "metadata": {
    "id": "7g1evcaRpTKm"
   },
   "source": [
    "## 두 개 이상의 LSTM 레이어 쌓기\n",
    "\n",
    "Keras 반복 레이어에는 `return_sequences` 생성자 인수로 제어되는 두 가지 사용 가능한 모드가 있습니다.\n",
    "\n",
    "- 각 타임스텝(형상 `(batch_size, timesteps, output_features)`의 3D 텐서)에 대한 전체 연속 출력 시퀀스를 반환합니다.\n",
    "- 각 입력 시퀀스에 대한 마지막 출력만 반환합니다(형상 (batch_size, output_features)의 2D 텐서)."
   ]
  },
  {
   "cell_type": "code",
   "execution_count": 25,
   "metadata": {
    "execution": {
     "iopub.execute_input": "2020-11-12T06:38:33.156962Z",
     "iopub.status.busy": "2020-11-12T06:38:33.155772Z",
     "iopub.status.idle": "2020-11-12T06:38:33.986596Z",
     "shell.execute_reply": "2020-11-12T06:38:33.987078Z"
    },
    "id": "jo1jjO3vn0jo"
   },
   "outputs": [],
   "source": [
    "model = tf.keras.Sequential([\n",
    "    tf.keras.layers.Embedding(encoder.vocab_size, 64),\n",
    "    tf.keras.layers.Bidirectional(tf.keras.layers.LSTM(64,  return_sequences=True)),\n",
    "    tf.keras.layers.Bidirectional(tf.keras.layers.LSTM(32)),\n",
    "    tf.keras.layers.Dense(64, activation='relu'),\n",
    "    tf.keras.layers.Dropout(0.5),\n",
    "    tf.keras.layers.Dense(1)\n",
    "])"
   ]
  },
  {
   "cell_type": "code",
   "execution_count": 26,
   "metadata": {
    "execution": {
     "iopub.execute_input": "2020-11-12T06:38:33.997990Z",
     "iopub.status.busy": "2020-11-12T06:38:33.996848Z",
     "iopub.status.idle": "2020-11-12T06:38:34.002773Z",
     "shell.execute_reply": "2020-11-12T06:38:34.002249Z"
    },
    "id": "hEPV5jVGp-is"
   },
   "outputs": [],
   "source": [
    "model.compile(loss=tf.keras.losses.BinaryCrossentropy(from_logits=True),\n",
    "              optimizer=tf.keras.optimizers.Adam(1e-4),\n",
    "              metrics=['accuracy'])"
   ]
  },
  {
   "cell_type": "code",
   "execution_count": 27,
   "metadata": {
    "execution": {
     "iopub.execute_input": "2020-11-12T06:38:34.008259Z",
     "iopub.status.busy": "2020-11-12T06:38:34.007193Z",
     "iopub.status.idle": "2020-11-12T06:51:09.336221Z",
     "shell.execute_reply": "2020-11-12T06:51:09.336707Z"
    },
    "id": "LeSE-YjdqAeN"
   },
   "outputs": [
    {
     "name": "stdout",
     "output_type": "stream",
     "text": [
      "Epoch 1/10\n",
      "391/391 [==============================] - 75s 181ms/step - loss: 0.6878 - accuracy: 0.5077 - val_loss: 0.5264 - val_accuracy: 0.7156\n",
      "Epoch 2/10\n",
      "391/391 [==============================] - 71s 181ms/step - loss: 0.4253 - accuracy: 0.8195 - val_loss: 0.3573 - val_accuracy: 0.8516\n",
      "Epoch 3/10\n",
      "391/391 [==============================] - 71s 181ms/step - loss: 0.2756 - accuracy: 0.8996 - val_loss: 0.4028 - val_accuracy: 0.8547\n",
      "Epoch 4/10\n",
      "391/391 [==============================] - 71s 181ms/step - loss: 0.2212 - accuracy: 0.9257 - val_loss: 0.3641 - val_accuracy: 0.8635\n",
      "Epoch 5/10\n",
      "391/391 [==============================] - 70s 179ms/step - loss: 0.1858 - accuracy: 0.9399 - val_loss: 0.4293 - val_accuracy: 0.8573\n",
      "Epoch 6/10\n",
      "391/391 [==============================] - 71s 180ms/step - loss: 0.1697 - accuracy: 0.9450 - val_loss: 0.4206 - val_accuracy: 0.8583\n",
      "Epoch 7/10\n",
      "391/391 [==============================] - 71s 181ms/step - loss: 0.1325 - accuracy: 0.9637 - val_loss: 0.4547 - val_accuracy: 0.8422\n",
      "Epoch 8/10\n",
      "391/391 [==============================] - 71s 181ms/step - loss: 0.1062 - accuracy: 0.9735 - val_loss: 0.4965 - val_accuracy: 0.8547\n",
      "Epoch 9/10\n",
      "391/391 [==============================] - 71s 181ms/step - loss: 0.0931 - accuracy: 0.9782 - val_loss: 0.5211 - val_accuracy: 0.8531\n",
      "Epoch 10/10\n",
      "391/391 [==============================] - 71s 181ms/step - loss: 0.0813 - accuracy: 0.9810 - val_loss: 0.5343 - val_accuracy: 0.8484\n"
     ]
    }
   ],
   "source": [
    "history = model.fit(train_dataset, epochs=10,\n",
    "                    validation_data=test_dataset,\n",
    "                    validation_steps=30)"
   ]
  },
  {
   "cell_type": "code",
   "execution_count": 28,
   "metadata": {
    "execution": {
     "iopub.execute_input": "2020-11-12T06:51:09.342384Z",
     "iopub.status.busy": "2020-11-12T06:51:09.341577Z",
     "iopub.status.idle": "2020-11-12T06:51:39.096643Z",
     "shell.execute_reply": "2020-11-12T06:51:39.097087Z"
    },
    "id": "_LdwilM1qPM3"
   },
   "outputs": [
    {
     "name": "stdout",
     "output_type": "stream",
     "text": [
      "391/391 [==============================] - 34s 88ms/step - loss: 0.5311 - accuracy: 0.8513\n",
      "Test Loss: 0.5311113595962524\n",
      "Test Accuracy: 0.8513200283050537\n"
     ]
    }
   ],
   "source": [
    "test_loss, test_acc = model.evaluate(test_dataset)\n",
    "\n",
    "print('Test Loss: {}'.format(test_loss))\n",
    "print('Test Accuracy: {}'.format(test_acc))"
   ]
  },
  {
   "cell_type": "code",
   "execution_count": 29,
   "metadata": {
    "execution": {
     "iopub.execute_input": "2020-11-12T06:51:39.101698Z",
     "iopub.status.busy": "2020-11-12T06:51:39.101026Z",
     "iopub.status.idle": "2020-11-12T06:51:40.199958Z",
     "shell.execute_reply": "2020-11-12T06:51:40.199260Z"
    },
    "id": "ykUKnAoqbycW"
   },
   "outputs": [
    {
     "name": "stdout",
     "output_type": "stream",
     "text": [
      "[[-2.735599]]\n"
     ]
    }
   ],
   "source": [
    "# predict on a sample text without padding.\n",
    "\n",
    "sample_pred_text = ('The movie was not good. The animation and the graphics '\n",
    "                    'were terrible. I would not recommend this movie.')\n",
    "predictions = sample_predict(sample_pred_text, pad=False)\n",
    "print(predictions)"
   ]
  },
  {
   "cell_type": "code",
   "execution_count": 30,
   "metadata": {
    "execution": {
     "iopub.execute_input": "2020-11-12T06:51:40.204479Z",
     "iopub.status.busy": "2020-11-12T06:51:40.203771Z",
     "iopub.status.idle": "2020-11-12T06:51:41.294263Z",
     "shell.execute_reply": "2020-11-12T06:51:41.293750Z"
    },
    "id": "2RiC-94zvdZO"
   },
   "outputs": [
    {
     "name": "stdout",
     "output_type": "stream",
     "text": [
      "[[-4.292017]]\n"
     ]
    }
   ],
   "source": [
    "# predict on a sample text with padding\n",
    "\n",
    "sample_pred_text = ('The movie was not good. The animation and the graphics '\n",
    "                    'were terrible. I would not recommend this movie.')\n",
    "predictions = sample_predict(sample_pred_text, pad=True)\n",
    "print(predictions)"
   ]
  },
  {
   "cell_type": "code",
   "execution_count": 31,
   "metadata": {
    "execution": {
     "iopub.execute_input": "2020-11-12T06:51:41.312103Z",
     "iopub.status.busy": "2020-11-12T06:51:41.311415Z",
     "iopub.status.idle": "2020-11-12T06:51:41.421419Z",
     "shell.execute_reply": "2020-11-12T06:51:41.420891Z"
    },
    "id": "_YYub0EDtwCu"
   },
   "outputs": [
    {
     "data": {
      "image/png": "[encoded data removed]",
      "text/plain": [
       "<Figure size 432x288 with 1 Axes>"
      ]
     },
     "metadata": {
      "needs_background": "light"
     },
     "output_type": "display_data"
    }
   ],
   "source": [
    "plot_graphs(history, 'accuracy')"
   ]
  },
  {
   "cell_type": "code",
   "execution_count": 32,
   "metadata": {
    "execution": {
     "iopub.execute_input": "2020-11-12T06:51:41.437926Z",
     "iopub.status.busy": "2020-11-12T06:51:41.436346Z",
     "iopub.status.idle": "2020-11-12T06:51:41.548635Z",
     "shell.execute_reply": "2020-11-12T06:51:41.549055Z"
    },
    "id": "DPV3Nn9xtwFM"
   },
   "outputs": [
    {
     "data": {
      "image/png": "[encoded data removed]",
      "text/plain": [
       "<Figure size 432x288 with 1 Axes>"
      ]
     },
     "metadata": {
      "needs_background": "light"
     },
     "output_type": "display_data"
    }
   ],
   "source": [
    "plot_graphs(history, 'loss')"
   ]
  }
 ],
 "metadata": {
  "colab": {
   "collapsed_sections": [],
   "name": "text_classification_rnn.ipynb",
   "toc_visible": true
  },
  "kernelspec": {
   "display_name": "Python 3",
   "language": "python",
   "name": "python3"
  },
  "language_info": {
   "codemirror_mode": {
    "name": "ipython",
    "version": 3
   },
   "file_extension": ".py",
   "mimetype": "text/x-python",
   "name": "python",
   "nbconvert_exporter": "python",
   "pygments_lexer": "ipython3",
   "version": "3.8.5"
  }
 },
 "nbformat": 4,
 "nbformat_minor": 1
}
