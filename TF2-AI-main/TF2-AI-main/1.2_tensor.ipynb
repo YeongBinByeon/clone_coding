{
 "cells": [
  {
   "cell_type": "markdown",
   "metadata": {
    "id": "qFdPvlXBOdUN"
   },
   "source": [
    "## 1.2 텐서 소개"
   ]
  },
  {
   "cell_type": "code",
   "execution_count": 34,
   "metadata": {
    "execution": {
     "iopub.execute_input": "2020-11-12T01:38:50.588556Z",
     "iopub.status.busy": "2020-11-12T01:38:50.587514Z",
     "iopub.status.idle": "2020-11-12T01:38:56.595239Z",
     "shell.execute_reply": "2020-11-12T01:38:56.594585Z"
    },
    "id": "AL2hzxorJiWy"
   },
   "outputs": [],
   "source": [
    "import tensorflow as tf\n",
    "import numpy as np"
   ]
  },
  {
   "cell_type": "code",
   "execution_count": 35,
   "metadata": {},
   "outputs": [],
   "source": [
    "import logging    # 경고 출력 금지\n",
    "logging.getLogger('tensorflow').disabled = True"
   ]
  },
  {
   "cell_type": "markdown",
   "metadata": {
    "id": "VQ3s2J8Vgowq"
   },
   "source": [
    "텐서는 일관된 유형(`dtype`이라고 불림)을 가진 다차원 배열입니다. 지원되는 모든 `dtypes`은 `tf.dtypes.DType`에서 볼 수 있습니다.\n",
    "\n",
    "[NumPy](https://numpy.org/devdocs/user/quickstart.html)에 익숙하다면, 텐서는 일종의 `np.arrays`와 같습니다.\n",
    "\n",
    "모든 텐서는 Python 숫자 및 문자열과 같이 변경할 수 없습니다. 텐서의 내용을 업데이트할 수 없으며 새로운 텐서를 만들 수만 있습니다.\n"
   ]
  },
  {
   "cell_type": "markdown",
   "metadata": {
    "id": "DRK5-9EpYbzG"
   },
   "source": [
    "### 기초\n",
    "\n",
    "기본 텐서를 만들어 봅시다."
   ]
  },
  {
   "cell_type": "markdown",
   "metadata": {
    "id": "uSHRFT6LJbxq"
   },
   "source": [
    "다음은 \"스칼라\" 또는 \"순위-0\" 텐서입니다. 스칼라는 단일 값을 포함하며 \"축\"은 없습니다."
   ]
  },
  {
   "cell_type": "code",
   "execution_count": null,
   "metadata": {
    "execution": {
     "iopub.execute_input": "2020-11-12T01:38:57.973273Z",
     "iopub.status.busy": "2020-11-12T01:38:57.972504Z",
     "iopub.status.idle": "2020-11-12T01:38:57.976960Z",
     "shell.execute_reply": "2020-11-12T01:38:57.977453Z"
    },
    "id": "d5JcgLFR6gHv"
   },
   "outputs": [],
   "source": [
    "rank_0_tensor = tf.constant(4)\n",
    "print(rank_0_tensor)"
   ]
  },
  {
   "cell_type": "markdown",
   "metadata": {
    "id": "tdmPAn9fWYs5"
   },
   "source": [
    "\"벡터\" 또는 \"순위-1\" 텐서는 값의 목록과 같습니다. 벡터는 1축입니다."
   ]
  },
  {
   "cell_type": "code",
   "execution_count": null,
   "metadata": {
    "execution": {
     "iopub.execute_input": "2020-11-12T01:38:57.983423Z",
     "iopub.status.busy": "2020-11-12T01:38:57.982700Z",
     "iopub.status.idle": "2020-11-12T01:38:57.984990Z",
     "shell.execute_reply": "2020-11-12T01:38:57.985400Z"
    },
    "id": "oZos8o_R6oE7"
   },
   "outputs": [],
   "source": [
    "rank_1_tensor = tf.constant([2.0, 3.0, 4.0])\n",
    "print(rank_1_tensor)"
   ]
  },
  {
   "cell_type": "markdown",
   "metadata": {
    "id": "G3IJG-ug_H4u"
   },
   "source": [
    "\"행렬\" 또는 \"rank-2\" 텐서에는 2축이 있습니다."
   ]
  },
  {
   "cell_type": "code",
   "execution_count": null,
   "metadata": {
    "execution": {
     "iopub.execute_input": "2020-11-12T01:38:57.991088Z",
     "iopub.status.busy": "2020-11-12T01:38:57.990409Z",
     "iopub.status.idle": "2020-11-12T01:38:57.993038Z",
     "shell.execute_reply": "2020-11-12T01:38:57.993454Z"
    },
    "id": "cnOIA_xb6u0M"
   },
   "outputs": [],
   "source": [
    "rank_2_tensor = tf.constant([[1, 2],\n",
    "                             [3, 4],\n",
    "                             [5, 6]], dtype=tf.float16)\n",
    "print(rank_2_tensor)"
   ]
  },
  {
   "cell_type": "markdown",
   "metadata": {
    "id": "19m72qEPkfxi"
   },
   "source": [
    "<table>\n",
    "<tr>\n",
    "  <th>스칼라, 형상: <code>[]</code>\n",
    "</th>\n",
    "  <th>벡터, 형상: <code>[3]</code>\n",
    "</th>\n",
    "  <th>행렬, 형상: <code>[3, 2]</code>\n",
    "</th>\n",
    "</tr>\n",
    "<tr>\n",
    "  <td><img alt=\"A scalar, the number 4\" src=\"https://www.tensorflow.org/guide/images/tensor/scalar.png?hl=ko\"></td>\n",
    "  <td><img alt=\"The line with 3 sections, each one containing a number.\" src=\"https://www.tensorflow.org/guide/images/tensor/vector.png\"></td>\n",
    "  <td><img alt=\"A 3x2 grid, with each cell containing a number.\" src=\"https://www.tensorflow.org/guide/images/tensor/matrix.png\"></td>\n",
    "</tr>\n",
    "</table>\n"
   ]
  },
  {
   "cell_type": "markdown",
   "metadata": {
    "id": "fjFvzcn4_ehD"
   },
   "source": [
    "텐서에는 더 많은 축이 있을 수 있습니다. 여기에는 3축 텐서가 사용됩니다."
   ]
  },
  {
   "cell_type": "code",
   "execution_count": null,
   "metadata": {
    "execution": {
     "iopub.execute_input": "2020-11-12T01:38:57.999678Z",
     "iopub.status.busy": "2020-11-12T01:38:57.998992Z",
     "iopub.status.idle": "2020-11-12T01:38:58.002118Z",
     "shell.execute_reply": "2020-11-12T01:38:58.001605Z"
    },
    "id": "sesW7gw6JkXy"
   },
   "outputs": [],
   "source": [
    "rank_3_tensor = tf.constant([\n",
    "  [[0, 1, 2, 3, 4],\n",
    "   [5, 6, 7, 8, 9]],\n",
    "  [[10, 11, 12, 13, 14],\n",
    "   [15, 16, 17, 18, 19]],\n",
    "  [[20, 21, 22, 23, 24],\n",
    "   [25, 26, 27, 28, 29]],])\n",
    "                    \n",
    "print(rank_3_tensor)"
   ]
  },
  {
   "cell_type": "markdown",
   "metadata": {
    "id": "rM2sTGIkoE3S"
   },
   "source": [
    "2축 이상의 텐서를 시각화하는 방법에는 여러 가지가 있습니다."
   ]
  },
  {
   "cell_type": "markdown",
   "metadata": {
    "id": "NFiYfNMMhDgL"
   },
   "source": [
    "<table>\n",
    "<tr>\n",
    "  <th colspan=\"3\">3축 텐서, 형상: <code>[3, 2, 5]</code>\n",
    "</th>\n",
    "</tr>\n",
    "<tr>\n",
    "</tr>\n",
    "<tr>\n",
    "  <td><img src=\"https://www.tensorflow.org/guide/images/tensor/3-axis_numpy.png\"></td>\n",
    "  <td><img src=\"https://www.tensorflow.org/guide/images/tensor/3-axis_front.png\"></td>\n",
    "  <td><img src=\"https://www.tensorflow.org/guide/images/tensor/3-axis_block.png\"></td>\n",
    "</tr>\n",
    "</table>"
   ]
  },
  {
   "cell_type": "markdown",
   "metadata": {
    "id": "oWAc0U8OZwNb"
   },
   "source": [
    "`np.array` 또는 `tensor.numpy` 메서드를 사용하여 텐서를 NumPy 배열로 변환할 수 있습니다."
   ]
  },
  {
   "cell_type": "code",
   "execution_count": null,
   "metadata": {
    "execution": {
     "iopub.execute_input": "2020-11-12T01:38:58.011844Z",
     "iopub.status.busy": "2020-11-12T01:38:58.011148Z",
     "iopub.status.idle": "2020-11-12T01:38:58.014562Z",
     "shell.execute_reply": "2020-11-12T01:38:58.015032Z"
    },
    "id": "J5u6_6ZYaS7B"
   },
   "outputs": [],
   "source": [
    "np.array(rank_2_tensor)"
   ]
  },
  {
   "cell_type": "code",
   "execution_count": null,
   "metadata": {
    "execution": {
     "iopub.execute_input": "2020-11-12T01:38:58.019296Z",
     "iopub.status.busy": "2020-11-12T01:38:58.018627Z",
     "iopub.status.idle": "2020-11-12T01:38:58.022778Z",
     "shell.execute_reply": "2020-11-12T01:38:58.022274Z"
    },
    "id": "c6Taz2gIaZeo"
   },
   "outputs": [],
   "source": [
    "rank_2_tensor.numpy()"
   ]
  },
  {
   "cell_type": "markdown",
   "metadata": {
    "id": "hnz19F0ocEKD"
   },
   "source": [
    "텐서에는 종종 float와 int가 포함되지만, 다음과 같은 다른 유형도 있습니다.\n",
    "\n",
    "- 복소수\n",
    "- 문자열\n",
    "\n",
    "기본 `tf.Tensor` 클래스에서는 텐서가 \"직사각형\"이어야 합니다. 즉, 각 축을 따라 모든 요소의 크기가 같습니다. "
   ]
  },
  {
   "cell_type": "markdown",
   "metadata": {
    "id": "SDC7OGeAIJr8"
   },
   "source": [
    "덧셈, 요소별 곱셈 및 행렬 곱셈을 포함하여 텐서에 대한 기본 수학을 수행 할 수 있습니다."
   ]
  },
  {
   "cell_type": "code",
   "execution_count": null,
   "metadata": {
    "execution": {
     "iopub.execute_input": "2020-11-12T01:38:58.028107Z",
     "iopub.status.busy": "2020-11-12T01:38:58.027446Z",
     "iopub.status.idle": "2020-11-12T01:38:58.322555Z",
     "shell.execute_reply": "2020-11-12T01:38:58.321955Z"
    },
    "id": "-DTkjwDOIIDa"
   },
   "outputs": [],
   "source": [
    "a = tf.constant([[1, 2],\n",
    "                 [3, 4]])\n",
    "b = tf.constant([[1, 1],\n",
    "                 [1, 1]]) \n",
    "\n",
    "print(tf.add(a, b), \"\\n\")\n",
    "print(tf.multiply(a, b), \"\\n\")\n",
    "print(tf.matmul(a, b), \"\\n\")"
   ]
  },
  {
   "cell_type": "code",
   "execution_count": null,
   "metadata": {
    "execution": {
     "iopub.execute_input": "2020-11-12T01:38:58.326989Z",
     "iopub.status.busy": "2020-11-12T01:38:58.326282Z",
     "iopub.status.idle": "2020-11-12T01:38:58.330779Z",
     "shell.execute_reply": "2020-11-12T01:38:58.330266Z"
    },
    "id": "2smoWeUz-N2q"
   },
   "outputs": [],
   "source": [
    "print(a + b, \"\\n\") \n",
    "print(a * b, \"\\n\") \n",
    "print(a @ b, \"\\n\") "
   ]
  },
  {
   "cell_type": "markdown",
   "metadata": {
    "id": "S3_vIAl2JPVc"
   },
   "source": [
    "텐서는 모든 종류의 연산(ops)에 사용됩니다."
   ]
  },
  {
   "cell_type": "code",
   "execution_count": null,
   "metadata": {
    "execution": {
     "iopub.execute_input": "2020-11-12T01:38:58.335978Z",
     "iopub.status.busy": "2020-11-12T01:38:58.335141Z",
     "iopub.status.idle": "2020-11-12T01:38:58.339723Z",
     "shell.execute_reply": "2020-11-12T01:38:58.340116Z"
    },
    "id": "Gp4WUYzGIbnv"
   },
   "outputs": [],
   "source": [
    "c = tf.constant([[4.0, 5.0], [10.0, 1.0]])\n",
    "\n",
    "print(tf.reduce_max(c))\n",
    "print(tf.argmax(c))\n",
    "print(tf.nn.softmax(c))"
   ]
  },
  {
   "cell_type": "markdown",
   "metadata": {
    "id": "NvSAbowVVuRr"
   },
   "source": [
    "### 형상 정보"
   ]
  },
  {
   "cell_type": "markdown",
   "metadata": {
    "id": "hkaBIqkTCcGY"
   },
   "source": [
    "텐서는 형상이 있습니다. 사용되는 일부 용어는 다음과 같습니다.\n",
    "\n",
    "- **형상**: 텐서의 각 차원의 길이(요소의 수)\n",
    "- **순위**: 텐서 차원의 수입니다. 스칼라는 순위가 0이고 벡터의 순위는 1이며 행렬의 순위는 2입니다.\n",
    "- **축** 또는 **차원**: 텐서의 특정 차원\n",
    "- **크기**: 텐서의 총 항목 수, 곱 형상 벡터\n"
   ]
  },
  {
   "cell_type": "markdown",
   "metadata": {
    "id": "E9L3-kCQq2f6"
   },
   "source": [
    "참고: \"2차원 텐서\"에 대한 참조가 있을 수 있지만, 순위-2 텐서는 일반적으로 2D 공간을 설명하지 않습니다."
   ]
  },
  {
   "cell_type": "markdown",
   "metadata": {
    "id": "VFOyG2tn8LhW"
   },
   "source": [
    "텐서 및 `tf.TensorShape` 객체에는 다음에 액세스하기 위한 편리한 속성이 있습니다."
   ]
  },
  {
   "cell_type": "code",
   "execution_count": null,
   "metadata": {
    "execution": {
     "iopub.execute_input": "2020-11-12T01:38:58.344665Z",
     "iopub.status.busy": "2020-11-12T01:38:58.344029Z",
     "iopub.status.idle": "2020-11-12T01:38:58.346213Z",
     "shell.execute_reply": "2020-11-12T01:38:58.346593Z"
    },
    "id": "RyD3yewUKdnK"
   },
   "outputs": [],
   "source": [
    "rank_4_tensor = tf.zeros([3, 2, 4, 5])"
   ]
  },
  {
   "cell_type": "markdown",
   "metadata": {
    "id": "oTZZW9ziq4og"
   },
   "source": [
    "<table>\n",
    "<tr>\n",
    "  <th colspan=\"2\">순위-4 텐서, 형상: <code>[3, 2, 4, 5]</code>\n",
    "</th>\n",
    "</tr>\n",
    "<tr>\n",
    "  <td> <img style=\"max-width: 60%; height: auto;\" alt=\"A tensor shape is like a vector.\" src=\"https://www.tensorflow.org/guide/images/tensor/shape.png\">\n",
    "</td>\n",
    "<td> <img style=\"max-width: 60%; height: auto;\" alt=\"A 4-axis tensor\" src=\"https://www.tensorflow.org/guide/images/tensor/4-axis_block.png\">\n",
    "</td>\n",
    "  </tr>\n",
    "</table>\n"
   ]
  },
  {
   "cell_type": "code",
   "execution_count": null,
   "metadata": {
    "execution": {
     "iopub.execute_input": "2020-11-12T01:38:58.351542Z",
     "iopub.status.busy": "2020-11-12T01:38:58.350870Z",
     "iopub.status.idle": "2020-11-12T01:38:58.354519Z",
     "shell.execute_reply": "2020-11-12T01:38:58.354927Z"
    },
    "id": "MHm9vSqogsBk"
   },
   "outputs": [],
   "source": [
    "print(\"Type of every element:\", rank_4_tensor.dtype)\n",
    "print(\"Number of dimensions:\", rank_4_tensor.ndim)\n",
    "print(\"Shape of tensor:\", rank_4_tensor.shape)\n",
    "print(\"Elements along axis 0 of tensor:\", rank_4_tensor.shape[0])\n",
    "print(\"Elements along the last axis of tensor:\", rank_4_tensor.shape[-1])\n",
    "print(\"Total number of elements (3*2*4*5): \", tf.size(rank_4_tensor).numpy())"
   ]
  },
  {
   "cell_type": "markdown",
   "metadata": {
    "id": "bQmE_Vx5JilS"
   },
   "source": [
    "축은 종종 인덱스로 참조하지만, 항상 각 축의 의미를 추적해야 합니다. 축이 전역에서 로컬로 정렬되는 경우가 종종 있습니다. 배치 축이 먼저 오고 그 다음에 공간 차원과 각 위치의 특성이 마지막에 옵니다. 이러한 방식으로 특성 벡터는 연속적인 메모리 영역입니다.\n",
    "\n",
    "<table>\n",
    "<tr>\n",
    "<th>일반적인 축 순서</th>\n",
    "</tr>\n",
    "<tr>\n",
    "    <td> <img style=\"max-width: 80%; height: auto;\" alt=\"Keep track of what each axis is. A 4-axis tensor might be: Batch, Width, Height, Freatures\" src=\"https://www.tensorflow.org/guide/images/tensor/shape2.png\">\n",
    "</td>\n",
    "</tr>\n",
    "</table>"
   ]
  },
  {
   "cell_type": "markdown",
   "metadata": {
    "id": "FlPoVvJS75Bb"
   },
   "source": [
    "### 인덱싱"
   ]
  },
  {
   "cell_type": "markdown",
   "metadata": {
    "id": "apOkCKqCZIZu"
   },
   "source": [
    "#### 단일 축 인덱싱\n",
    "\n",
    "TensorFlow는 [파이썬의 목록 또는 문자열 인덱싱](https://docs.python.org/3/tutorial/introduction.html#strings)과 마찬가지로 표준 파이썬 인덱싱 규칙과 numpy 인덱싱의 기본 규칙을 따릅니다.\n",
    "\n",
    "- 인덱스는 `0`에서 시작합니다.\n",
    "- 음수 인덱스는 끝에서부터 거꾸로 계산합니다.\n",
    "- 콜론, `:`은 슬라이스 `start:stop:step`에 사용됩니다.\n"
   ]
  },
  {
   "cell_type": "code",
   "execution_count": null,
   "metadata": {
    "execution": {
     "iopub.execute_input": "2020-11-12T01:38:58.360032Z",
     "iopub.status.busy": "2020-11-12T01:38:58.359384Z",
     "iopub.status.idle": "2020-11-12T01:38:58.361749Z",
     "shell.execute_reply": "2020-11-12T01:38:58.362200Z"
    },
    "id": "SQ-CrJxLXTIM"
   },
   "outputs": [],
   "source": [
    "rank_1_tensor = tf.constant([0, 1, 1, 2, 3, 5, 8, 13, 21, 34])\n",
    "print(rank_1_tensor.numpy())"
   ]
  },
  {
   "cell_type": "markdown",
   "metadata": {
    "id": "mQYYL56PXSak"
   },
   "source": [
    "스칼라를 사용하여 인덱싱하면 차원이 제거됩니다."
   ]
  },
  {
   "cell_type": "code",
   "execution_count": null,
   "metadata": {
    "execution": {
     "iopub.execute_input": "2020-11-12T01:38:58.369264Z",
     "iopub.status.busy": "2020-11-12T01:38:58.368593Z",
     "iopub.status.idle": "2020-11-12T01:38:58.372247Z",
     "shell.execute_reply": "2020-11-12T01:38:58.372677Z"
    },
    "id": "n6tqHciOWMt5"
   },
   "outputs": [],
   "source": [
    "print(\"First:\", rank_1_tensor[0].numpy())\n",
    "print(\"Second:\", rank_1_tensor[1].numpy())\n",
    "print(\"Last:\", rank_1_tensor[-1].numpy())"
   ]
  },
  {
   "cell_type": "markdown",
   "metadata": {
    "id": "qJLHU_a2XwpG"
   },
   "source": [
    "`:` 조각으로 인덱싱하면 차원이 유지됩니다."
   ]
  },
  {
   "cell_type": "code",
   "execution_count": null,
   "metadata": {
    "execution": {
     "iopub.execute_input": "2020-11-12T01:38:58.378612Z",
     "iopub.status.busy": "2020-11-12T01:38:58.377358Z",
     "iopub.status.idle": "2020-11-12T01:38:58.383254Z",
     "shell.execute_reply": "2020-11-12T01:38:58.383688Z"
    },
    "id": "giVPPcfQX-cu"
   },
   "outputs": [],
   "source": [
    "print(\"Everything:\", rank_1_tensor[:].numpy())\n",
    "print(\"Before 4:\", rank_1_tensor[:4].numpy())\n",
    "print(\"From 4 to the end:\", rank_1_tensor[4:].numpy())\n",
    "print(\"From 2, before 7:\", rank_1_tensor[2:7].numpy())\n",
    "print(\"Every other item:\", rank_1_tensor[::2].numpy())\n",
    "print(\"Reversed:\", rank_1_tensor[::-1].numpy())"
   ]
  },
  {
   "cell_type": "markdown",
   "metadata": {
    "id": "elDSxXi7X-Bh"
   },
   "source": [
    "#### 다축 인덱싱"
   ]
  },
  {
   "cell_type": "markdown",
   "metadata": {
    "id": "Cgk0uRUYZiai"
   },
   "source": [
    "더 높은 순위의 텐서는 여러 인덱스를 전달하여 인덱싱됩니다.\n",
    "\n",
    "단일 축의 경우에서와 정확히 같은 단일 축 규칙이 각 축에 독립적으로 적용됩니다."
   ]
  },
  {
   "cell_type": "code",
   "execution_count": null,
   "metadata": {
    "execution": {
     "iopub.execute_input": "2020-11-12T01:38:58.388092Z",
     "iopub.status.busy": "2020-11-12T01:38:58.387442Z",
     "iopub.status.idle": "2020-11-12T01:38:58.390053Z",
     "shell.execute_reply": "2020-11-12T01:38:58.389552Z"
    },
    "id": "Tc5X_WlsZXmd"
   },
   "outputs": [],
   "source": [
    "print(rank_2_tensor.numpy())"
   ]
  },
  {
   "cell_type": "markdown",
   "metadata": {
    "id": "w07U9vq5ipQk"
   },
   "source": [
    "각 인덱스에 정수를 전달하면 결과는 스칼라입니다."
   ]
  },
  {
   "cell_type": "code",
   "execution_count": null,
   "metadata": {
    "execution": {
     "iopub.execute_input": "2020-11-12T01:38:58.393906Z",
     "iopub.status.busy": "2020-11-12T01:38:58.393253Z",
     "iopub.status.idle": "2020-11-12T01:38:58.396470Z",
     "shell.execute_reply": "2020-11-12T01:38:58.395954Z"
    },
    "id": "PvILXc1PjqTM"
   },
   "outputs": [],
   "source": [
    "print(rank_2_tensor[1, 1].numpy())"
   ]
  },
  {
   "cell_type": "markdown",
   "metadata": {
    "id": "3RLCzAOHjfEH"
   },
   "source": [
    "정수와 슬라이스를 조합하여 인덱싱할 수 있습니다."
   ]
  },
  {
   "cell_type": "code",
   "execution_count": null,
   "metadata": {
    "execution": {
     "iopub.execute_input": "2020-11-12T01:38:58.401560Z",
     "iopub.status.busy": "2020-11-12T01:38:58.400791Z",
     "iopub.status.idle": "2020-11-12T01:38:58.406779Z",
     "shell.execute_reply": "2020-11-12T01:38:58.407144Z"
    },
    "id": "YTqNqsfJkJP_"
   },
   "outputs": [],
   "source": [
    "print(\"Second row:\", rank_2_tensor[1, :].numpy())\n",
    "print(\"Second column:\", rank_2_tensor[:, 1].numpy())\n",
    "print(\"Last row:\", rank_2_tensor[-1, :].numpy())\n",
    "print(\"First item in last column:\", rank_2_tensor[0, -1].numpy())\n",
    "print(\"Skip the first row:\")\n",
    "print(rank_2_tensor[1:, :].numpy(), \"\\n\")"
   ]
  },
  {
   "cell_type": "markdown",
   "metadata": {
    "id": "P45TwSUVSK6G"
   },
   "source": [
    "다음은 3축 텐서의 예입니다."
   ]
  },
  {
   "cell_type": "code",
   "execution_count": null,
   "metadata": {
    "execution": {
     "iopub.execute_input": "2020-11-12T01:38:58.410952Z",
     "iopub.status.busy": "2020-11-12T01:38:58.410293Z",
     "iopub.status.idle": "2020-11-12T01:38:58.413350Z",
     "shell.execute_reply": "2020-11-12T01:38:58.412841Z"
    },
    "id": "GuLoMoCVSLxK"
   },
   "outputs": [],
   "source": [
    "print(rank_3_tensor[:, :, 4])"
   ]
  },
  {
   "cell_type": "markdown",
   "metadata": {
    "id": "9NgmHq27TJOE"
   },
   "source": [
    "<table>\n",
    "<tr>\n",
    "<th colspan=\"2\">배치에서 각 예의 모든 위치에서 마지막 특성 선택하기</th>\n",
    "</tr>\n",
    "<tr>\n",
    "    <td><img style=\"max-width: 80%; height: auto;\" alt=\"A 3x2x5 tensor with all the values at the index-4 of the last axis selected.\" src=\"https://www.tensorflow.org/guide/images/tensor/index1.png\"></td>\n",
    "      <td><img style=\"max-width: 80%; height: auto;\" alt=\"The selected values packed into a 2-axis tensor.\" src=\"https://www.tensorflow.org/guide/images/tensor/index2.png\"></td>\n",
    "</tr>\n",
    "</table>"
   ]
  },
  {
   "cell_type": "markdown",
   "metadata": {
    "id": "fpr7R0t4SVb0"
   },
   "source": [
    "### 형상 조작하기\n",
    "\n",
    "텐서의 형상을 바꾸는 것은 매우 유용합니다.\n"
   ]
  },
  {
   "cell_type": "code",
   "execution_count": null,
   "metadata": {
    "execution": {
     "iopub.execute_input": "2020-11-12T01:38:58.417495Z",
     "iopub.status.busy": "2020-11-12T01:38:58.416771Z",
     "iopub.status.idle": "2020-11-12T01:38:58.420477Z",
     "shell.execute_reply": "2020-11-12T01:38:58.420862Z"
    },
    "id": "EMeTtga5Wq8j"
   },
   "outputs": [],
   "source": [
    "var_x = tf.Variable(tf.constant([[1], [2], [3]]))\n",
    "print(var_x.shape)"
   ]
  },
  {
   "cell_type": "code",
   "execution_count": null,
   "metadata": {
    "execution": {
     "iopub.execute_input": "2020-11-12T01:38:58.424194Z",
     "iopub.status.busy": "2020-11-12T01:38:58.423600Z",
     "iopub.status.idle": "2020-11-12T01:38:58.426255Z",
     "shell.execute_reply": "2020-11-12T01:38:58.425740Z"
    },
    "id": "38jc2RXziT3W"
   },
   "outputs": [],
   "source": [
    "print(var_x.shape.as_list())"
   ]
  },
  {
   "cell_type": "markdown",
   "metadata": {
    "id": "J_xRlHZMKYnF"
   },
   "source": [
    "텐서를 새로운 형상으로 바꿀 수 있습니다. 기본 데이터를 복제할 필요가 없으므로 재구성이 빠르고 저렴합니다."
   ]
  },
  {
   "cell_type": "code",
   "execution_count": null,
   "metadata": {
    "execution": {
     "iopub.execute_input": "2020-11-12T01:38:58.430665Z",
     "iopub.status.busy": "2020-11-12T01:38:58.430006Z",
     "iopub.status.idle": "2020-11-12T01:38:58.432458Z",
     "shell.execute_reply": "2020-11-12T01:38:58.431905Z"
    },
    "id": "pa9JCgMLWy87"
   },
   "outputs": [],
   "source": [
    "reshaped = tf.reshape(var_x, [1, 3])"
   ]
  },
  {
   "cell_type": "code",
   "execution_count": null,
   "metadata": {
    "execution": {
     "iopub.execute_input": "2020-11-12T01:38:58.436088Z",
     "iopub.status.busy": "2020-11-12T01:38:58.435472Z",
     "iopub.status.idle": "2020-11-12T01:38:58.437861Z",
     "shell.execute_reply": "2020-11-12T01:38:58.438274Z"
    },
    "id": "Mcq7iXOkW3LK"
   },
   "outputs": [],
   "source": [
    "print(var_x.shape)\n",
    "print(reshaped.shape)"
   ]
  },
  {
   "cell_type": "markdown",
   "metadata": {
    "id": "gIB2tOkoVr6E"
   },
   "source": [
    "데이터의 레이아웃은 메모리에서 유지되고 요청된 형상이 같은 데이터를 가리키는 새 텐서가 작성됩니다. TensorFlow는 C 스타일 \"행 중심\" 메모리 순서를 사용합니다. 여기에서 가장 오른쪽에 있는 인덱스를 증가시키면 메모리의 단일 단계에 해당합니다."
   ]
  },
  {
   "cell_type": "code",
   "execution_count": null,
   "metadata": {
    "execution": {
     "iopub.execute_input": "2020-11-12T01:38:58.442403Z",
     "iopub.status.busy": "2020-11-12T01:38:58.441715Z",
     "iopub.status.idle": "2020-11-12T01:38:58.444371Z",
     "shell.execute_reply": "2020-11-12T01:38:58.443840Z"
    },
    "id": "7kMfM0RpUgI8"
   },
   "outputs": [],
   "source": [
    "print(rank_3_tensor)"
   ]
  },
  {
   "cell_type": "markdown",
   "metadata": {
    "id": "TcDtfQkJWzIx"
   },
   "source": [
    "텐서를 평평하게 하면 어떤 순서로 메모리에 배치되어 있는지 확인할 수 있습니다."
   ]
  },
  {
   "cell_type": "code",
   "execution_count": null,
   "metadata": {
    "execution": {
     "iopub.execute_input": "2020-11-12T01:38:58.448505Z",
     "iopub.status.busy": "2020-11-12T01:38:58.447866Z",
     "iopub.status.idle": "2020-11-12T01:38:58.449886Z",
     "shell.execute_reply": "2020-11-12T01:38:58.450378Z"
    },
    "id": "COnHEPuaWDQp"
   },
   "outputs": [],
   "source": [
    "print(tf.reshape(rank_3_tensor, [-1]))"
   ]
  },
  {
   "cell_type": "markdown",
   "metadata": {
    "id": "jJZRira2W--c"
   },
   "source": [
    "일반적으로, `tf.reshape`의 합리적인 용도는 인접한 축을 결합하거나 분할하는 것(또는 `1`을 추가/제거)입니다.\n",
    "\n",
    "이 3x2x5 텐서의 경우, 슬라이스가 혼합되지 않으므로 (3x2)x5 또는 3x (2x5)로 재구성하는 것이 합리적입니다."
   ]
  },
  {
   "cell_type": "code",
   "execution_count": null,
   "metadata": {
    "execution": {
     "iopub.execute_input": "2020-11-12T01:38:58.455474Z",
     "iopub.status.busy": "2020-11-12T01:38:58.454768Z",
     "iopub.status.idle": "2020-11-12T01:38:58.456806Z",
     "shell.execute_reply": "2020-11-12T01:38:58.457193Z"
    },
    "id": "zP2Iqc7zWu_J"
   },
   "outputs": [],
   "source": [
    "print(tf.reshape(rank_3_tensor, [3*2, 5]), \"\\n\")\n",
    "print(tf.reshape(rank_3_tensor, [3, -1]))"
   ]
  },
  {
   "cell_type": "markdown",
   "metadata": {
    "id": "6ZsZRUhihlDB"
   },
   "source": [
    "<table>\n",
    "<th colspan=\"3\">몇 가지 좋은 재구성</th>\n",
    "<tr>\n",
    "  <td><img alt=\"A 3x2x5 tensor\" src=\"https://www.tensorflow.org/guide/images/tensor/reshape-before.png\"></td>\n",
    "  <td><img alt=\"The same data reshaped to (3x2)x5\" src=\"https://www.tensorflow.org/guide/images/tensor/reshape-good1.png\"></td>\n",
    "  <td><img alt=\"The same data reshaped to 3x(2x5)\" src=\"https://www.tensorflow.org/guide/images/tensor/reshape-good2.png\"></td>\n",
    "</tr>\n",
    "</table>\n"
   ]
  },
  {
   "cell_type": "markdown",
   "metadata": {
    "id": "nOcRxDC3jNIU"
   },
   "source": [
    "형상을 변경하면 같은 총 요소 수를 가진 새로운 형상에 대해 \"작동\"하지만, 축의 순서를 고려하지 않으면 별로 쓸모가 없습니다.\n",
    "\n",
    "`tf.reshape`에서 축 교환이 작동하지 않으면, `tf.transpose`를 수행해야 합니다.\n"
   ]
  },
  {
   "cell_type": "code",
   "execution_count": null,
   "metadata": {
    "execution": {
     "iopub.execute_input": "2020-11-12T01:38:58.462431Z",
     "iopub.status.busy": "2020-11-12T01:38:58.461748Z",
     "iopub.status.idle": "2020-11-12T01:38:58.465426Z",
     "shell.execute_reply": "2020-11-12T01:38:58.464807Z"
    },
    "id": "I9qDL_8u7cBH"
   },
   "outputs": [],
   "source": [
    "print(tf.reshape(rank_3_tensor, [2, 3, 5]), \"\\n\") \n",
    "\n",
    "print(tf.reshape(rank_3_tensor, [5, 6]), \"\\n\")\n",
    "\n",
    "try:\n",
    "  tf.reshape(rank_3_tensor, [7, -1])\n",
    "except Exception as e:\n",
    "  print(f\"{type(e).__name__}: {e}\")"
   ]
  },
  {
   "cell_type": "markdown",
   "metadata": {
    "id": "qTM9-5eh68oo"
   },
   "source": [
    "<table>\n",
    "<th colspan=\"3\">몇 가지 잘못된 재구성</th>\n",
    "<tr>\n",
    "  <td><img alt=\"You can't reorder axes, use tf.transpose for that\" src=\"https://www.tensorflow.org/guide/images/tensor/reshape-bad.png\"></td>\n",
    "  <td><img alt=\"Anything that mixes the slices of data together is probably wrong.\" src=\"https://www.tensorflow.org/guide/images/tensor/reshape-bad4.png\"></td>\n",
    "  <td><img alt=\"The new shape must fit exactly.\" src=\"https://www.tensorflow.org/guide/images/tensor/reshape-bad2.png\"></td>\n",
    "</tr>\n",
    "</table>"
   ]
  },
  {
   "cell_type": "markdown",
   "metadata": {
    "id": "N9r90BvHCbTt"
   },
   "source": [
    "완전히 지정되지 않은 형상에서 실행할 수 있습니다. 형상에 `None`(차원의 길이를 알 수 없음)이 포함되거나 형상이`None`(텐서의 순위를 알 수 없음)입니다."
   ]
  },
  {
   "cell_type": "markdown",
   "metadata": {
    "id": "fDmFtFM7k0R2"
   },
   "source": [
    "### `DTypes`에 대한 추가 정보\n",
    "\n",
    "`tf.Tensor`의 데이터 유형을 검사하려면, `Tensor.dtype` 속성을 사용합니다.\n",
    "\n",
    "Python 객체에서 `tf.Tensor`를 만들 때 선택적으로 데이터 유형을 지정할 수 있습니다.\n",
    "\n",
    "그렇지 않으면, TensorFlow는 데이터를 나타낼 수 있는 데이터 유형을 선택합니다. TensorFlow는 Python 정수를 `tf.int32`로, Python 부동 소수점 숫자를 `tf.float32`로 변환합니다. 그렇지 않으면, TensorFlow는 NumPy가 배열로 변환할 때 사용하는 것과 같은 규칙을 사용합니다.\n",
    "\n",
    "유형별로 캐스팅할 수 있습니다."
   ]
  },
  {
   "cell_type": "code",
   "execution_count": null,
   "metadata": {
    "execution": {
     "iopub.execute_input": "2020-11-12T01:38:58.470328Z",
     "iopub.status.busy": "2020-11-12T01:38:58.469659Z",
     "iopub.status.idle": "2020-11-12T01:38:58.472887Z",
     "shell.execute_reply": "2020-11-12T01:38:58.473286Z"
    },
    "id": "5mSTDWbelUvu"
   },
   "outputs": [],
   "source": [
    "the_f64_tensor = tf.constant([2.2, 3.3, 4.4], dtype=tf.float64)\n",
    "the_f16_tensor = tf.cast(the_f64_tensor, dtype=tf.float16)\n",
    "\n",
    "the_u8_tensor = tf.cast(the_f16_tensor, dtype=tf.uint8)\n",
    "print(the_u8_tensor)"
   ]
  },
  {
   "cell_type": "markdown",
   "metadata": {
    "id": "s1yBlJsVlFSu"
   },
   "source": [
    "### 브로드캐스팅\n",
    "\n",
    "브로드캐스팅은 [NumPy의 해당 특성](https://numpy.org/doc/stable/user/basics.html)에서 빌린 개념입니다. 요컨대, 특정 조건에서 작은 텐서는 결합된 연산을 실행할 때 더 큰 텐서에 맞게 자동으로 \"확장(streched)\"됩니다.\n",
    "\n",
    "가장 간단하고 가장 일반적인 경우는 스칼라에 텐서를 곱하거나 추가하려고 할 때입니다. 이 경우, 스칼라는 다른 인수와 같은 형상으로 브로드캐스트됩니다. "
   ]
  },
  {
   "cell_type": "code",
   "execution_count": null,
   "metadata": {
    "execution": {
     "iopub.execute_input": "2020-11-12T01:38:58.478331Z",
     "iopub.status.busy": "2020-11-12T01:38:58.477579Z",
     "iopub.status.idle": "2020-11-12T01:38:58.480968Z",
     "shell.execute_reply": "2020-11-12T01:38:58.480468Z"
    },
    "id": "P8sypqmagHQN"
   },
   "outputs": [],
   "source": [
    "x = tf.constant([1, 2, 3])\n",
    "\n",
    "y = tf.constant(2)\n",
    "z = tf.constant([2, 2, 2])\n",
    "\n",
    "print(tf.multiply(x, 2))\n",
    "print(x * y)\n",
    "print(x * z)"
   ]
  },
  {
   "cell_type": "markdown",
   "metadata": {
    "id": "o0SBoR6voWcb"
   },
   "source": [
    "마찬가지로, 크기가 1인 차원은 다른 인수와 일치하도록 확장될 수 있습니다. 두 인수 모두 같은 계산으로 확장될 수 있습니다.\n",
    "\n",
    "이 경우, 3x1 행렬에 요소별로 1x4 행렬을 곱하여 3x4 행렬을 만듭니다. 선행 1이 선택 사항인 점에 유의하세요. y의 형상은 `[4]`입니다."
   ]
  },
  {
   "cell_type": "code",
   "execution_count": null,
   "metadata": {
    "execution": {
     "iopub.execute_input": "2020-11-12T01:38:58.486612Z",
     "iopub.status.busy": "2020-11-12T01:38:58.485942Z",
     "iopub.status.idle": "2020-11-12T01:38:58.489091Z",
     "shell.execute_reply": "2020-11-12T01:38:58.488648Z"
    },
    "id": "6sGmkPg3XANr"
   },
   "outputs": [],
   "source": [
    "x = tf.reshape(x,[3,1])\n",
    "y = tf.range(1, 5)\n",
    "print(x, \"\\n\")\n",
    "print(y, \"\\n\")\n",
    "print(tf.multiply(x, y))"
   ]
  },
  {
   "cell_type": "markdown",
   "metadata": {
    "id": "t_7sh-EUYLrE"
   },
   "source": [
    "<table>\n",
    "<tr>\n",
    "  <th>추가 시 브로드캐스팅: <code>[1, 4]</code>와 <code>[3, 1]</code>의 곱하기는 <code>[3,4]</code>입니다.</th>\n",
    "</tr>\n",
    "<tr>\n",
    "  <td><img style=\"max-width: 80%; height: auto;\" alt=\"Adding a 3x1 matrix to a 4x1 matrix results in a 3x4 matrix\" src=\"https://www.tensorflow.org/guide/images/tensor/broadcasting.png\"></td>\n",
    "</tr>\n",
    "</table>\n"
   ]
  },
  {
   "cell_type": "markdown",
   "metadata": {
    "id": "9V3KgSJcKDRz"
   },
   "source": [
    "브로드캐스팅이 없는 같은 연산이 여기 있습니다."
   ]
  },
  {
   "cell_type": "code",
   "execution_count": null,
   "metadata": {
    "execution": {
     "iopub.execute_input": "2020-11-12T01:38:58.494172Z",
     "iopub.status.busy": "2020-11-12T01:38:58.493558Z",
     "iopub.status.idle": "2020-11-12T01:38:58.495591Z",
     "shell.execute_reply": "2020-11-12T01:38:58.495995Z"
    },
    "id": "elrF6v63igY8"
   },
   "outputs": [],
   "source": [
    "x_stretch = tf.constant([[1, 1, 1, 1],\n",
    "                         [2, 2, 2, 2],\n",
    "                         [3, 3, 3, 3]])\n",
    "\n",
    "y_stretch = tf.constant([[1, 2, 3, 4],\n",
    "                         [1, 2, 3, 4],\n",
    "                         [1, 2, 3, 4]])\n",
    "\n",
    "print(x_stretch * y_stretch)  "
   ]
  },
  {
   "cell_type": "markdown",
   "metadata": {
    "id": "14KobqYu85gi"
   },
   "source": [
    "대부분의 경우 브로드캐스팅은 브로드캐스트 연산으로 메모리에서 확장된 텐서를 구체화하지 않으므로 시간과 공간 효율적입니다.\n",
    "\n",
    "`tf.broadcast_to`를 사용하여 브로드캐스팅이 어떤 모습인지 알 수 있습니다."
   ]
  },
  {
   "cell_type": "code",
   "execution_count": null,
   "metadata": {
    "execution": {
     "iopub.execute_input": "2020-11-12T01:38:58.499953Z",
     "iopub.status.busy": "2020-11-12T01:38:58.499353Z",
     "iopub.status.idle": "2020-11-12T01:38:58.501884Z",
     "shell.execute_reply": "2020-11-12T01:38:58.501406Z"
    },
    "id": "GW2Q59_r8hZ6"
   },
   "outputs": [],
   "source": [
    "print(tf.broadcast_to(tf.constant([1, 2, 3]), [3, 3]))"
   ]
  },
  {
   "cell_type": "markdown",
   "metadata": {
    "id": "Z2bAMMQY-jpP"
   },
   "source": [
    "예를 들어, `broadcast_to`는 수학적인 op와 달리 메모리를 절약하기 위해 특별한 연산을 수행하지 않습니다. 여기에서 텐서를 구체화합니다."
   ]
  }
 ],
 "metadata": {
  "colab": {
   "collapsed_sections": [
    "Tce3stUlHN0L"
   ],
   "name": "tensor.ipynb",
   "toc_visible": true
  },
  "kernelspec": {
   "display_name": "Python 3",
   "language": "python",
   "name": "python3"
  },
  "language_info": {
   "codemirror_mode": {
    "name": "ipython",
    "version": 3
   },
   "file_extension": ".py",
   "mimetype": "text/x-python",
   "name": "python",
   "nbconvert_exporter": "python",
   "pygments_lexer": "ipython3",
   "version": "3.8.5"
  }
 },
 "nbformat": 4,
 "nbformat_minor": 1
}
