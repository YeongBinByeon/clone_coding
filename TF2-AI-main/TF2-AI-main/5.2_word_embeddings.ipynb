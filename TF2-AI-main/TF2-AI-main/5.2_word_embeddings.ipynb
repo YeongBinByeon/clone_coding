{
 "cells": [
  {
   "cell_type": "markdown",
   "metadata": {},
   "source": [
    "## 5.2 워드 임베딩"
   ]
  },
  {
   "cell_type": "markdown",
   "metadata": {
    "id": "7SN5USFEIIK3"
   },
   "source": [
    "### 텍스트를 숫자로 표현"
   ]
  },
  {
   "cell_type": "markdown",
   "metadata": {
    "id": "Q6mJg1g3apaz"
   },
   "source": [
    "이 튜토리얼에는 단어 임베딩에 대한 소개가 포함되어 있습니다. 감정 분류 작업을 위해 간단한 Keras 모델을 사용하여 자신 만의 단어 임베딩을 훈련 한 다음 [Embedding Projector](http://projector.tensorflow.org) (아래 이미지 참조)에서 시각화합니다.\n",
    "\n",
    "<img src=\"https://github.com/tensorflow/docs/blob/master/site/en/tutorials/text/images/embedding.jpg?raw=1\" alt=\"Screenshot of the embedding projector\" width=\"400\"/>\n",
    "\n",
    "\n",
    "기계 학습 모델은 벡터 (숫자 배열)를 입력으로 사용합니다. 텍스트로 작업 할 때 가장 먼저해야 할 일은 문자열을 모델에 공급하기 전에 문자열을 숫자로 변환 (또는 텍스트를 \"벡터화\")하는 전략을 마련하는 것입니다. 이 섹션에서는이를위한 세 가지 전략을 살펴 봅니다.\n",
    "\n",
    "### 원-핫 인코딩\n",
    "\n",
    "첫 번째 아이디어로 어휘의 각 단어를 \"원-핫\"인코딩 할 수 있습니다. \"고양이가 매트 위에 앉았다\"라는 문장을 생각해보십시오. 이 문장의 어휘 (또는 고유 한 단어)는 (cat, mat, on, sat, the)입니다. 각 단어를 나타 내기 위해 어휘와 길이가 같은 0 벡터를 만든 다음 해당 단어에 해당하는 색인에 1을 배치합니다. 이 접근 방식은 다음 다이어그램에 나와 있습니다.\n",
    "\n",
    "<img src=\"https://github.com/tensorflow/docs/blob/master/site/en/tutorials/text/images/one-hot.png?raw=1\" alt=\"Diagram of one-hot encodings\" width=\"400\" />\n",
    "\n",
    "문장의 인코딩을 포함하는 벡터를 만들기 위해 각 단어에 대해 원-핫 벡터를 연결할 수 있습니다.\n",
    "\n",
    "요점 : 이 접근 방식은 비효율적입니다. 원-핫 인코딩 된 벡터는 희소합니다 (즉, 대부분의 인덱스가 0 임). 어휘에 10,000 개의 단어가 있다고 상상해보십시오. 각 단어를 원-핫 인코딩하려면 요소의 99.99 %가 0 인 벡터를 만듭니다.\n",
    "\n",
    "### 각 단어를 고유 한 번호로 인코딩\n",
    "\n",
    "두 번째 방법은 고유 한 숫자를 사용하여 각 단어를 인코딩하는 것입니다. 위의 예를 계속하여 \"cat\"에 1을 할당하고 \"mat\"에 2를 할당 할 수 있습니다. 그런 다음 \"The cat sat on the mat\"라는 문장을 [5, 1, 4, 3, 5, 2]와 같은 고밀도 벡터로 인코딩 할 수 있습니다. 이 접근 방식은 효율적입니다. 희소 벡터 대신 이제 모든 요소가 가득 찬 조밀 한 벡터가 있습니다.\n",
    "\n",
    "그러나이 방법에는 두 가지 단점이 있습니다.\n",
    "\n",
    "* 정수 인코딩은 임의적입니다 (단어 간의 관계를 캡처하지 않음).\n",
    "\n",
    "* 정수 인코딩은 모델이 해석하기 어려울 수 있습니다. 예를 들어 선형 분류기는 각 특성에 대한 단일 가중치를 학습합니다. 두 단어의 유사성과 해당 인코딩의 유사성 간에는 관계가 없기 때문에이 기능 가중치 조합은 의미가 없습니다.\n",
    "\n",
    "### 단어 임베딩\n",
    "\n",
    "단어 임베딩은 유사한 단어가 유사한 인코딩을 갖는 효율적이고 조밀 한 표현을 사용하는 방법을 제공합니다. 중요한 것은이 인코딩을 직접 지정할 필요가 없다는 것입니다. 임베딩은 부동 소수점 값으로 구성된 조밀 한 벡터입니다 (벡터의 길이는 사용자가 지정하는 매개 변수 임). 임베딩 값을 수동으로 지정하는 대신 학습 가능한 매개 변수입니다 (모델이 조밀 한 레이어에 대한 가중치를 학습하는 것과 같은 방식으로 학습 중에 모델에서 학습 한 가중치). 8 차원 (작은 데이터 세트의 경우), 대규모 데이터 세트로 작업 할 때 최대 1024 차원의 단어 임베딩을 보는 것이 일반적입니다. 더 높은 차원의 임베딩은 단어 간의 세밀한 관계를 캡처 할 수 있지만 학습하는 데 더 많은 데이터가 필요합니다.\n",
    "\n",
    "<img src=\"https://github.com/tensorflow/docs/blob/master/site/en/tutorials/text/images/embedding2.png?raw=1\" alt=\"Diagram of an embedding\" width=\"400\"/>\n",
    "\n",
    "위는 단어 임베딩에 대한 다이어그램입니다. 각 단어는 부동 소수점 값의 4 차원 벡터로 표시됩니다. 임베딩을 생각하는 또 다른 방법은 \"조회 테이블\"입니다. 이러한 가중치를 학습 한 후 표에서 해당하는 조밀 한 벡터를 찾아 각 단어를 인코딩 할 수 있습니다."
   ]
  },
  {
   "cell_type": "code",
   "execution_count": 1,
   "metadata": {
    "execution": {
     "iopub.execute_input": "2021-01-13T04:09:00.027127Z",
     "iopub.status.busy": "2021-01-13T04:09:00.026402Z",
     "iopub.status.idle": "2021-01-13T04:09:06.603000Z",
     "shell.execute_reply": "2021-01-13T04:09:06.602369Z"
    },
    "id": "RutaI-Tpev3T"
   },
   "outputs": [],
   "source": [
    "import io\n",
    "import os\n",
    "import re\n",
    "import shutil\n",
    "import string\n",
    "import tensorflow as tf\n",
    "\n",
    "from datetime import datetime\n",
    "from tensorflow.keras import Model, Sequential\n",
    "from tensorflow.keras.layers import Activation, Dense, Embedding, GlobalAveragePooling1D\n",
    "from tensorflow.keras.layers.experimental.preprocessing import TextVectorization"
   ]
  },
  {
   "cell_type": "markdown",
   "metadata": {
    "id": "SBFctV8-JZOc"
   },
   "source": [
    "### IMDb 데이터 세트 다운로드\n",
    "\n",
    "튜토리얼을 통해 Large Movie Review Dataset 을 사용하게됩니다. 이 데이터 세트에서 감정 분류기 모델을 훈련시키고 그 과정에서 임베딩을 처음부터 배우게됩니다. 데이터 세트를 처음부터로드하는 방법에 대한 자세한 내용은 텍스트로드 가이드를 참조 하세요 .\n",
    "\n",
    "Keras 파일 유틸리티를 사용하여 데이터 세트를 다운로드하고 디렉토리를 살펴보십시오."
   ]
  },
  {
   "cell_type": "code",
   "execution_count": 2,
   "metadata": {
    "execution": {
     "iopub.execute_input": "2021-01-13T04:09:06.609910Z",
     "iopub.status.busy": "2021-01-13T04:09:06.609205Z",
     "iopub.status.idle": "2021-01-13T04:09:27.313818Z",
     "shell.execute_reply": "2021-01-13T04:09:27.314295Z"
    },
    "id": "aPO4_UmfF0KH"
   },
   "outputs": [
    {
     "name": "stdout",
     "output_type": "stream",
     "text": [
      "Downloading data from https://ai.stanford.edu/~amaas/data/sentiment/aclImdb_v1.tar.gz\n",
      "84131840/84125825 [==============================] - 447s 5us/step\n"
     ]
    },
    {
     "data": {
      "text/plain": [
       "['imdb.vocab', 'imdbEr.txt', 'README', 'test', 'train']"
      ]
     },
     "execution_count": 2,
     "metadata": {},
     "output_type": "execute_result"
    }
   ],
   "source": [
    "url = \"https://ai.stanford.edu/~amaas/data/sentiment/aclImdb_v1.tar.gz\"\n",
    "\n",
    "dataset = tf.keras.utils.get_file(\"aclImdb_v1.tar.gz\", url,\n",
    "                                    untar=True, cache_dir='.',\n",
    "                                    cache_subdir='')\n",
    "\n",
    "dataset_dir = os.path.join(os.path.dirname(dataset), 'aclImdb')\n",
    "os.listdir(dataset_dir)"
   ]
  },
  {
   "cell_type": "markdown",
   "metadata": {
    "id": "eY6yROZNKvbd"
   },
   "source": [
    "train/ 디렉토리를 살펴보십시오. 그것은 각각 긍정적 및 부정으로 표시된 영화 리뷰가있는 pos 및 neg 폴더를 가지고 있습니다. 이진 분류 모델을 학습하기 위해 pos 및 neg 폴더의 리뷰를 사용합니다."
   ]
  },
  {
   "cell_type": "code",
   "execution_count": 3,
   "metadata": {
    "execution": {
     "iopub.execute_input": "2021-01-13T04:09:27.319864Z",
     "iopub.status.busy": "2021-01-13T04:09:27.319178Z",
     "iopub.status.idle": "2021-01-13T04:09:27.321853Z",
     "shell.execute_reply": "2021-01-13T04:09:27.322302Z"
    },
    "id": "9-iOHJGN6SDu"
   },
   "outputs": [
    {
     "data": {
      "text/plain": [
       "['labeledBow.feat',\n",
       " 'neg',\n",
       " 'pos',\n",
       " 'unsup',\n",
       " 'unsupBow.feat',\n",
       " 'urls_neg.txt',\n",
       " 'urls_pos.txt',\n",
       " 'urls_unsup.txt']"
      ]
     },
     "execution_count": 3,
     "metadata": {},
     "output_type": "execute_result"
    }
   ],
   "source": [
    "train_dir = os.path.join(dataset_dir, 'train')\n",
    "os.listdir(train_dir)"
   ]
  },
  {
   "cell_type": "markdown",
   "metadata": {
    "id": "9O59BdioK8jY"
   },
   "source": [
    "train 디렉터리에는 교육 데이터 세트를 만들기 전에 제거해야하는 추가 폴더도 있습니다."
   ]
  },
  {
   "cell_type": "code",
   "execution_count": 4,
   "metadata": {
    "execution": {
     "iopub.execute_input": "2021-01-13T04:09:27.326807Z",
     "iopub.status.busy": "2021-01-13T04:09:27.326131Z",
     "iopub.status.idle": "2021-01-13T04:09:28.221686Z",
     "shell.execute_reply": "2021-01-13T04:09:28.221008Z"
    },
    "id": "1_Vfi9oWMSh-"
   },
   "outputs": [],
   "source": [
    "remove_dir = os.path.join(train_dir, 'unsup')\n",
    "shutil.rmtree(remove_dir)"
   ]
  },
  {
   "cell_type": "markdown",
   "metadata": {
    "id": "oFoJjiEyJz9u"
   },
   "source": [
    "다음으로tf.data.Dataset 사용하여 tf.keras.preprocessing.text_dataset_from_directory . 이 텍스트 분류 자습서 에서이 유틸리티 사용에 대한 자세한 내용을 읽을 수 있습니다.\n",
    "\n",
    "train 디렉터리를 사용하여 유효성 검사를 위해 20 %로 분할 된 기차 및 유효성 검사 데이터 세트를 모두 만듭니다."
   ]
  },
  {
   "cell_type": "code",
   "execution_count": 5,
   "metadata": {
    "execution": {
     "iopub.execute_input": "2021-01-13T04:09:28.227987Z",
     "iopub.status.busy": "2021-01-13T04:09:28.227113Z",
     "iopub.status.idle": "2021-01-13T04:09:31.882831Z",
     "shell.execute_reply": "2021-01-13T04:09:31.882253Z"
    },
    "id": "ItYD3TLkCOP1"
   },
   "outputs": [
    {
     "name": "stdout",
     "output_type": "stream",
     "text": [
      "Found 25000 files belonging to 2 classes.\n",
      "Using 20000 files for training.\n",
      "Found 25000 files belonging to 2 classes.\n",
      "Using 5000 files for validation.\n"
     ]
    }
   ],
   "source": [
    "batch_size = 1024\n",
    "seed = 123\n",
    "train_ds = tf.keras.preprocessing.text_dataset_from_directory(\n",
    "    'aclImdb/train', batch_size=batch_size, validation_split=0.2, \n",
    "    subset='training', seed=seed)\n",
    "val_ds = tf.keras.preprocessing.text_dataset_from_directory(\n",
    "    'aclImdb/train', batch_size=batch_size, validation_split=0.2, \n",
    "    subset='validation', seed=seed)"
   ]
  },
  {
   "cell_type": "markdown",
   "metadata": {
    "id": "eHa6cq0-Ym0g"
   },
   "source": [
    "훈련 데이터 세트에서 몇 가지 영화 리뷰와 라벨 (1: positive, 0: negative) 을 살펴보세요.\n"
   ]
  },
  {
   "cell_type": "code",
   "execution_count": 6,
   "metadata": {
    "execution": {
     "iopub.execute_input": "2021-01-13T04:09:31.888110Z",
     "iopub.status.busy": "2021-01-13T04:09:31.887383Z",
     "iopub.status.idle": "2021-01-13T04:09:32.278989Z",
     "shell.execute_reply": "2021-01-13T04:09:32.278358Z"
    },
    "id": "aTCbSkvkYmTT"
   },
   "outputs": [
    {
     "name": "stdout",
     "output_type": "stream",
     "text": [
      "0 b\"Oh My God! Please, for the love of all that is holy, Do Not Watch This Movie! It it 82 minutes of my life I will never get back. Sure, I could have stopped watching half way through. But I thought it might get better. It Didn't. Anyone who actually enjoyed this movie is one seriously sick and twisted individual. No wonder us Australians/New Zealanders have a terrible reputation when it comes to making movies. Everything about this movie is horrible, from the acting to the editing. I don't even normally write reviews on here, but in this case I'll make an exception. I only wish someone had of warned me before I hired this catastrophe\"\n",
      "1 b'This movie is SOOOO funny!!! The acting is WONDERFUL, the Ramones are sexy, the jokes are subtle, and the plot is just what every high schooler dreams of doing to his/her school. I absolutely loved the soundtrack as well as the carefully placed cynicism. If you like monty python, You will love this film. This movie is a tad bit \"grease\"esk (without all the annoying songs). The songs that are sung are likable; you might even find yourself singing these songs once the movie is through. This musical ranks number two in musicals to me (second next to the blues brothers). But please, do not think of it as a musical per say; seeing as how the songs are so likable, it is hard to tell a carefully choreographed scene is taking place. I think of this movie as more of a comedy with undertones of romance. You will be reminded of what it was like to be a rebellious teenager; needless to say, you will be reminiscing of your old high school days after seeing this film. Highly recommended for both the family (since it is a very youthful but also for adults since there are many jokes that are funnier with age and experience.'\n",
      "0 b\"Alex D. Linz replaces Macaulay Culkin as the central figure in the third movie in the Home Alone empire. Four industrial spies acquire a missile guidance system computer chip and smuggle it through an airport inside a remote controlled toy car. Because of baggage confusion, grouchy Mrs. Hess (Marian Seldes) gets the car. She gives it to her neighbor, Alex (Linz), just before the spies turn up. The spies rent a house in order to burglarize each house in the neighborhood until they locate the car. Home alone with the chicken pox, Alex calls 911 each time he spots a theft in progress, but the spies always manage to elude the police while Alex is accused of making prank calls. The spies finally turn their attentions toward Alex, unaware that he has rigged devices to cleverly booby-trap his entire house. Home Alone 3 wasn't horrible, but probably shouldn't have been made, you can't just replace Macauley Culkin, Joe Pesci, or Daniel Stern. Home Alone 3 had some funny parts, but I don't like when characters are changed in a movie series, view at own risk.\"\n",
      "0 b\"There's a good movie lurking here, but this isn't it. The basic idea is good: to explore the moral issues that would face a group of young survivors of the apocalypse. But the logic is so muddled that it's impossible to get involved.<br /><br />For example, our four heroes are (understandably) paranoid about catching the mysterious airborne contagion that's wiped out virtually all of mankind. Yet they wear surgical masks some times, not others. Some times they're fanatical about wiping down with bleach any area touched by an infected person. Other times, they seem completely unconcerned.<br /><br />Worse, after apparently surviving some weeks or months in this new kill-or-be-killed world, these people constantly behave like total newbs. They don't bother accumulating proper equipment, or food. They're forever running out of fuel in the middle of nowhere. They don't take elementary precautions when meeting strangers. And after wading through the rotting corpses of the entire human race, they're as squeamish as sheltered debutantes. You have to constantly wonder how they could have survived this long... and even if they did, why anyone would want to make a movie about them.<br /><br />So when these dweebs stop to agonize over the moral dimensions of their actions, it's impossible to take their soul-searching seriously. Their actions would first have to make some kind of minimal sense.<br /><br />On top of all this, we must contend with the dubious acting abilities of Chris Pine. His portrayal of an arrogant young James T Kirk might have seemed shrewd, when viewed in isolation. But in Carriers he plays on exactly that same note: arrogant and boneheaded. It's impossible not to suspect that this constitutes his entire dramatic range.<br /><br />On the positive side, the film *looks* excellent. It's got an over-sharp, saturated look that really suits the southwestern US locale. But that can't save the truly feeble writing nor the paper-thin (and annoying) characters. Even if you're a fan of the end-of-the-world genre, you should save yourself the agony of watching Carriers.\"\n",
      "0 b'I saw this movie at an actual movie theater (probably the $2.00 one) with my cousin and uncle. We were around 11 and 12, I guess, and really into scary movies. I remember being so excited to see it because my cool uncle let us pick the movie (and we probably never got to do that again!) and sooo disappointed afterwards!! Just boring and not scary. The only redeeming thing I can remember was Corky Pigeon from Silver Spoons, and that wasn\\'t all that great, just someone I recognized. I\\'ve seen bad movies before and this one has always stuck out in my mind as the worst. This was from what I can recall, one of the most boring, non-scary, waste of our collective $6, and a waste of film. I have read some of the reviews that say it is worth a watch and I say, \"Too each his own\", but I wouldn\\'t even bother. Not even so bad it\\'s good.'\n"
     ]
    }
   ],
   "source": [
    "for text_batch, label_batch in train_ds.take(1):\n",
    "  for i in range(5):\n",
    "    print(label_batch[i].numpy(), text_batch.numpy()[i])"
   ]
  },
  {
   "cell_type": "markdown",
   "metadata": {
    "id": "FHV2pchDhzDn"
   },
   "source": [
    "### 성능을위한 데이터 세트 구성\n",
    "\n",
    "이는 I / O가 차단되지 않도록 데이터를로드 할 때 사용해야하는 두 가지 중요한 방법입니다.\n",
    "\n",
    ".cache() 데이터가 디스크에서로드 된 후 메모리에 데이터를 보관합니다. 이렇게하면 모델을 학습하는 동안 데이터 세트가 병목 현상이 발생하지 않습니다. 데이터 세트가 너무 커서 메모리에 맞지 않는 경우이 방법을 사용하여 성능이 뛰어난 온 디스크 캐시를 생성 할 수도 있습니다. 이는 많은 작은 파일보다 읽기가 더 효율적입니다.\n",
    "\n",
    ".prefetch() 학습 중에 데이터 전처리 및 모델 실행과 겹칩니다."
   ]
  },
  {
   "cell_type": "code",
   "execution_count": 22,
   "metadata": {
    "execution": {
     "iopub.execute_input": "2021-01-13T04:09:32.284161Z",
     "iopub.status.busy": "2021-01-13T04:09:32.283401Z",
     "iopub.status.idle": "2021-01-13T04:09:32.286803Z",
     "shell.execute_reply": "2021-01-13T04:09:32.287252Z"
    },
    "id": "Oz6k1IW7h1TO"
   },
   "outputs": [],
   "source": [
    "AUTOTUNE = tf.data.AUTOTUNE\n",
    "\n",
    "train_ds = train_ds.cache().prefetch(buffer_size=AUTOTUNE)\n",
    "val_ds = val_ds.cache().prefetch(buffer_size=AUTOTUNE)"
   ]
  },
  {
   "cell_type": "markdown",
   "metadata": {
    "id": "eqBazMiVQkj1"
   },
   "source": [
    "### Embedding 레이어 사용\n",
    "\n",
    "Keras를 사용하면 단어 임베딩을 쉽게 사용할 수 있습니다. Embedding 레이어를 살펴보십시오.\n",
    "\n",
    "임베딩 레이어는 정수 인덱스 (특정 단어를 의미)에서 고밀도 벡터 (임베딩)로 매핑하는 조회 테이블로 이해할 수 있습니다. 임베딩의 차원 (또는 너비)은 Dense 레이어의 뉴런 수를 실험하는 것과 같은 방식으로 문제에 잘 맞는지 확인하기 위해 실험 할 수있는 매개 변수입니다.\n"
   ]
  },
  {
   "cell_type": "code",
   "execution_count": 23,
   "metadata": {
    "execution": {
     "iopub.execute_input": "2021-01-13T04:09:32.291492Z",
     "iopub.status.busy": "2021-01-13T04:09:32.290814Z",
     "iopub.status.idle": "2021-01-13T04:09:32.301978Z",
     "shell.execute_reply": "2021-01-13T04:09:32.301448Z"
    },
    "id": "-OjxLVrMvWUE"
   },
   "outputs": [],
   "source": [
    "# Embed a 1,000 word vocabulary into 5 dimensions.\n",
    "embedding_layer = tf.keras.layers.Embedding(1000, 5)"
   ]
  },
  {
   "cell_type": "markdown",
   "metadata": {
    "id": "2dKKV1L2Rk7e"
   },
   "source": [
    "Embedding 레이어를 만들면 다른 레이어와 마찬가지로 임베딩에 대한 가중치가 임의로 초기화됩니다. 훈련 중에 역 전파를 통해 점진적으로 조정됩니다. 학습 된 단어 임베딩은 모델이 학습 된 특정 문제에 대해 학습 된 것처럼 단어 간의 유사성을 대략적으로 인코딩합니다.\n",
    "\n",
    "임베딩 레이어에 정수를 전달하면 결과는 각 정수를 임베딩 테이블의 벡터로 대체합니다."
   ]
  },
  {
   "cell_type": "code",
   "execution_count": 24,
   "metadata": {
    "execution": {
     "iopub.execute_input": "2021-01-13T04:09:32.307339Z",
     "iopub.status.busy": "2021-01-13T04:09:32.306648Z",
     "iopub.status.idle": "2021-01-13T04:09:32.315475Z",
     "shell.execute_reply": "2021-01-13T04:09:32.314950Z"
    },
    "id": "0YUjPgP7w0PO"
   },
   "outputs": [
    {
     "data": {
      "text/plain": [
       "array([[-0.03925378,  0.03625094, -0.04450548, -0.02478501,  0.02606234],\n",
       "       [ 0.04069226, -0.02290428, -0.04640144,  0.03801124, -0.0055039 ],\n",
       "       [ 0.04059828,  0.02623153, -0.03168575,  0.03137945,  0.03904082]],\n",
       "      dtype=float32)"
      ]
     },
     "execution_count": 24,
     "metadata": {},
     "output_type": "execute_result"
    }
   ],
   "source": [
    "result = embedding_layer(tf.constant([1,2,3]))\n",
    "result.numpy()"
   ]
  },
  {
   "cell_type": "markdown",
   "metadata": {
    "id": "O4PC4QzsxTGx"
   },
   "source": [
    "텍스트 또는 시퀀스 문제의 경우 Embedding 레이어는 모양 (samples, sequence_length) 의 정수 2D 텐서를 사용하며, 여기서 각 항목은 정수 시퀀스입니다. 가변 길이의 시퀀스를 포함 할 수 있습니다. 모양 (32, 10) (길이 10의 32 시퀀스 배치) 또는 (64, 15) (길이 15의 64 시퀀스 배치 (64, 15) 배치 위의 임베딩 레이어로 공급할 수 있습니다.\n",
    "\n",
    "반환 된 텐서는 입력보다 축이 하나 더 많으며 임베딩 벡터는 새 마지막 축을 따라 정렬됩니다. (2, 3) 입력 배치를 전달하면 출력은 (2, 3, N)\n"
   ]
  },
  {
   "cell_type": "code",
   "execution_count": 25,
   "metadata": {
    "execution": {
     "iopub.execute_input": "2021-01-13T04:09:32.320306Z",
     "iopub.status.busy": "2021-01-13T04:09:32.319594Z",
     "iopub.status.idle": "2021-01-13T04:09:32.322874Z",
     "shell.execute_reply": "2021-01-13T04:09:32.323319Z"
    },
    "id": "vwSYepRjyRGy"
   },
   "outputs": [
    {
     "data": {
      "text/plain": [
       "TensorShape([2, 3, 5])"
      ]
     },
     "execution_count": 25,
     "metadata": {},
     "output_type": "execute_result"
    }
   ],
   "source": [
    "result = embedding_layer(tf.constant([[0,1,2],[3,4,5]]))\n",
    "result.shape"
   ]
  },
  {
   "cell_type": "markdown",
   "metadata": {
    "id": "WGQp2N92yOyB"
   },
   "source": [
    "시퀀스 배치가 입력으로 주어지면 임베딩 레이어는 (samples, sequence_length, embedding_dimensionality) 모양의 3D 부동 소수점 텐서를 반환합니다. 이 가변 길이 시퀀스에서 고정 표현으로 변환하려면 다양한 표준 접근 방식이 있습니다. Dense 레이어로 전달하기 전에 RNN, Attention 또는 풀링 레이어를 사용할 수 있습니다. 이 튜토리얼은 가장 간단하기 때문에 풀링을 사용합니다. RNN을 사용한 텍스트 분류 튜토리얼은 좋은 다음 단계입니다."
   ]
  },
  {
   "cell_type": "markdown",
   "metadata": {
    "id": "aGicgV5qT0wh"
   },
   "source": [
    "### 텍스트 전처리"
   ]
  },
  {
   "cell_type": "markdown",
   "metadata": {
    "id": "N6NZSqIIoU0Y"
   },
   "source": [
    "다음으로 감정 분류 모델에 필요한 데이터 세트 전처리 단계를 정의합니다. 원하는 매개 변수로 TextVectorization 레이어를 초기화하여 영화 리뷰를 벡터화합니다. 텍스트 분류 튜토리얼에서이 레이어 사용에 대해 자세히 알아볼 수 있습니다."
   ]
  },
  {
   "cell_type": "code",
   "execution_count": 27,
   "metadata": {
    "execution": {
     "iopub.execute_input": "2021-01-13T04:09:32.345692Z",
     "iopub.status.busy": "2021-01-13T04:09:32.342229Z",
     "iopub.status.idle": "2021-01-13T04:09:35.492916Z",
     "shell.execute_reply": "2021-01-13T04:09:35.493403Z"
    },
    "id": "2MlsXzo-ZlfK"
   },
   "outputs": [],
   "source": [
    "def custom_standardization(input_data):\n",
    "  lowercase = tf.strings.lower(input_data)\n",
    "  stripped_html = tf.strings.regex_replace(lowercase, '<br />', ' ')\n",
    "  return tf.strings.regex_replace(stripped_html,\n",
    "                                  '[%s]' % re.escape(string.punctuation), '')\n",
    "\n",
    "vocab_size = 10000\n",
    "sequence_length = 100\n",
    "\n",
    "vectorize_layer = TextVectorization(\n",
    "    standardize=custom_standardization,\n",
    "    max_tokens=vocab_size,\n",
    "    output_mode='int',\n",
    "    output_sequence_length=sequence_length)\n",
    "\n",
    "text_ds = train_ds.map(lambda x, y: x)\n",
    "vectorize_layer.adapt(text_ds)"
   ]
  },
  {
   "cell_type": "markdown",
   "metadata": {
    "id": "zI9_wLIiWO8Z"
   },
   "source": [
    "### 분류 모델 만들기\n",
    "\n",
    "Keras Sequential API 를 사용하여 감정 분류 모델을 정의합니다. 이 경우 \"연속 단어 모음\"스타일 모델입니다.\n",
    "\n",
    "- TextVectorization 레이어는 문자열을 어휘 색인으로 변환합니다. 이미 vectorize_layer 를 TextVectorization 레이어로 초기화했으며 text_ds adapt 를 호출 adapt 어휘를 구축했습니다. 이제 vectorize_layer를 종단 간 분류 모델의 첫 번째 계층으로 사용하여 변형 된 문자열을 Embedding 계층에 공급할 수 있습니다.\n",
    "\n",
    "- Embedding 레이어는 정수로 인코딩 된 어휘를 가져와 각 단어 인덱스에 대한 임베딩 벡터를 찾습니다. 이러한 벡터는 모델 학습으로 학습됩니다. 벡터는 출력 배열에 차원을 추가합니다. 결과 차원은 다음과 같습니다. (batch, sequence, embedding) .\n",
    "\n",
    "- GlobalAveragePooling1D 계층은 시퀀스 차원을 평균화하여 각 예제에 대해 고정 길이 출력 벡터를 반환합니다. 이를 통해 모델은 가능한 가장 간단한 방법으로 가변 길이 입력을 처리 할 수 ​​있습니다.\n",
    "\n",
    "- 고정 길이 출력 벡터는 16 개의 은닉 유닛이있는 완전 연결 ( Dense ) 계층을 통해 파이프됩니다.\n",
    "\n",
    "- 마지막 레이어는 단일 출력 노드와 조밀하게 연결됩니다.\n",
    "\n",
    "주의 : 이 모델은 마스킹을 사용하지 않으므로 제로 패딩이 입력의 일부로 사용되므로 패딩 길이가 출력에 영향을 미칠 수 있습니다. 이 문제를 해결하려면 마스킹 및 패딩 가이드를 참조하세요."
   ]
  },
  {
   "cell_type": "code",
   "execution_count": 28,
   "metadata": {
    "execution": {
     "iopub.execute_input": "2021-01-13T04:09:35.510031Z",
     "iopub.status.busy": "2021-01-13T04:09:35.509235Z",
     "iopub.status.idle": "2021-01-13T04:09:35.514781Z",
     "shell.execute_reply": "2021-01-13T04:09:35.514166Z"
    },
    "id": "pHLcFtn5Wsqj"
   },
   "outputs": [],
   "source": [
    "embedding_dim=16\n",
    "\n",
    "model = Sequential([\n",
    "  vectorize_layer,\n",
    "  Embedding(vocab_size, embedding_dim, name=\"embedding\"),\n",
    "  GlobalAveragePooling1D(),\n",
    "  Dense(16, activation='relu'),\n",
    "  Dense(1)\n",
    "])"
   ]
  },
  {
   "cell_type": "markdown",
   "metadata": {
    "id": "JjLNgKO7W2fe"
   },
   "source": [
    "### 모델 컴파일 및 훈련"
   ]
  },
  {
   "cell_type": "markdown",
   "metadata": {
    "id": "jpX9etB6IOQd"
   },
   "source": [
    "TensorBoard 를 사용하여 손실 및 정확도를 포함한 메트릭을 시각화합니다. tf.keras.callbacks.TensorBoard 만듭니다."
   ]
  },
  {
   "cell_type": "code",
   "execution_count": 29,
   "metadata": {
    "execution": {
     "iopub.execute_input": "2021-01-13T04:09:35.520770Z",
     "iopub.status.busy": "2021-01-13T04:09:35.520091Z",
     "iopub.status.idle": "2021-01-13T04:09:35.522572Z",
     "shell.execute_reply": "2021-01-13T04:09:35.521972Z"
    },
    "id": "W4Hg3IHFt4Px"
   },
   "outputs": [],
   "source": [
    "tensorboard_callback = tf.keras.callbacks.TensorBoard(log_dir=\"logs\")"
   ]
  },
  {
   "cell_type": "markdown",
   "metadata": {
    "id": "7OrKAKAKIbuH"
   },
   "source": [
    "Adam 최적화 프로그램과 BinaryCrossentropy 손실을 사용하여 모델을 컴파일하고 훈련합니다."
   ]
  },
  {
   "cell_type": "code",
   "execution_count": 30,
   "metadata": {
    "execution": {
     "iopub.execute_input": "2021-01-13T04:09:35.537946Z",
     "iopub.status.busy": "2021-01-13T04:09:35.537179Z",
     "iopub.status.idle": "2021-01-13T04:09:35.547747Z",
     "shell.execute_reply": "2021-01-13T04:09:35.548233Z"
    },
    "id": "lCUgdP69Wzix"
   },
   "outputs": [],
   "source": [
    "model.compile(optimizer='adam',\n",
    "              loss=tf.keras.losses.BinaryCrossentropy(from_logits=True),\n",
    "              metrics=['accuracy'])"
   ]
  },
  {
   "cell_type": "code",
   "execution_count": 31,
   "metadata": {
    "execution": {
     "iopub.execute_input": "2021-01-13T04:09:35.553172Z",
     "iopub.status.busy": "2021-01-13T04:09:35.552452Z",
     "iopub.status.idle": "2021-01-13T04:10:00.939480Z",
     "shell.execute_reply": "2021-01-13T04:10:00.938836Z"
    },
    "id": "5mQehiQyv8rP"
   },
   "outputs": [
    {
     "name": "stdout",
     "output_type": "stream",
     "text": [
      "Epoch 1/15\n",
      "20/20 [==============================] - 3s 130ms/step - loss: 0.6929 - accuracy: 0.4987 - val_loss: 0.6917 - val_accuracy: 0.4886\n",
      "Epoch 2/15\n",
      "20/20 [==============================] - 2s 79ms/step - loss: 0.6910 - accuracy: 0.4987 - val_loss: 0.6880 - val_accuracy: 0.4886\n",
      "Epoch 3/15\n",
      "20/20 [==============================] - 2s 78ms/step - loss: 0.6867 - accuracy: 0.4987 - val_loss: 0.6813 - val_accuracy: 0.4886\n",
      "Epoch 4/15\n",
      "20/20 [==============================] - 2s 78ms/step - loss: 0.6790 - accuracy: 0.4987 - val_loss: 0.6703 - val_accuracy: 0.4886\n",
      "Epoch 5/15\n",
      "20/20 [==============================] - 2s 79ms/step - loss: 0.6669 - accuracy: 0.4988 - val_loss: 0.6558 - val_accuracy: 0.4894\n",
      "Epoch 6/15\n",
      "20/20 [==============================] - 2s 78ms/step - loss: 0.6505 - accuracy: 0.5077 - val_loss: 0.6377 - val_accuracy: 0.5340\n",
      "Epoch 7/15\n",
      "20/20 [==============================] - 2s 81ms/step - loss: 0.6299 - accuracy: 0.5729 - val_loss: 0.6166 - val_accuracy: 0.6148\n",
      "Epoch 8/15\n",
      "20/20 [==============================] - 2s 78ms/step - loss: 0.6055 - accuracy: 0.6634 - val_loss: 0.5934 - val_accuracy: 0.6738\n",
      "Epoch 9/15\n",
      "20/20 [==============================] - 2s 78ms/step - loss: 0.5786 - accuracy: 0.7289 - val_loss: 0.5694 - val_accuracy: 0.7210\n",
      "Epoch 10/15\n",
      "20/20 [==============================] - 2s 78ms/step - loss: 0.5505 - accuracy: 0.7669 - val_loss: 0.5456 - val_accuracy: 0.7452\n",
      "Epoch 11/15\n",
      "20/20 [==============================] - 2s 78ms/step - loss: 0.5223 - accuracy: 0.7917 - val_loss: 0.5227 - val_accuracy: 0.7636\n",
      "Epoch 12/15\n",
      "20/20 [==============================] - 2s 80ms/step - loss: 0.4948 - accuracy: 0.8119 - val_loss: 0.5015 - val_accuracy: 0.7738\n",
      "Epoch 13/15\n",
      "20/20 [==============================] - 2s 79ms/step - loss: 0.4686 - accuracy: 0.8242 - val_loss: 0.4820 - val_accuracy: 0.7834\n",
      "Epoch 14/15\n",
      "20/20 [==============================] - 2s 78ms/step - loss: 0.4438 - accuracy: 0.8331 - val_loss: 0.4639 - val_accuracy: 0.7898\n",
      "Epoch 15/15\n",
      "20/20 [==============================] - 2s 78ms/step - loss: 0.4198 - accuracy: 0.8423 - val_loss: 0.4476 - val_accuracy: 0.7958\n"
     ]
    },
    {
     "data": {
      "text/plain": [
       "<tensorflow.python.keras.callbacks.History at 0x1cf4efe5d60>"
      ]
     },
     "execution_count": 31,
     "metadata": {},
     "output_type": "execute_result"
    }
   ],
   "source": [
    "model.fit(\n",
    "    train_ds,\n",
    "    validation_data=val_ds, \n",
    "    epochs=15,\n",
    "    callbacks=[tensorboard_callback])"
   ]
  },
  {
   "cell_type": "markdown",
   "metadata": {
    "id": "1wYnVedSPfmX"
   },
   "source": [
    "이 접근 방식을 사용하면 모델이 약 84 %의 검증 정확도에 도달합니다 (학습 정확도가 더 높기 때문에 모델이 과적 합된다는 점에 유의하십시오).\n",
    "\n",
    "참고 : 임베딩 레이어를 훈련하기 전에 가중치가 무작위로 초기화 된 방식에 따라 결과가 약간 다를 수 있습니다.\n",
    "\n",
    "모델 요약을 살펴보고 모델의 각 계층에 대해 자세히 알아볼 수 있습니다."
   ]
  },
  {
   "cell_type": "code",
   "execution_count": 32,
   "metadata": {
    "execution": {
     "iopub.execute_input": "2021-01-13T04:10:00.945328Z",
     "iopub.status.busy": "2021-01-13T04:10:00.944605Z",
     "iopub.status.idle": "2021-01-13T04:10:00.949159Z",
     "shell.execute_reply": "2021-01-13T04:10:00.948611Z"
    },
    "id": "mDCgjWyq_0dc"
   },
   "outputs": [
    {
     "name": "stdout",
     "output_type": "stream",
     "text": [
      "Model: \"sequential_2\"\n",
      "_________________________________________________________________\n",
      "Layer (type)                 Output Shape              Param #   \n",
      "=================================================================\n",
      "text_vectorization_2 (TextVe (None, 100)               0         \n",
      "_________________________________________________________________\n",
      "embedding (Embedding)        (None, 100, 16)           160000    \n",
      "_________________________________________________________________\n",
      "global_average_pooling1d_2 ( (None, 16)                0         \n",
      "_________________________________________________________________\n",
      "dense_4 (Dense)              (None, 16)                272       \n",
      "_________________________________________________________________\n",
      "dense_5 (Dense)              (None, 1)                 17        \n",
      "=================================================================\n",
      "Total params: 160,289\n",
      "Trainable params: 160,289\n",
      "Non-trainable params: 0\n",
      "_________________________________________________________________\n"
     ]
    }
   ],
   "source": [
    "model.summary()"
   ]
  },
  {
   "cell_type": "markdown",
   "metadata": {
    "id": "hiQbOJZ2WBFY"
   },
   "source": [
    "TensorBoard에서 모델 측정 항목을 시각화합니다."
   ]
  },
  {
   "cell_type": "code",
   "execution_count": null,
   "metadata": {
    "id": "_Uanp2YH8RzU"
   },
   "outputs": [],
   "source": [
    "%load_ext tensorboard\n",
    "%tensorboard --logdir logs"
   ]
  },
  {
   "cell_type": "markdown",
   "metadata": {
    "id": "QvURkGVpXDOy"
   },
   "source": [
    "![embeddings_classifier_accuracy.png](https://www.tensorflow.org/tutorials/text/images/embeddings_classifier_accuracy.png)"
   ]
  },
  {
   "cell_type": "markdown",
   "metadata": {
    "id": "KCoA6qwqP836"
   },
   "source": [
    "## 훈련 된 단어 임베딩을 검색하여 디스크에 저장\n",
    "\n",
    "다음으로 훈련 중에 학습 한 단어 임베딩을 검색합니다. 임베딩은 모델에있는 임베딩 레이어의 가중치입니다. 가중치 행렬은 형태 (vocab_size, embedding_dimension) 입니다."
   ]
  },
  {
   "cell_type": "markdown",
   "metadata": {
    "id": "Zp5rv01WG2YA"
   },
   "source": [
    "get_layer() 및 get_weights() 사용하여 모델에서 가중치를 얻습니다. get_vocabulary() 함수는 한 줄에 하나의 토큰으로 메타 데이터 파일을 빌드하기위한 어휘를 제공합니다."
   ]
  },
  {
   "cell_type": "code",
   "execution_count": 34,
   "metadata": {
    "execution": {
     "iopub.execute_input": "2021-01-13T04:10:00.954426Z",
     "iopub.status.busy": "2021-01-13T04:10:00.953719Z",
     "iopub.status.idle": "2021-01-13T04:10:00.969888Z",
     "shell.execute_reply": "2021-01-13T04:10:00.969296Z"
    },
    "id": "_Uamp1YH8RzU"
   },
   "outputs": [],
   "source": [
    "weights = model.get_layer('embedding').get_weights()[0]\n",
    "vocab = vectorize_layer.get_vocabulary()"
   ]
  },
  {
   "cell_type": "markdown",
   "metadata": {
    "id": "J8MiCA77X8B8"
   },
   "source": [
    "디스크에 가중치를 씁니다. Embedding Projector 를 사용하려면 벡터 파일 (임베딩 포함)과 메타 데이터 파일 (단어 포함)의 두 파일을 탭으로 구분 된 형식으로 업로드합니다."
   ]
  },
  {
   "cell_type": "code",
   "execution_count": 36,
   "metadata": {
    "execution": {
     "iopub.execute_input": "2021-01-13T04:10:00.975706Z",
     "iopub.status.busy": "2021-01-13T04:10:00.974988Z",
     "iopub.status.idle": "2021-01-13T04:10:01.112373Z",
     "shell.execute_reply": "2021-01-13T04:10:01.112873Z"
    },
    "id": "VLIahl9s53XT"
   },
   "outputs": [],
   "source": [
    "out_v = io.open('vectors.tsv', 'w', encoding='utf-8')\n",
    "out_m = io.open('metadata.tsv', 'w', encoding='utf-8')\n",
    "\n",
    "for index, word in enumerate(vocab):\n",
    "  if  index == 0: continue # skip 0, it's padding.\n",
    "  vec = weights[index] \n",
    "  out_v.write('\\t'.join([str(x) for x in vec]) + \"\\n\")\n",
    "  out_m.write(word + \"\\n\")\n",
    "out_v.close()\n",
    "out_m.close()"
   ]
  },
  {
   "cell_type": "code",
   "execution_count": 37,
   "metadata": {
    "execution": {
     "iopub.execute_input": "2021-01-13T04:10:01.118153Z",
     "iopub.status.busy": "2021-01-13T04:10:01.117410Z",
     "iopub.status.idle": "2021-01-13T04:10:01.119783Z",
     "shell.execute_reply": "2021-01-13T04:10:01.119280Z"
    },
    "id": "lUsjQOKMIV2z"
   },
   "outputs": [],
   "source": [
    "try:\n",
    "  from google.colab import files\n",
    "  files.download('vectors.tsv')\n",
    "  files.download('metadata.tsv')\n",
    "except Exception as e:\n",
    "  pass"
   ]
  }
 ],
 "metadata": {
  "accelerator": "GPU",
  "colab": {
   "collapsed_sections": [],
   "name": "word_embeddings.ipynb",
   "toc_visible": true
  },
  "kernelspec": {
   "display_name": "Python 3",
   "language": "python",
   "name": "python3"
  },
  "language_info": {
   "codemirror_mode": {
    "name": "ipython",
    "version": 3
   },
   "file_extension": ".py",
   "mimetype": "text/x-python",
   "name": "python",
   "nbconvert_exporter": "python",
   "pygments_lexer": "ipython3",
   "version": "3.8.5"
  }
 },
 "nbformat": 4,
 "nbformat_minor": 1
}
