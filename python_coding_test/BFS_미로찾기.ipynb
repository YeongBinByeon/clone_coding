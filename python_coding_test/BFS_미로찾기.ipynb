{
 "cells": [
  {
   "cell_type": "code",
   "execution_count": 3,
   "metadata": {},
   "outputs": [],
   "source": [
    "from collections import deque"
   ]
  },
  {
   "cell_type": "code",
   "execution_count": 9,
   "metadata": {},
   "outputs": [
    {
     "name": "stdout",
     "output_type": "stream",
     "text": [
      "5 6\n",
      "101010\n",
      "111111\n",
      "000001\n",
      "111111\n",
      "111111\n",
      "0 0 1\n",
      "1 0 2\n",
      "1 1 3\n",
      "1 2 4\n",
      "0 2 5\n",
      "1 3 5\n",
      "1 4 6\n",
      "0 4 7\n",
      "1 5 7\n",
      "2 5 8\n",
      "3 5 9\n",
      "4 5 10\n",
      "3 4 10\n",
      "4 4 11\n",
      "3 3 11\n",
      "4 3 12\n",
      "3 2 12\n",
      "4 2 13\n",
      "3 1 13\n",
      "4 1 14\n",
      "3 0 14\n",
      "4 0 15\n",
      "10\n",
      "[[1, 0, 5, 0, 7, 0], [2, 3, 4, 5, 6, 7], [0, 0, 0, 0, 0, 8], [14, 13, 12, 11, 10, 9], [15, 14, 13, 12, 11, 10]]\n"
     ]
    }
   ],
   "source": [
    "queue = deque()\n",
    "queue\n",
    "\n",
    "N,M = map(int, input().split())\n",
    "\n",
    "maze = [ list(map(int, input())) for _ in range(N) ]\n",
    "visit_maze = [ [False]*M for _ in range(N) ]\n",
    "maze\n",
    "\n",
    "# 동빈이의 위치는 (1,1) 이며 미로의 출구는 (N,M)의 위치에 존재하며 한 번에 한 칸씩 이동할 수 있다.\n",
    "# 괴물이 있는 부분은 0, 괴물이 없는 부분은 1로 표시되어 있다.\n",
    "\n",
    "def bfs(x,y,cnt):\n",
    "    maze[x][y] = cnt\n",
    "    visit_maze[x][y] = True\n",
    "    \n",
    "    queue.append((x,y,cnt))\n",
    "    \n",
    "    while len(queue) != 0:\n",
    "        \n",
    "        x,y,cnt = queue.popleft()\n",
    "        print(x,y,cnt)\n",
    "        \n",
    "        for dx,dy in [[1,0],[-1,0],[0,1],[0,-1]]:\n",
    "            nx, ny, n_cnt = x+dx, y+dy, cnt+1\n",
    "            if nx<0 or ny <0 or nx>=N or ny >=M:\n",
    "                continue\n",
    "            \n",
    "            if maze[nx][ny] == 0 or visit_maze[nx][ny] == True:\n",
    "                continue\n",
    "            elif maze[nx][ny] == 1 and visit_maze[nx][ny] == False:\n",
    "                maze[nx][ny] = n_cnt\n",
    "                visit_maze[nx][ny]=True\n",
    "                queue.append((nx,ny,n_cnt))\n",
    "            else:\n",
    "                print(\"Exception case exist\")\n",
    "bfs(0,0,1)\n",
    "print(maze[N-1][M-1])\n",
    "print(maze)\n",
    "        \n",
    "\n"
   ]
  },
  {
   "cell_type": "code",
   "execution_count": null,
   "metadata": {},
   "outputs": [],
   "source": [
    "tt = list(map(int, input()))\n",
    "tt\n",
    "visit_maze = [ [False]*M for _ in range(N) ]\n",
    "visit_maze"
   ]
  }
 ],
 "metadata": {
  "kernelspec": {
   "display_name": "Python 3",
   "language": "python",
   "name": "python3"
  }
 },
 "nbformat": 4,
 "nbformat_minor": 2
}
