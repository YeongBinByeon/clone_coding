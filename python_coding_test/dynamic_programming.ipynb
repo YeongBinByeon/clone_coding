{
 "cells": [
  {
   "cell_type": "code",
   "execution_count": null,
   "metadata": {},
   "outputs": [],
   "source": [
    "# 피보나치 수열 탑다운 방식으로 DP (재귀함수)\n",
    "\n",
    "# 한 번 계산된 결과를 메모이제이션하기 위한 리스트 초기화\n",
    "d = [0] * 21\n",
    "\n",
    "def fibo(x):\n",
    "    #print('f(' + str(x) + ')', end=' ')\n",
    "    if x == 1 or x == 2:\n",
    "        return 1\n",
    "    \n",
    "    # 이미 계산한 적 있는 문제라면 그대로 반환\n",
    "    if d[x] != 0 :\n",
    "        return d[x]\n",
    "    \n",
    "    #아직 계산하지 않은 문제라면 점화식에 따라서 피보나치 결과 반환\n",
    "    d[x] = fibo(x-1) + fibo(x-2)\n",
    "    return d[x]\n",
    "fibo(20)\n",
    "for i in range(1,21):\n",
    "    print(d[i] , end=' ')"
   ]
  },
  {
   "cell_type": "code",
   "execution_count": null,
   "metadata": {},
   "outputs": [],
   "source": [
    "# 피보나치 수열 바텀업 방식으로 DP (반복문)\n",
    "\n",
    "d = [0] * 100\n",
    "\n",
    "d[1] = 1\n",
    "d[2] = 1\n",
    "n = 99\n",
    "\n",
    "for i in range(3, n+1):\n",
    "    d[i] = d[i-1] + d[i-2]\n",
    "print(d[n])"
   ]
  },
  {
   "cell_type": "code",
   "execution_count": 2,
   "metadata": {},
   "outputs": [
    {
     "name": "stdout",
     "output_type": "stream",
     "text": [
      "26\n",
      "3  4  4  3  2  3  4  3  5  4  3  2  1  12  11  10  9  8  7  6  5  4  3  2  1  0  "
     ]
    }
   ],
   "source": [
    "# 문제 : 1로 만들기 (내가 짠 탑다운 코드)\n",
    "# 메모이제이션 방식을 사용하였음. 답은 나오지만 정석적으로 d[n] = min(d[n/5], d[n/3], d[n/2], d[n-1]) + 1\n",
    "# 모든 index에 대한 답을 구하고 있지는 않음.\n",
    "\n",
    "X = int(input())\n",
    "INF = 111111111\n",
    "dp_table = [INF] * (X+1)\n",
    "dp_table[X] = 0\n",
    "#dp_table[1] \n",
    "\n",
    "def func(x, nextIndex):\n",
    "    if dp_table[nextIndex] == INF or dp_table[nextIndex] > dp_table[x] + 1:\n",
    "        dp_table[nextIndex] = dp_table[x] + 1\n",
    "        make_number_1(nextIndex)\n",
    "\n",
    "def make_number_1(x):\n",
    "    if x == 1:\n",
    "        return\n",
    "    \n",
    "    if x % 5 == 0:\n",
    "        nextIndex = int(x/5)\n",
    "        func(x, nextIndex)\n",
    "\n",
    "\n",
    "    if x % 3 == 0:\n",
    "        nextIndex = int(x/3)\n",
    "        func(x, nextIndex)\n",
    "\n",
    "        \n",
    "    if x % 2 == 0:\n",
    "        nextIndex = int(x/2)\n",
    "        func(x, nextIndex)\n",
    "\n",
    "    \n",
    "    #print('***')\n",
    "    #print('x -> x-1 :' + str(x) + ' ' + str(x-1))\n",
    "    nextIndex = int(x-1)\n",
    "    func(x, nextIndex)\n",
    "    \n",
    "make_number_1(X)\n",
    "\n",
    "for i in range (1,len(dp_table)):\n",
    "    print(str(dp_table[i]) + \" \", end=' ')"
   ]
  },
  {
   "cell_type": "code",
   "execution_count": 5,
   "metadata": {},
   "outputs": [
    {
     "name": "stdout",
     "output_type": "stream",
     "text": [
      "26\n",
      "aa : 1 3\n",
      "aa : 2 6\n",
      "aa : 3 9\n",
      "aa : 4 12\n",
      "aa : 5 15\n",
      "aa : 6 18\n",
      "aa : 7 21\n",
      "aa : 8 24\n",
      "0  1  1  2  1  2  3  3  2  2  3  3  4  4  2  3  4  3  4  3  4  4  5  4  2  3  "
     ]
    }
   ],
   "source": [
    "# 문제 : 1로 만들기 (내가 짠 탑다운 코드)\n",
    "# 점화식 : d[n] = min(d[n/5], d[n/3], d[n/2], d[n-1]) + 1\n",
    "\n",
    "X = int(input())\n",
    "\n",
    "dp_table = [0] * (X+1)\n",
    "\n",
    "\n",
    "def make_number_1(x):\n",
    "    #print(x)\n",
    "    if x <= 1:\n",
    "        return dp_table[x]\n",
    "    if dp_table[x] != 0:\n",
    "        return dp_table[x]\n",
    "\n",
    "    \n",
    "    if x % 5 == 0:\n",
    "        nextIndex = int(x/5)\n",
    "        dp_table[x] = min(make_number_1(nextIndex), make_number_1(x-1)) + 1\n",
    "        #return dp_table[x]\n",
    "\n",
    "\n",
    "    if x % 3 == 0:\n",
    "        nextIndex = int(x/3)\n",
    "        print(\"aa : \" + str(nextIndex) + \" \" + str(x))\n",
    "        dp_table[x] =  min(make_number_1(nextIndex), make_number_1(x-1)) + 1\n",
    "        #return dp_table[x]\n",
    "\n",
    "        \n",
    "    if x % 2 == 0:\n",
    "        nextIndex = int(x/2)\n",
    "        dp_table[x] =  min(make_number_1(nextIndex), make_number_1(x-1)) + 1\n",
    "        #return dp_table[x]\n",
    "    \n",
    "    if dp_table[x] == 0:\n",
    "        dp_table[x] = dp_table[x-1] + 1\n",
    "        #return dp_table[x]\n",
    "    \n",
    "\n",
    "for i in range(2,X+1):\n",
    "    make_number_1(i)\n",
    "\n",
    "\n",
    "for i in range (1,len(dp_table)):\n",
    "    print(str(dp_table[i]) + \" \", end=' ')"
   ]
  },
  {
   "cell_type": "code",
   "execution_count": 2,
   "metadata": {},
   "outputs": [
    {
     "name": "stdout",
     "output_type": "stream",
     "text": [
      "26\n",
      "0  1  1  2  1  2  3  3  2  2  3  3  4  4  2  3  4  3  4  3  4  4  5  4  2  3  "
     ]
    }
   ],
   "source": [
    "# 문제 : 1로 만들기 (내가 짠 바텀업 코드)\n",
    "\n",
    "x = int(input())\n",
    "d = [0] * (x+1)\n",
    "\n",
    "def func(x):\n",
    "    a,b,c,e = 100000,100000,100000,100000\n",
    "    if x % 5 == 0:\n",
    "        a = d[int(x/5)] + 1\n",
    "        pass\n",
    "    if x % 3 == 0:\n",
    "        b = d[int(x/3)] + 1\n",
    "        pass\n",
    "    if x % 2 == 0:\n",
    "        c = d[int(x/2)] + 1\n",
    "        pass\n",
    "    e = d[x-1] + 1\n",
    "    \n",
    "    d[x] = min(a,b,c,e)\n",
    "\n",
    "for i in range(2,x+1):\n",
    "    func(i)\n",
    "\n",
    "for i in range (1,len(d)):\n",
    "    print(str(d[i]) + \" \", end=' ')\n",
    "    "
   ]
  }
 ],
 "metadata": {
  "kernelspec": {
   "display_name": "Python 3",
   "language": "python",
   "name": "python3"
  },
  "language_info": {
   "codemirror_mode": {
    "name": "ipython",
    "version": 3
   },
   "file_extension": ".py",
   "mimetype": "text/x-python",
   "name": "python",
   "nbconvert_exporter": "python",
   "pygments_lexer": "ipython3",
   "version": "3.6.9"
  }
 },
 "nbformat": 4,
 "nbformat_minor": 2
}
