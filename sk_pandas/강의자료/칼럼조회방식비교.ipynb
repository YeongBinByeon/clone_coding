{
 "cells": [
  {
   "cell_type": "markdown",
   "metadata": {
    "colab_type": "text",
    "id": "cQZGd0MP6oTj"
   },
   "source": [
    "# 칼럼 조회할때 .보다는 [ ]을 사용을 권장함\n",
    "\n",
    "### 이유\n",
    "\n",
    "1. 칼럼명에 스페이스가 들어가도 된다\n",
    "1. 칼럼명이 메소드명과 동일해도 된다\n",
    "1. 변수와 함께 사용할 수 있다\n",
    "1. 칼럼명이 문자가 아니라도 된다\n",
    "1. 새로운 칼럼을 선언할 수 있다\n",
    "1. 여러 칼럼을 동시에 조회할 수 있다\n",
    "1. . 을 통한 조회는 []을 통한 조회의 부분집합이다(일부분의 기능만 가져옴)\n",
    "1. 항상 사용가능한 방법을 쓰는것이 낫다\n",
    "1. 파이썬에서 원소를 조회하는 일반적인 방법이 [] 이다"
   ]
  },
  {
   "cell_type": "code",
   "execution_count": 0,
   "metadata": {
    "colab": {},
    "colab_type": "code",
    "id": "r7tKdE8R6oTm"
   },
   "outputs": [],
   "source": [
    "import pandas as pd\n",
    "df = pd.DataFrame({'name': ['Niko', 'Penelope', 'Aria'],\n",
    "                   'average score': [10, 5, 3],\n",
    "                   'max': [99, 100, 3]})\n",
    "df"
   ]
  },
  {
   "cell_type": "markdown",
   "metadata": {
    "colab_type": "text",
    "id": "M5ofC1M66oTq"
   },
   "source": [
    "## 1. 칼럼명에 스페이스가 들어가도 된다"
   ]
  },
  {
   "cell_type": "code",
   "execution_count": 0,
   "metadata": {
    "colab": {},
    "colab_type": "code",
    "id": "eH3-_tQo6oTr"
   },
   "outputs": [],
   "source": [
    "df.name"
   ]
  },
  {
   "cell_type": "code",
   "execution_count": 0,
   "metadata": {
    "colab": {},
    "colab_type": "code",
    "id": "CkJ6BO4F6oTu"
   },
   "outputs": [],
   "source": [
    "df.average score"
   ]
  },
  {
   "cell_type": "code",
   "execution_count": 0,
   "metadata": {
    "colab": {},
    "colab_type": "code",
    "id": "072mnv6L6oTw"
   },
   "outputs": [],
   "source": [
    "df['average score']"
   ]
  },
  {
   "cell_type": "markdown",
   "metadata": {
    "colab_type": "text",
    "id": "rNueduyh6oTy"
   },
   "source": [
    "## 2. 칼럼명이 메소드명과 동일해도 된다"
   ]
  },
  {
   "cell_type": "code",
   "execution_count": 0,
   "metadata": {
    "colab": {},
    "colab_type": "code",
    "id": "s9Mau35_6oTz"
   },
   "outputs": [],
   "source": [
    "df"
   ]
  },
  {
   "cell_type": "code",
   "execution_count": 0,
   "metadata": {
    "colab": {},
    "colab_type": "code",
    "id": "N7nJmnYa6oT1"
   },
   "outputs": [],
   "source": [
    "df.max"
   ]
  },
  {
   "cell_type": "code",
   "execution_count": 0,
   "metadata": {
    "colab": {},
    "colab_type": "code",
    "id": "yjDQV7Jk6oT3"
   },
   "outputs": [],
   "source": [
    "df['max']"
   ]
  },
  {
   "cell_type": "markdown",
   "metadata": {
    "colab_type": "text",
    "id": "zxRH-jKu6oT5"
   },
   "source": [
    "## 3. 변수와 함께 사용할 수 있다"
   ]
  },
  {
   "cell_type": "code",
   "execution_count": 0,
   "metadata": {
    "colab": {},
    "colab_type": "code",
    "id": "yV5HrPUT6oT6"
   },
   "outputs": [],
   "source": [
    "col = 'name'"
   ]
  },
  {
   "cell_type": "code",
   "execution_count": 0,
   "metadata": {
    "colab": {},
    "colab_type": "code",
    "id": "6RCjztbF6oT8"
   },
   "outputs": [],
   "source": [
    "df.col"
   ]
  },
  {
   "cell_type": "code",
   "execution_count": 0,
   "metadata": {
    "colab": {},
    "colab_type": "code",
    "id": "iIKvhaMz6oT-"
   },
   "outputs": [],
   "source": [
    "df[col]"
   ]
  },
  {
   "cell_type": "markdown",
   "metadata": {
    "colab_type": "text",
    "id": "pflZU-6d6oUA"
   },
   "source": [
    "## 4. 칼럼명이 문자가 아니라도 된다"
   ]
  },
  {
   "cell_type": "code",
   "execution_count": 0,
   "metadata": {
    "colab": {},
    "colab_type": "code",
    "id": "1iAuTh_56oUB"
   },
   "outputs": [],
   "source": [
    "df[0] = 5"
   ]
  },
  {
   "cell_type": "code",
   "execution_count": 0,
   "metadata": {
    "colab": {},
    "colab_type": "code",
    "id": "BbuAWoIs6oUD"
   },
   "outputs": [],
   "source": [
    "df"
   ]
  },
  {
   "cell_type": "code",
   "execution_count": 0,
   "metadata": {
    "colab": {},
    "colab_type": "code",
    "id": "UntJVWhj6oUF"
   },
   "outputs": [],
   "source": [
    "df.0"
   ]
  },
  {
   "cell_type": "code",
   "execution_count": 0,
   "metadata": {
    "colab": {},
    "colab_type": "code",
    "id": "JVLbPchV6oUH"
   },
   "outputs": [],
   "source": [
    "df[0]"
   ]
  },
  {
   "cell_type": "markdown",
   "metadata": {
    "colab_type": "text",
    "id": "YUIcD0pi6oUJ"
   },
   "source": [
    "## 5. 새로운 칼럼을 선언할 수 있다"
   ]
  },
  {
   "cell_type": "code",
   "execution_count": 0,
   "metadata": {
    "colab": {},
    "colab_type": "code",
    "id": "F3lX2rqa6oUK"
   },
   "outputs": [],
   "source": [
    "df.new_col = 5"
   ]
  },
  {
   "cell_type": "code",
   "execution_count": 0,
   "metadata": {
    "colab": {},
    "colab_type": "code",
    "id": "kaffXm-D6oUM"
   },
   "outputs": [],
   "source": [
    "df"
   ]
  },
  {
   "cell_type": "code",
   "execution_count": 0,
   "metadata": {
    "colab": {},
    "colab_type": "code",
    "id": "voD3E2XY6oUO"
   },
   "outputs": [],
   "source": [
    "df['new_col'] = 99"
   ]
  },
  {
   "cell_type": "code",
   "execution_count": 0,
   "metadata": {
    "colab": {},
    "colab_type": "code",
    "id": "biA9-To-6oUQ"
   },
   "outputs": [],
   "source": [
    "df"
   ]
  },
  {
   "cell_type": "markdown",
   "metadata": {
    "colab_type": "text",
    "id": "kYpcfImT6oUS"
   },
   "source": [
    "## 6. 여러 칼럼을 동시에 조회할 수 있다"
   ]
  },
  {
   "cell_type": "code",
   "execution_count": 0,
   "metadata": {
    "colab": {},
    "colab_type": "code",
    "id": "NNsZzApM6oUU"
   },
   "outputs": [],
   "source": [
    "df[['name', 'max']]"
   ]
  },
  {
   "cell_type": "markdown",
   "metadata": {
    "colab_type": "text",
    "id": "T4Xucy5G6oUa"
   },
   "source": [
    "## 7. .을 통한 조회는 []을 통한 조회의 부분집합이다( .은 []의 일부분의 기능만 가져옴)"
   ]
  },
  {
   "cell_type": "markdown",
   "metadata": {
    "colab_type": "text",
    "id": "4-Uo7ql66oUd"
   },
   "source": [
    "## 8. 항상 사용가능한 방법을 쓰는것이 낫다"
   ]
  },
  {
   "cell_type": "markdown",
   "metadata": {
    "colab_type": "text",
    "id": "2mS09TJD6oUn"
   },
   "source": [
    "## 9. 파이썬에서 원소를 조회하는 일반적인 방법이 [] 이다"
   ]
  },
  {
   "cell_type": "code",
   "execution_count": 0,
   "metadata": {
    "colab": {},
    "colab_type": "code",
    "id": "95x7LPN06oUo"
   },
   "outputs": [],
   "source": [
    "a = [1, 2, 3, 4 ,5]"
   ]
  },
  {
   "cell_type": "code",
   "execution_count": 0,
   "metadata": {
    "colab": {},
    "colab_type": "code",
    "id": "XbdtJEW16oUq"
   },
   "outputs": [],
   "source": [
    "a[3]"
   ]
  },
  {
   "cell_type": "code",
   "execution_count": 0,
   "metadata": {
    "colab": {},
    "colab_type": "code",
    "id": "2mgUs52G6oUt"
   },
   "outputs": [],
   "source": [
    "a[:3]"
   ]
  },
  {
   "cell_type": "code",
   "execution_count": 0,
   "metadata": {
    "colab": {},
    "colab_type": "code",
    "id": "ZRBr-pOk6oUv"
   },
   "outputs": [],
   "source": [
    "d = {'a': 1}"
   ]
  },
  {
   "cell_type": "code",
   "execution_count": 0,
   "metadata": {
    "colab": {},
    "colab_type": "code",
    "id": "oY8QPCDn6oUw"
   },
   "outputs": [],
   "source": [
    "d['a']"
   ]
  },
  {
   "cell_type": "code",
   "execution_count": 0,
   "metadata": {
    "colab": {},
    "colab_type": "code",
    "id": "dT-ex1dx6oUy"
   },
   "outputs": [],
   "source": [
    "s = 'asdfadsfasdfsdafs'"
   ]
  },
  {
   "cell_type": "code",
   "execution_count": 0,
   "metadata": {
    "colab": {},
    "colab_type": "code",
    "id": "PI-dveak6oU0"
   },
   "outputs": [],
   "source": [
    "s[5:10]"
   ]
  }
 ],
 "metadata": {
  "colab": {
   "collapsed_sections": [],
   "name": "칼럼조회방식비교.ipynb",
   "provenance": []
  },
  "kernelspec": {
   "display_name": "Python 3",
   "language": "python",
   "name": "python3"
  },
  "language_info": {
   "codemirror_mode": {
    "name": "ipython",
    "version": 3
   },
   "file_extension": ".py",
   "mimetype": "text/x-python",
   "name": "python",
   "nbconvert_exporter": "python",
   "pygments_lexer": "ipython3",
   "version": "3.6.9"
  }
 },
 "nbformat": 4,
 "nbformat_minor": 1
}
