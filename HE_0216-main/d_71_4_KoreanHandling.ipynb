{
  "nbformat": 4,
  "nbformat_minor": 0,
  "metadata": {
    "colab": {
      "name": "d_93_2_KoreanHandling.ipynb",
      "provenance": [],
      "collapsed_sections": []
    },
    "kernelspec": {
      "name": "python3",
      "display_name": "Python 3"
    },
    "language_info": {
      "name": "python"
    }
  },
  "cells": [
    {
      "cell_type": "markdown",
      "source": [
        "# 한글 전처리 패키지\n",
        "- PyKoSpacing: 띄어쓰기가 되어있지 않은 문장을 띄어쓰기를 한 문장으로 변환해주는 패키지"
      ],
      "metadata": {
        "id": "-mlTIqq8lc2h"
      }
    },
    {
      "cell_type": "code",
      "source": [
        "pip install git+https://github.com/haven-jeon/PyKoSpacing.git"
      ],
      "metadata": {
        "colab": {
          "base_uri": "https://localhost:8080/",
          "height": 1000
        },
        "id": "ijfieAzalUBf",
        "outputId": "4a4051b3-ee66-4032-cb62-9324c4299996"
      },
      "execution_count": 18,
      "outputs": [
        {
          "output_type": "stream",
          "name": "stdout",
          "text": [
            "Collecting git+https://github.com/haven-jeon/PyKoSpacing.git\n",
            "  Cloning https://github.com/haven-jeon/PyKoSpacing.git to /tmp/pip-req-build-yzao_fcq\n",
            "  Running command git clone -q https://github.com/haven-jeon/PyKoSpacing.git /tmp/pip-req-build-yzao_fcq\n",
            "Collecting tensorflow==2.5.3\n",
            "  Downloading tensorflow-2.5.3-cp37-cp37m-manylinux2010_x86_64.whl (460.3 MB)\n",
            "\u001b[K     |████████████████████████████████| 460.3 MB 7.4 kB/s \n",
            "\u001b[?25hRequirement already satisfied: h5py==3.1.0 in /usr/local/lib/python3.7/dist-packages (from pykospacing==0.5) (3.1.0)\n",
            "Collecting argparse>=1.4.0\n",
            "  Downloading argparse-1.4.0-py2.py3-none-any.whl (23 kB)\n",
            "Requirement already satisfied: cached-property in /usr/local/lib/python3.7/dist-packages (from h5py==3.1.0->pykospacing==0.5) (1.5.2)\n",
            "Requirement already satisfied: numpy>=1.14.5 in /usr/local/lib/python3.7/dist-packages (from h5py==3.1.0->pykospacing==0.5) (1.21.5)\n",
            "Collecting grpcio~=1.34.0\n",
            "  Downloading grpcio-1.34.1-cp37-cp37m-manylinux2014_x86_64.whl (4.0 MB)\n",
            "\u001b[K     |████████████████████████████████| 4.0 MB 51.7 MB/s \n",
            "\u001b[?25hCollecting tensorflow-estimator<2.6.0,>=2.5.0\n",
            "  Downloading tensorflow_estimator-2.5.0-py2.py3-none-any.whl (462 kB)\n",
            "\u001b[K     |████████████████████████████████| 462 kB 63.2 MB/s \n",
            "\u001b[?25hCollecting wrapt~=1.12.1\n",
            "  Downloading wrapt-1.12.1.tar.gz (27 kB)\n",
            "Requirement already satisfied: google-pasta~=0.2 in /usr/local/lib/python3.7/dist-packages (from tensorflow==2.5.3->pykospacing==0.5) (0.2.0)\n",
            "Requirement already satisfied: wheel~=0.35 in /usr/local/lib/python3.7/dist-packages (from tensorflow==2.5.3->pykospacing==0.5) (0.37.1)\n",
            "Requirement already satisfied: opt-einsum~=3.3.0 in /usr/local/lib/python3.7/dist-packages (from tensorflow==2.5.3->pykospacing==0.5) (3.3.0)\n",
            "Collecting numpy>=1.14.5\n",
            "  Downloading numpy-1.19.5-cp37-cp37m-manylinux2010_x86_64.whl (14.8 MB)\n",
            "\u001b[K     |████████████████████████████████| 14.8 MB 39.2 MB/s \n",
            "\u001b[?25hRequirement already satisfied: termcolor~=1.1.0 in /usr/local/lib/python3.7/dist-packages (from tensorflow==2.5.3->pykospacing==0.5) (1.1.0)\n",
            "Collecting flatbuffers~=1.12.0\n",
            "  Downloading flatbuffers-1.12-py2.py3-none-any.whl (15 kB)\n",
            "Collecting keras-nightly~=2.5.0.dev\n",
            "  Downloading keras_nightly-2.5.0.dev2021032900-py2.py3-none-any.whl (1.2 MB)\n",
            "\u001b[K     |████████████████████████████████| 1.2 MB 45.6 MB/s \n",
            "\u001b[?25hRequirement already satisfied: tensorboard~=2.5 in /usr/local/lib/python3.7/dist-packages (from tensorflow==2.5.3->pykospacing==0.5) (2.8.0)\n",
            "Collecting absl-py~=0.10\n",
            "  Downloading absl_py-0.15.0-py3-none-any.whl (132 kB)\n",
            "\u001b[K     |████████████████████████████████| 132 kB 64.5 MB/s \n",
            "\u001b[?25hCollecting gast==0.4.0\n",
            "  Downloading gast-0.4.0-py3-none-any.whl (9.8 kB)\n",
            "Requirement already satisfied: astunparse~=1.6.3 in /usr/local/lib/python3.7/dist-packages (from tensorflow==2.5.3->pykospacing==0.5) (1.6.3)\n",
            "Collecting typing-extensions~=3.7.4\n",
            "  Downloading typing_extensions-3.7.4.3-py3-none-any.whl (22 kB)\n",
            "Requirement already satisfied: keras-preprocessing~=1.1.2 in /usr/local/lib/python3.7/dist-packages (from tensorflow==2.5.3->pykospacing==0.5) (1.1.2)\n",
            "Requirement already satisfied: six~=1.15.0 in /usr/local/lib/python3.7/dist-packages (from tensorflow==2.5.3->pykospacing==0.5) (1.15.0)\n",
            "Requirement already satisfied: protobuf>=3.9.2 in /usr/local/lib/python3.7/dist-packages (from tensorflow==2.5.3->pykospacing==0.5) (3.17.3)\n",
            "Requirement already satisfied: tensorboard-data-server<0.7.0,>=0.6.0 in /usr/local/lib/python3.7/dist-packages (from tensorboard~=2.5->tensorflow==2.5.3->pykospacing==0.5) (0.6.1)\n",
            "Requirement already satisfied: google-auth<3,>=1.6.3 in /usr/local/lib/python3.7/dist-packages (from tensorboard~=2.5->tensorflow==2.5.3->pykospacing==0.5) (1.35.0)\n",
            "Requirement already satisfied: markdown>=2.6.8 in /usr/local/lib/python3.7/dist-packages (from tensorboard~=2.5->tensorflow==2.5.3->pykospacing==0.5) (3.3.6)\n",
            "Requirement already satisfied: requests<3,>=2.21.0 in /usr/local/lib/python3.7/dist-packages (from tensorboard~=2.5->tensorflow==2.5.3->pykospacing==0.5) (2.23.0)\n",
            "Requirement already satisfied: setuptools>=41.0.0 in /usr/local/lib/python3.7/dist-packages (from tensorboard~=2.5->tensorflow==2.5.3->pykospacing==0.5) (57.4.0)\n",
            "Requirement already satisfied: tensorboard-plugin-wit>=1.6.0 in /usr/local/lib/python3.7/dist-packages (from tensorboard~=2.5->tensorflow==2.5.3->pykospacing==0.5) (1.8.1)\n",
            "Requirement already satisfied: werkzeug>=0.11.15 in /usr/local/lib/python3.7/dist-packages (from tensorboard~=2.5->tensorflow==2.5.3->pykospacing==0.5) (1.0.1)\n",
            "Requirement already satisfied: google-auth-oauthlib<0.5,>=0.4.1 in /usr/local/lib/python3.7/dist-packages (from tensorboard~=2.5->tensorflow==2.5.3->pykospacing==0.5) (0.4.6)\n",
            "Requirement already satisfied: rsa<5,>=3.1.4 in /usr/local/lib/python3.7/dist-packages (from google-auth<3,>=1.6.3->tensorboard~=2.5->tensorflow==2.5.3->pykospacing==0.5) (4.8)\n",
            "Requirement already satisfied: pyasn1-modules>=0.2.1 in /usr/local/lib/python3.7/dist-packages (from google-auth<3,>=1.6.3->tensorboard~=2.5->tensorflow==2.5.3->pykospacing==0.5) (0.2.8)\n",
            "Requirement already satisfied: cachetools<5.0,>=2.0.0 in /usr/local/lib/python3.7/dist-packages (from google-auth<3,>=1.6.3->tensorboard~=2.5->tensorflow==2.5.3->pykospacing==0.5) (4.2.4)\n",
            "Requirement already satisfied: requests-oauthlib>=0.7.0 in /usr/local/lib/python3.7/dist-packages (from google-auth-oauthlib<0.5,>=0.4.1->tensorboard~=2.5->tensorflow==2.5.3->pykospacing==0.5) (1.3.1)\n",
            "Requirement already satisfied: importlib-metadata>=4.4 in /usr/local/lib/python3.7/dist-packages (from markdown>=2.6.8->tensorboard~=2.5->tensorflow==2.5.3->pykospacing==0.5) (4.11.0)\n",
            "Requirement already satisfied: zipp>=0.5 in /usr/local/lib/python3.7/dist-packages (from importlib-metadata>=4.4->markdown>=2.6.8->tensorboard~=2.5->tensorflow==2.5.3->pykospacing==0.5) (3.7.0)\n",
            "Requirement already satisfied: pyasn1<0.5.0,>=0.4.6 in /usr/local/lib/python3.7/dist-packages (from pyasn1-modules>=0.2.1->google-auth<3,>=1.6.3->tensorboard~=2.5->tensorflow==2.5.3->pykospacing==0.5) (0.4.8)\n",
            "Requirement already satisfied: urllib3!=1.25.0,!=1.25.1,<1.26,>=1.21.1 in /usr/local/lib/python3.7/dist-packages (from requests<3,>=2.21.0->tensorboard~=2.5->tensorflow==2.5.3->pykospacing==0.5) (1.24.3)\n",
            "Requirement already satisfied: certifi>=2017.4.17 in /usr/local/lib/python3.7/dist-packages (from requests<3,>=2.21.0->tensorboard~=2.5->tensorflow==2.5.3->pykospacing==0.5) (2021.10.8)\n",
            "Requirement already satisfied: idna<3,>=2.5 in /usr/local/lib/python3.7/dist-packages (from requests<3,>=2.21.0->tensorboard~=2.5->tensorflow==2.5.3->pykospacing==0.5) (2.10)\n",
            "Requirement already satisfied: chardet<4,>=3.0.2 in /usr/local/lib/python3.7/dist-packages (from requests<3,>=2.21.0->tensorboard~=2.5->tensorflow==2.5.3->pykospacing==0.5) (3.0.4)\n",
            "Requirement already satisfied: oauthlib>=3.0.0 in /usr/local/lib/python3.7/dist-packages (from requests-oauthlib>=0.7.0->google-auth-oauthlib<0.5,>=0.4.1->tensorboard~=2.5->tensorflow==2.5.3->pykospacing==0.5) (3.2.0)\n",
            "Building wheels for collected packages: pykospacing, wrapt\n",
            "  Building wheel for pykospacing (setup.py) ... \u001b[?25l\u001b[?25hdone\n",
            "  Created wheel for pykospacing: filename=pykospacing-0.5-py3-none-any.whl size=2268580 sha256=a23e9b9efe1d65f8bf5a90f9c2f14e2cf61434eb853afa36a7ed4f8170519d2b\n",
            "  Stored in directory: /tmp/pip-ephem-wheel-cache-1rql4b0p/wheels/9b/93/81/a2a7dc8c66ede5bf30634d20635f32b95eac7ca2ea8844058b\n",
            "  Building wheel for wrapt (setup.py) ... \u001b[?25l\u001b[?25hdone\n",
            "  Created wheel for wrapt: filename=wrapt-1.12.1-cp37-cp37m-linux_x86_64.whl size=68714 sha256=bad629e705dd82f8986ccfaa908113dee8ad9c0b474e1f8196724f5b23bca1ba\n",
            "  Stored in directory: /root/.cache/pip/wheels/62/76/4c/aa25851149f3f6d9785f6c869387ad82b3fd37582fa8147ac6\n",
            "Successfully built pykospacing wrapt\n",
            "Installing collected packages: typing-extensions, numpy, grpcio, absl-py, wrapt, tensorflow-estimator, keras-nightly, gast, flatbuffers, tensorflow, argparse, pykospacing\n",
            "  Attempting uninstall: typing-extensions\n",
            "    Found existing installation: typing-extensions 3.10.0.2\n",
            "    Uninstalling typing-extensions-3.10.0.2:\n",
            "      Successfully uninstalled typing-extensions-3.10.0.2\n",
            "  Attempting uninstall: numpy\n",
            "    Found existing installation: numpy 1.21.5\n",
            "    Uninstalling numpy-1.21.5:\n",
            "      Successfully uninstalled numpy-1.21.5\n",
            "  Attempting uninstall: grpcio\n",
            "    Found existing installation: grpcio 1.43.0\n",
            "    Uninstalling grpcio-1.43.0:\n",
            "      Successfully uninstalled grpcio-1.43.0\n",
            "  Attempting uninstall: absl-py\n",
            "    Found existing installation: absl-py 1.0.0\n",
            "    Uninstalling absl-py-1.0.0:\n",
            "      Successfully uninstalled absl-py-1.0.0\n",
            "  Attempting uninstall: wrapt\n",
            "    Found existing installation: wrapt 1.13.3\n",
            "    Uninstalling wrapt-1.13.3:\n",
            "      Successfully uninstalled wrapt-1.13.3\n",
            "  Attempting uninstall: tensorflow-estimator\n",
            "    Found existing installation: tensorflow-estimator 2.8.0\n",
            "    Uninstalling tensorflow-estimator-2.8.0:\n",
            "      Successfully uninstalled tensorflow-estimator-2.8.0\n",
            "  Attempting uninstall: gast\n",
            "    Found existing installation: gast 0.5.3\n",
            "    Uninstalling gast-0.5.3:\n",
            "      Successfully uninstalled gast-0.5.3\n",
            "  Attempting uninstall: flatbuffers\n",
            "    Found existing installation: flatbuffers 2.0\n",
            "    Uninstalling flatbuffers-2.0:\n",
            "      Successfully uninstalled flatbuffers-2.0\n",
            "  Attempting uninstall: tensorflow\n",
            "    Found existing installation: tensorflow 2.8.0\n",
            "    Uninstalling tensorflow-2.8.0:\n",
            "      Successfully uninstalled tensorflow-2.8.0\n",
            "\u001b[31mERROR: pip's dependency resolver does not currently take into account all the packages that are installed. This behaviour is the source of the following dependency conflicts.\n",
            "datascience 0.10.6 requires folium==0.2.1, but you have folium 0.8.3 which is incompatible.\n",
            "albumentations 0.1.12 requires imgaug<0.2.7,>=0.2.5, but you have imgaug 0.2.9 which is incompatible.\u001b[0m\n",
            "Successfully installed absl-py-0.15.0 argparse-1.4.0 flatbuffers-1.12 gast-0.4.0 grpcio-1.34.1 keras-nightly-2.5.0.dev2021032900 numpy-1.19.5 pykospacing-0.5 tensorflow-2.5.3 tensorflow-estimator-2.5.0 typing-extensions-3.7.4.3 wrapt-1.12.1\n"
          ]
        },
        {
          "output_type": "display_data",
          "data": {
            "application/vnd.colab-display-data+json": {
              "pip_warning": {
                "packages": [
                  "absl",
                  "argparse",
                  "flatbuffers",
                  "gast",
                  "keras",
                  "numpy",
                  "tensorflow",
                  "typing_extensions",
                  "wrapt"
                ]
              }
            }
          },
          "metadata": {}
        }
      ]
    },
    {
      "cell_type": "code",
      "source": [
        "sent = '김철수는 극중 두 인격의 사나이 이광수 역을 맡았다. 철수는 한국 유일의 태권도 전승자를 가리는 결전의 날을 앞두고 10년간 함께 훈련한 사형인 유연재(김광수 분)를 찾으러 속세로 내려온 인물이다.'\n",
        "\n",
        "new_sent = sent.replace(\" \", '') # 띄어쓰기가 없는 문장 임의로 만들기\n",
        "print(new_sent)\n"
      ],
      "metadata": {
        "colab": {
          "base_uri": "https://localhost:8080/"
        },
        "id": "2WfC8SvglVJ1",
        "outputId": "4ddfaa72-0118-40d8-dcfb-f0bba0cf4260"
      },
      "execution_count": 1,
      "outputs": [
        {
          "output_type": "stream",
          "name": "stdout",
          "text": [
            "김철수는극중두인격의사나이이광수역을맡았다.철수는한국유일의태권도전승자를가리는결전의날을앞두고10년간함께훈련한사형인유연재(김광수분)를찾으러속세로내려온인물이다.\n"
          ]
        }
      ]
    },
    {
      "cell_type": "code",
      "source": [
        "from pykospacing import Spacing\n",
        "spacing = Spacing()\n",
        "kospacing_sent = spacing(new_sent) \n",
        "\n",
        "print(sent)\n",
        "print(kospacing_sent)"
      ],
      "metadata": {
        "colab": {
          "base_uri": "https://localhost:8080/"
        },
        "id": "facyq0jCoiuE",
        "outputId": "864f4221-4cda-4cf3-c07f-8beb7ec3cc15"
      },
      "execution_count": 2,
      "outputs": [
        {
          "output_type": "stream",
          "name": "stdout",
          "text": [
            "김철수는 극중 두 인격의 사나이 이광수 역을 맡았다. 철수는 한국 유일의 태권도 전승자를 가리는 결전의 날을 앞두고 10년간 함께 훈련한 사형인 유연재(김광수 분)를 찾으러 속세로 내려온 인물이다.\n",
            "김철수는 극중 두 인격의 사나이 이광수 역을 맡았다. 철수는 한국 유일의 태권도 전승자를 가리는 결전의 날을 앞두고 10년간 함께 훈련한 사형인 유연재(김광수 분)를 찾으러 속세로 내려온 인물이다.\n"
          ]
        }
      ]
    },
    {
      "cell_type": "markdown",
      "source": [
        "# Py-Hanspell\n",
        "- 네이버 한글 맞춤법 검사기\n"
      ],
      "metadata": {
        "id": "FCviLcwslb-Q"
      }
    },
    {
      "cell_type": "code",
      "source": [
        "!pip install git+https://github.com/ssut/py-hanspell.git"
      ],
      "metadata": {
        "colab": {
          "base_uri": "https://localhost:8080/"
        },
        "id": "IWWYd6KHo9OW",
        "outputId": "90edf182-ec99-41fc-c825-b23793bc69ef"
      },
      "execution_count": 5,
      "outputs": [
        {
          "output_type": "stream",
          "name": "stdout",
          "text": [
            "Collecting git+https://github.com/ssut/py-hanspell.git\n",
            "  Cloning https://github.com/ssut/py-hanspell.git to /tmp/pip-req-build-542r1g9m\n",
            "  Running command git clone -q https://github.com/ssut/py-hanspell.git /tmp/pip-req-build-542r1g9m\n",
            "Requirement already satisfied: requests in /usr/local/lib/python3.7/dist-packages (from py-hanspell==1.1) (2.23.0)\n",
            "Requirement already satisfied: certifi>=2017.4.17 in /usr/local/lib/python3.7/dist-packages (from requests->py-hanspell==1.1) (2021.10.8)\n",
            "Requirement already satisfied: urllib3!=1.25.0,!=1.25.1,<1.26,>=1.21.1 in /usr/local/lib/python3.7/dist-packages (from requests->py-hanspell==1.1) (1.24.3)\n",
            "Requirement already satisfied: idna<3,>=2.5 in /usr/local/lib/python3.7/dist-packages (from requests->py-hanspell==1.1) (2.10)\n",
            "Requirement already satisfied: chardet<4,>=3.0.2 in /usr/local/lib/python3.7/dist-packages (from requests->py-hanspell==1.1) (3.0.4)\n",
            "Building wheels for collected packages: py-hanspell\n",
            "  Building wheel for py-hanspell (setup.py) ... \u001b[?25l\u001b[?25hdone\n",
            "  Created wheel for py-hanspell: filename=py_hanspell-1.1-py3-none-any.whl size=4868 sha256=9f4213d1f39f97645f809e476b520547603c2e2c03213b4da178e5b3bbad87a1\n",
            "  Stored in directory: /tmp/pip-ephem-wheel-cache-n3zzpzkf/wheels/ab/f5/7b/d4124bb329c905301baed80e2ae45aa14e824f62ebc3ec2cc4\n",
            "Successfully built py-hanspell\n",
            "Installing collected packages: py-hanspell\n",
            "Successfully installed py-hanspell-1.1\n"
          ]
        }
      ]
    },
    {
      "cell_type": "code",
      "source": [
        "from hanspell import spell_checker\n",
        "\n",
        "sent = \"맞춤법 틀리면 외 않되? 쓰고싶은대로쓰면돼지 \"\n",
        "spelled_sent = spell_checker.check(sent)\n",
        "\n",
        "hanspell_sent = spelled_sent.checked\n",
        "print(hanspell_sent)"
      ],
      "metadata": {
        "colab": {
          "base_uri": "https://localhost:8080/"
        },
        "id": "bMKnF5Woo1-w",
        "outputId": "a7c2de53-9f25-4c80-b5c1-fb1a3435622c"
      },
      "execution_count": 6,
      "outputs": [
        {
          "output_type": "stream",
          "name": "stdout",
          "text": [
            "맞춤법 틀리면 왜 안돼? 쓰고 싶은 대로 쓰면 되지\n"
          ]
        }
      ]
    },
    {
      "cell_type": "markdown",
      "source": [
        "# SOYNLP를 이용한 반복되는 문자 정제\n"
      ],
      "metadata": {
        "id": "Grp6jVeupaBI"
      }
    },
    {
      "cell_type": "code",
      "source": [
        "!pip install soynlp\n"
      ],
      "metadata": {
        "colab": {
          "base_uri": "https://localhost:8080/"
        },
        "id": "IZYBroVwplRq",
        "outputId": "3a54000c-b52e-4154-ea85-20a84df33469"
      },
      "execution_count": 8,
      "outputs": [
        {
          "output_type": "stream",
          "name": "stdout",
          "text": [
            "Collecting soynlp\n",
            "  Downloading soynlp-0.0.493-py3-none-any.whl (416 kB)\n",
            "\u001b[?25l\r\u001b[K     |▉                               | 10 kB 13.7 MB/s eta 0:00:01\r\u001b[K     |█▋                              | 20 kB 20.0 MB/s eta 0:00:01\r\u001b[K     |██▍                             | 30 kB 23.8 MB/s eta 0:00:01\r\u001b[K     |███▏                            | 40 kB 18.0 MB/s eta 0:00:01\r\u001b[K     |████                            | 51 kB 8.2 MB/s eta 0:00:01\r\u001b[K     |████▊                           | 61 kB 9.5 MB/s eta 0:00:01\r\u001b[K     |█████▌                          | 71 kB 9.2 MB/s eta 0:00:01\r\u001b[K     |██████▎                         | 81 kB 9.4 MB/s eta 0:00:01\r\u001b[K     |███████                         | 92 kB 10.4 MB/s eta 0:00:01\r\u001b[K     |███████▉                        | 102 kB 8.6 MB/s eta 0:00:01\r\u001b[K     |████████▋                       | 112 kB 8.6 MB/s eta 0:00:01\r\u001b[K     |█████████▍                      | 122 kB 8.6 MB/s eta 0:00:01\r\u001b[K     |██████████▏                     | 133 kB 8.6 MB/s eta 0:00:01\r\u001b[K     |███████████                     | 143 kB 8.6 MB/s eta 0:00:01\r\u001b[K     |███████████▉                    | 153 kB 8.6 MB/s eta 0:00:01\r\u001b[K     |████████████▋                   | 163 kB 8.6 MB/s eta 0:00:01\r\u001b[K     |█████████████▍                  | 174 kB 8.6 MB/s eta 0:00:01\r\u001b[K     |██████████████▏                 | 184 kB 8.6 MB/s eta 0:00:01\r\u001b[K     |███████████████                 | 194 kB 8.6 MB/s eta 0:00:01\r\u001b[K     |███████████████▊                | 204 kB 8.6 MB/s eta 0:00:01\r\u001b[K     |████████████████▌               | 215 kB 8.6 MB/s eta 0:00:01\r\u001b[K     |█████████████████▎              | 225 kB 8.6 MB/s eta 0:00:01\r\u001b[K     |██████████████████              | 235 kB 8.6 MB/s eta 0:00:01\r\u001b[K     |██████████████████▉             | 245 kB 8.6 MB/s eta 0:00:01\r\u001b[K     |███████████████████▋            | 256 kB 8.6 MB/s eta 0:00:01\r\u001b[K     |████████████████████▍           | 266 kB 8.6 MB/s eta 0:00:01\r\u001b[K     |█████████████████████▎          | 276 kB 8.6 MB/s eta 0:00:01\r\u001b[K     |██████████████████████          | 286 kB 8.6 MB/s eta 0:00:01\r\u001b[K     |██████████████████████▉         | 296 kB 8.6 MB/s eta 0:00:01\r\u001b[K     |███████████████████████▋        | 307 kB 8.6 MB/s eta 0:00:01\r\u001b[K     |████████████████████████▍       | 317 kB 8.6 MB/s eta 0:00:01\r\u001b[K     |█████████████████████████▏      | 327 kB 8.6 MB/s eta 0:00:01\r\u001b[K     |██████████████████████████      | 337 kB 8.6 MB/s eta 0:00:01\r\u001b[K     |██████████████████████████▊     | 348 kB 8.6 MB/s eta 0:00:01\r\u001b[K     |███████████████████████████▌    | 358 kB 8.6 MB/s eta 0:00:01\r\u001b[K     |████████████████████████████▎   | 368 kB 8.6 MB/s eta 0:00:01\r\u001b[K     |█████████████████████████████   | 378 kB 8.6 MB/s eta 0:00:01\r\u001b[K     |█████████████████████████████▉  | 389 kB 8.6 MB/s eta 0:00:01\r\u001b[K     |██████████████████████████████▋ | 399 kB 8.6 MB/s eta 0:00:01\r\u001b[K     |███████████████████████████████▌| 409 kB 8.6 MB/s eta 0:00:01\r\u001b[K     |████████████████████████████████| 416 kB 8.6 MB/s \n",
            "\u001b[?25hRequirement already satisfied: numpy>=1.12.1 in /usr/local/lib/python3.7/dist-packages (from soynlp) (1.19.5)\n",
            "Requirement already satisfied: scipy>=1.1.0 in /usr/local/lib/python3.7/dist-packages (from soynlp) (1.4.1)\n",
            "Requirement already satisfied: scikit-learn>=0.20.0 in /usr/local/lib/python3.7/dist-packages (from soynlp) (1.0.2)\n",
            "Requirement already satisfied: psutil>=5.0.1 in /usr/local/lib/python3.7/dist-packages (from soynlp) (5.4.8)\n",
            "Requirement already satisfied: threadpoolctl>=2.0.0 in /usr/local/lib/python3.7/dist-packages (from scikit-learn>=0.20.0->soynlp) (3.1.0)\n",
            "Requirement already satisfied: joblib>=0.11 in /usr/local/lib/python3.7/dist-packages (from scikit-learn>=0.20.0->soynlp) (1.1.0)\n",
            "Installing collected packages: soynlp\n",
            "Successfully installed soynlp-0.0.493\n"
          ]
        }
      ]
    },
    {
      "cell_type": "code",
      "source": [
        "from soynlp.normalizer import *\n",
        "print(emoticon_normalize('앜ㅋㅋㅋㅋ이영화존잼쓰ㅠㅠㅠㅠㅠ', num_repeats=2))\n",
        "print(emoticon_normalize('앜ㅋㅋㅋㅋㅋㅋㅋㅋㅋ이영화존잼쓰ㅠㅠㅠㅠ', num_repeats=2))\n",
        "print(emoticon_normalize('앜ㅋㅋㅋㅋㅋㅋㅋㅋㅋㅋㅋㅋ이영화존잼쓰ㅠㅠㅠㅠㅠㅠ', num_repeats=2))\n",
        "print(emoticon_normalize('앜ㅋㅋㅋㅋㅋㅋㅋㅋㅋㅋㅋㅋㅋㅋㅋㅋㅋ이영화존잼쓰ㅠㅠㅠㅠㅠㅠㅠㅠ', num_repeats=2))"
      ],
      "metadata": {
        "colab": {
          "base_uri": "https://localhost:8080/"
        },
        "id": "Q0fVhbZxo5XI",
        "outputId": "cee343b3-9447-4083-ddca-0e30ea0bb7c1"
      },
      "execution_count": 9,
      "outputs": [
        {
          "output_type": "stream",
          "name": "stdout",
          "text": [
            "아ㅋㅋ영화존잼쓰ㅠㅠ\n",
            "아ㅋㅋ영화존잼쓰ㅠㅠ\n",
            "아ㅋㅋ영화존잼쓰ㅠㅠ\n",
            "아ㅋㅋ영화존잼쓰ㅠㅠ\n"
          ]
        }
      ]
    },
    {
      "cell_type": "code",
      "source": [
        "print(repeat_normalize('와하하하하하하하하하핫', num_repeats=2))\n",
        "print(repeat_normalize('와하하하하하하핫', num_repeats=2))\n",
        "print(repeat_normalize('와하하하하핫', num_repeats=2))"
      ],
      "metadata": {
        "colab": {
          "base_uri": "https://localhost:8080/"
        },
        "id": "8Nu5LUdTpePC",
        "outputId": "c662816d-5d2f-4d17-afac-eec16d3e0a6b"
      },
      "execution_count": 10,
      "outputs": [
        {
          "output_type": "stream",
          "name": "stdout",
          "text": [
            "와하하핫\n",
            "와하하핫\n",
            "와하하핫\n"
          ]
        }
      ]
    },
    {
      "cell_type": "markdown",
      "source": [
        "# Customized KoNLPy 단어추가\n"
      ],
      "metadata": {
        "id": "UxNABvlOp1Uj"
      }
    },
    {
      "cell_type": "code",
      "source": [
        "!pip install customized_konlpy\n"
      ],
      "metadata": {
        "colab": {
          "base_uri": "https://localhost:8080/"
        },
        "id": "bUsgOg1jprhy",
        "outputId": "3ca011c5-3b40-481c-fcad-934b7581be98"
      },
      "execution_count": 11,
      "outputs": [
        {
          "output_type": "stream",
          "name": "stdout",
          "text": [
            "Collecting customized_konlpy\n",
            "  Downloading customized_konlpy-0.0.64-py3-none-any.whl (881 kB)\n",
            "\u001b[?25l\r\u001b[K     |▍                               | 10 kB 26.5 MB/s eta 0:00:01\r\u001b[K     |▊                               | 20 kB 24.0 MB/s eta 0:00:01\r\u001b[K     |█▏                              | 30 kB 16.9 MB/s eta 0:00:01\r\u001b[K     |█▌                              | 40 kB 15.0 MB/s eta 0:00:01\r\u001b[K     |█▉                              | 51 kB 7.1 MB/s eta 0:00:01\r\u001b[K     |██▎                             | 61 kB 8.3 MB/s eta 0:00:01\r\u001b[K     |██▋                             | 71 kB 9.2 MB/s eta 0:00:01\r\u001b[K     |███                             | 81 kB 8.8 MB/s eta 0:00:01\r\u001b[K     |███▍                            | 92 kB 9.8 MB/s eta 0:00:01\r\u001b[K     |███▊                            | 102 kB 8.4 MB/s eta 0:00:01\r\u001b[K     |████                            | 112 kB 8.4 MB/s eta 0:00:01\r\u001b[K     |████▌                           | 122 kB 8.4 MB/s eta 0:00:01\r\u001b[K     |████▉                           | 133 kB 8.4 MB/s eta 0:00:01\r\u001b[K     |█████▏                          | 143 kB 8.4 MB/s eta 0:00:01\r\u001b[K     |█████▋                          | 153 kB 8.4 MB/s eta 0:00:01\r\u001b[K     |██████                          | 163 kB 8.4 MB/s eta 0:00:01\r\u001b[K     |██████▎                         | 174 kB 8.4 MB/s eta 0:00:01\r\u001b[K     |██████▊                         | 184 kB 8.4 MB/s eta 0:00:01\r\u001b[K     |███████                         | 194 kB 8.4 MB/s eta 0:00:01\r\u001b[K     |███████▍                        | 204 kB 8.4 MB/s eta 0:00:01\r\u001b[K     |███████▉                        | 215 kB 8.4 MB/s eta 0:00:01\r\u001b[K     |████████▏                       | 225 kB 8.4 MB/s eta 0:00:01\r\u001b[K     |████████▌                       | 235 kB 8.4 MB/s eta 0:00:01\r\u001b[K     |█████████                       | 245 kB 8.4 MB/s eta 0:00:01\r\u001b[K     |█████████▎                      | 256 kB 8.4 MB/s eta 0:00:01\r\u001b[K     |█████████▋                      | 266 kB 8.4 MB/s eta 0:00:01\r\u001b[K     |██████████                      | 276 kB 8.4 MB/s eta 0:00:01\r\u001b[K     |██████████▍                     | 286 kB 8.4 MB/s eta 0:00:01\r\u001b[K     |██████████▉                     | 296 kB 8.4 MB/s eta 0:00:01\r\u001b[K     |███████████▏                    | 307 kB 8.4 MB/s eta 0:00:01\r\u001b[K     |███████████▌                    | 317 kB 8.4 MB/s eta 0:00:01\r\u001b[K     |████████████                    | 327 kB 8.4 MB/s eta 0:00:01\r\u001b[K     |████████████▎                   | 337 kB 8.4 MB/s eta 0:00:01\r\u001b[K     |████████████▋                   | 348 kB 8.4 MB/s eta 0:00:01\r\u001b[K     |█████████████                   | 358 kB 8.4 MB/s eta 0:00:01\r\u001b[K     |█████████████▍                  | 368 kB 8.4 MB/s eta 0:00:01\r\u001b[K     |█████████████▊                  | 378 kB 8.4 MB/s eta 0:00:01\r\u001b[K     |██████████████▏                 | 389 kB 8.4 MB/s eta 0:00:01\r\u001b[K     |██████████████▌                 | 399 kB 8.4 MB/s eta 0:00:01\r\u001b[K     |██████████████▉                 | 409 kB 8.4 MB/s eta 0:00:01\r\u001b[K     |███████████████▎                | 419 kB 8.4 MB/s eta 0:00:01\r\u001b[K     |███████████████▋                | 430 kB 8.4 MB/s eta 0:00:01\r\u001b[K     |████████████████                | 440 kB 8.4 MB/s eta 0:00:01\r\u001b[K     |████████████████▍               | 450 kB 8.4 MB/s eta 0:00:01\r\u001b[K     |████████████████▊               | 460 kB 8.4 MB/s eta 0:00:01\r\u001b[K     |█████████████████               | 471 kB 8.4 MB/s eta 0:00:01\r\u001b[K     |█████████████████▌              | 481 kB 8.4 MB/s eta 0:00:01\r\u001b[K     |█████████████████▉              | 491 kB 8.4 MB/s eta 0:00:01\r\u001b[K     |██████████████████▏             | 501 kB 8.4 MB/s eta 0:00:01\r\u001b[K     |██████████████████▋             | 512 kB 8.4 MB/s eta 0:00:01\r\u001b[K     |███████████████████             | 522 kB 8.4 MB/s eta 0:00:01\r\u001b[K     |███████████████████▎            | 532 kB 8.4 MB/s eta 0:00:01\r\u001b[K     |███████████████████▊            | 542 kB 8.4 MB/s eta 0:00:01\r\u001b[K     |████████████████████            | 552 kB 8.4 MB/s eta 0:00:01\r\u001b[K     |████████████████████▌           | 563 kB 8.4 MB/s eta 0:00:01\r\u001b[K     |████████████████████▉           | 573 kB 8.4 MB/s eta 0:00:01\r\u001b[K     |█████████████████████▏          | 583 kB 8.4 MB/s eta 0:00:01\r\u001b[K     |█████████████████████▋          | 593 kB 8.4 MB/s eta 0:00:01\r\u001b[K     |██████████████████████          | 604 kB 8.4 MB/s eta 0:00:01\r\u001b[K     |██████████████████████▎         | 614 kB 8.4 MB/s eta 0:00:01\r\u001b[K     |██████████████████████▊         | 624 kB 8.4 MB/s eta 0:00:01\r\u001b[K     |███████████████████████         | 634 kB 8.4 MB/s eta 0:00:01\r\u001b[K     |███████████████████████▍        | 645 kB 8.4 MB/s eta 0:00:01\r\u001b[K     |███████████████████████▉        | 655 kB 8.4 MB/s eta 0:00:01\r\u001b[K     |████████████████████████▏       | 665 kB 8.4 MB/s eta 0:00:01\r\u001b[K     |████████████████████████▌       | 675 kB 8.4 MB/s eta 0:00:01\r\u001b[K     |█████████████████████████       | 686 kB 8.4 MB/s eta 0:00:01\r\u001b[K     |█████████████████████████▎      | 696 kB 8.4 MB/s eta 0:00:01\r\u001b[K     |█████████████████████████▋      | 706 kB 8.4 MB/s eta 0:00:01\r\u001b[K     |██████████████████████████      | 716 kB 8.4 MB/s eta 0:00:01\r\u001b[K     |██████████████████████████▍     | 727 kB 8.4 MB/s eta 0:00:01\r\u001b[K     |██████████████████████████▊     | 737 kB 8.4 MB/s eta 0:00:01\r\u001b[K     |███████████████████████████▏    | 747 kB 8.4 MB/s eta 0:00:01\r\u001b[K     |███████████████████████████▌    | 757 kB 8.4 MB/s eta 0:00:01\r\u001b[K     |███████████████████████████▉    | 768 kB 8.4 MB/s eta 0:00:01\r\u001b[K     |████████████████████████████▎   | 778 kB 8.4 MB/s eta 0:00:01\r\u001b[K     |████████████████████████████▋   | 788 kB 8.4 MB/s eta 0:00:01\r\u001b[K     |█████████████████████████████   | 798 kB 8.4 MB/s eta 0:00:01\r\u001b[K     |█████████████████████████████▍  | 808 kB 8.4 MB/s eta 0:00:01\r\u001b[K     |█████████████████████████████▊  | 819 kB 8.4 MB/s eta 0:00:01\r\u001b[K     |██████████████████████████████▏ | 829 kB 8.4 MB/s eta 0:00:01\r\u001b[K     |██████████████████████████████▌ | 839 kB 8.4 MB/s eta 0:00:01\r\u001b[K     |██████████████████████████████▉ | 849 kB 8.4 MB/s eta 0:00:01\r\u001b[K     |███████████████████████████████▎| 860 kB 8.4 MB/s eta 0:00:01\r\u001b[K     |███████████████████████████████▋| 870 kB 8.4 MB/s eta 0:00:01\r\u001b[K     |████████████████████████████████| 880 kB 8.4 MB/s eta 0:00:01\r\u001b[K     |████████████████████████████████| 881 kB 8.4 MB/s \n",
            "\u001b[?25hRequirement already satisfied: konlpy>=0.4.4 in /usr/local/lib/python3.7/dist-packages (from customized_konlpy) (0.6.0)\n",
            "Requirement already satisfied: Jpype1>=0.6.1 in /usr/local/lib/python3.7/dist-packages (from customized_konlpy) (1.3.0)\n",
            "Requirement already satisfied: typing-extensions in /usr/local/lib/python3.7/dist-packages (from Jpype1>=0.6.1->customized_konlpy) (3.7.4.3)\n",
            "Requirement already satisfied: lxml>=4.1.0 in /usr/local/lib/python3.7/dist-packages (from konlpy>=0.4.4->customized_konlpy) (4.2.6)\n",
            "Requirement already satisfied: numpy>=1.6 in /usr/local/lib/python3.7/dist-packages (from konlpy>=0.4.4->customized_konlpy) (1.19.5)\n",
            "Installing collected packages: customized-konlpy\n",
            "Successfully installed customized-konlpy-0.0.64\n"
          ]
        }
      ]
    },
    {
      "cell_type": "code",
      "source": [
        "from ckonlpy.tag import Twitter\n",
        "twitter = Twitter()\n",
        "twitter.morphs('은경이는 사무실로 갔습니다.')"
      ],
      "metadata": {
        "colab": {
          "base_uri": "https://localhost:8080/"
        },
        "id": "_n6zZK3vp8_v",
        "outputId": "ea78e536-fd15-4b8a-b157-6a4fae686d16"
      },
      "execution_count": 12,
      "outputs": [
        {
          "output_type": "stream",
          "name": "stderr",
          "text": [
            "/usr/local/lib/python3.7/dist-packages/konlpy/tag/_okt.py:17: UserWarning: \"Twitter\" has changed to \"Okt\" since KoNLPy v0.4.5.\n",
            "  warn('\"Twitter\" has changed to \"Okt\" since KoNLPy v0.4.5.')\n"
          ]
        },
        {
          "output_type": "execute_result",
          "data": {
            "text/plain": [
              "['은', '경이', '는', '사무실', '로', '갔습니다', '.']"
            ]
          },
          "metadata": {},
          "execution_count": 12
        }
      ]
    },
    {
      "cell_type": "code",
      "source": [
        "# 단어 추가\n",
        "twitter.add_dictionary('은경이', 'Noun')\n",
        "\n",
        "twitter.morphs('은경이는 사무실로 갔습니다.')"
      ],
      "metadata": {
        "colab": {
          "base_uri": "https://localhost:8080/"
        },
        "id": "SJFAxwtqqAXQ",
        "outputId": "84e3611c-af20-49bc-aeeb-51b67b23b432"
      },
      "execution_count": 13,
      "outputs": [
        {
          "output_type": "execute_result",
          "data": {
            "text/plain": [
              "['은경이', '는', '사무실', '로', '갔습니다', '.']"
            ]
          },
          "metadata": {},
          "execution_count": 13
        }
      ]
    },
    {
      "cell_type": "code",
      "source": [
        ""
      ],
      "metadata": {
        "id": "9a2oqtm6qIFV"
      },
      "execution_count": null,
      "outputs": []
    }
  ]
}