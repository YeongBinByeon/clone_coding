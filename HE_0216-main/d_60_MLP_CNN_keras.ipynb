{
 "cells": [
  {
   "cell_type": "markdown",
   "metadata": {
    "id": "JIe7bYJMtrfN"
   },
   "source": [
    "# MNIST 이미지 인식\n",
    "\n",
    "## 데이터 로드"
   ]
  },
  {
   "cell_type": "code",
   "execution_count": 1,
   "metadata": {
    "id": "racEBTb_ZzV7"
   },
   "outputs": [],
   "source": [
    "import numpy as np\n",
    "import matplotlib.pyplot as plt\n",
    "%matplotlib inline\n",
    "%config InlineBackend.figure_format = 'retina'"
   ]
  },
  {
   "cell_type": "code",
   "execution_count": 2,
   "metadata": {
    "id": "kCgQFiLZZzV8"
   },
   "outputs": [],
   "source": [
    "# !pip install tensorflow\n",
    "# !pip install keras"
   ]
  },
  {
   "cell_type": "code",
   "execution_count": 3,
   "metadata": {
    "id": "-AQRftuEqGqx"
   },
   "outputs": [],
   "source": [
    "from keras.datasets import mnist\n",
    "from keras.utils.np_utils import to_categorical\n",
    "from keras import layers\n",
    "from keras import models"
   ]
  },
  {
   "cell_type": "markdown",
   "metadata": {
    "id": "JUaSP2MbtRiS"
   },
   "source": [
    "## MNIST 이미지 확인"
   ]
  },
  {
   "cell_type": "code",
   "execution_count": 4,
   "metadata": {
    "colab": {
     "base_uri": "https://localhost:8080/",
     "height": 352
    },
    "id": "vRUwM8gvqToI",
    "outputId": "186f58a4-03a7-4364-acd2-11bc693045ad"
   },
   "outputs": [
    {
     "name": "stdout",
     "output_type": "stream",
     "text": [
      "Downloading data from https://storage.googleapis.com/tensorflow/tf-keras-datasets/mnist.npz\n",
      "11493376/11490434 [==============================] - 0s 0us/step\n",
      "11501568/11490434 [==============================] - 0s 0us/step\n"
     ]
    },
    {
     "data": {
      "text/plain": [
       "<function matplotlib.pyplot.show>"
      ]
     },
     "execution_count": 4,
     "metadata": {},
     "output_type": "execute_result"
    },
    {
     "data": {
      "image/png": "[encoded data removed]",
      "text/plain": [
       "<Figure size 432x288 with 1 Axes>"
      ]
     },
     "metadata": {
      "image/png": {
       "height": 248,
       "width": 251
      },
      "needs_background": "light"
     },
     "output_type": "display_data"
    }
   ],
   "source": [
    "(train_images, train_labels), (test_images, test_labels) = mnist.load_data()\n",
    "plt.imshow(train_images[0], cmap=plt.cm.binary)\n",
    "plt.show"
   ]
  },
  {
   "cell_type": "code",
   "execution_count": 5,
   "metadata": {
    "colab": {
     "base_uri": "https://localhost:8080/"
    },
    "id": "vTWfRgN5ZzV_",
    "outputId": "1508f0d9-41f0-4db6-9bbe-8a9b06f3661d"
   },
   "outputs": [
    {
     "data": {
      "text/plain": [
       "(60000, 28, 28)"
      ]
     },
     "execution_count": 5,
     "metadata": {},
     "output_type": "execute_result"
    }
   ],
   "source": [
    "train_images.shape"
   ]
  },
  {
   "cell_type": "code",
   "execution_count": 6,
   "metadata": {
    "colab": {
     "base_uri": "https://localhost:8080/"
    },
    "id": "C_a3kWryZzV_",
    "outputId": "93eaae1f-6d77-45d6-b03f-28e9db06142b"
   },
   "outputs": [
    {
     "data": {
      "text/plain": [
       "array([5, 0, 4], dtype=uint8)"
      ]
     },
     "execution_count": 6,
     "metadata": {},
     "output_type": "execute_result"
    }
   ],
   "source": [
    "train_labels[:3]"
   ]
  },
  {
   "cell_type": "markdown",
   "metadata": {
    "id": "tB8wYyfEZzV_"
   },
   "source": [
    "## MLP 입력 전처리\n",
    "- MLP는 1차원 텐서 즉 벡터를 입력으로 사용한다\n",
    "- 목적 변수는 원 핫 인코딩을 한다. to_categorical를 사용한다"
   ]
  },
  {
   "cell_type": "code",
   "execution_count": 7,
   "metadata": {
    "id": "EafiutHbqni_"
   },
   "outputs": [],
   "source": [
    "train_images_flat = train_images.reshape(60000, 28*28)\n",
    "train_images_flat = train_images_flat.astype('float32')/255\n",
    "\n",
    "test_images_flat = test_images.reshape(10000, 28*28)\n",
    "test_images_flat = test_images_flat.astype('float32')/255\n",
    "\n",
    "train_labels_cat = to_categorical(train_labels)\n",
    "test_labels_cat = to_categorical(test_labels)"
   ]
  },
  {
   "cell_type": "code",
   "execution_count": 8,
   "metadata": {
    "colab": {
     "base_uri": "https://localhost:8080/"
    },
    "id": "LNqZlZxqZzWA",
    "outputId": "599dc112-a6f6-4dac-e982-cee09488ad25"
   },
   "outputs": [
    {
     "data": {
      "text/plain": [
       "array([[0., 0., 0., 0., 0., 1., 0., 0., 0., 0.],\n",
       "       [1., 0., 0., 0., 0., 0., 0., 0., 0., 0.],\n",
       "       [0., 0., 0., 0., 1., 0., 0., 0., 0., 0.]], dtype=float32)"
      ]
     },
     "execution_count": 8,
     "metadata": {},
     "output_type": "execute_result"
    }
   ],
   "source": [
    "train_labels_cat[:3]"
   ]
  },
  {
   "cell_type": "markdown",
   "metadata": {
    "id": "Czew2EJub6Ja"
   },
   "source": [
    "# MLP 모델"
   ]
  },
  {
   "cell_type": "code",
   "execution_count": 9,
   "metadata": {
    "colab": {
     "base_uri": "https://localhost:8080/"
    },
    "id": "4tlDJdu8b5XD",
    "outputId": "db6b2960-6f84-467d-ab3f-0084c5e414f6"
   },
   "outputs": [
    {
     "name": "stdout",
     "output_type": "stream",
     "text": [
      "Model: \"sequential\"\n",
      "_________________________________________________________________\n",
      "Layer (type)                 Output Shape              Param #   \n",
      "=================================================================\n",
      "dense (Dense)                (None, 100)               78500     \n",
      "_________________________________________________________________\n",
      "dense_1 (Dense)              (None, 100)               10100     \n",
      "_________________________________________________________________\n",
      "dense_2 (Dense)              (None, 10)                1010      \n",
      "=================================================================\n",
      "Total params: 89,610\n",
      "Trainable params: 89,610\n",
      "Non-trainable params: 0\n",
      "_________________________________________________________________\n"
     ]
    }
   ],
   "source": [
    "model = models.Sequential()\n",
    "model.add(layers.Dense(100, activation='relu', input_shape = (28*28,)))\n",
    "model.add(layers.Dense(100, activation='relu'))\n",
    "model.add(layers.Dense(10, activation='softmax'))\n",
    "model.summary()"
   ]
  },
  {
   "cell_type": "code",
   "execution_count": 10,
   "metadata": {
    "id": "jiv81CMBcf88"
   },
   "outputs": [],
   "source": [
    "model.compile(optimizer= 'rmsprop',\n",
    "             loss = 'categorical_crossentropy',\n",
    "             metrics = ['accuracy'])"
   ]
  },
  {
   "cell_type": "code",
   "execution_count": 11,
   "metadata": {
    "colab": {
     "base_uri": "https://localhost:8080/"
    },
    "id": "oV47F7rsb5EY",
    "outputId": "80e9218e-b179-44ef-9288-496b636d7614"
   },
   "outputs": [
    {
     "name": "stdout",
     "output_type": "stream",
     "text": [
      "Epoch 1/3\n",
      "938/938 [==============================] - 7s 4ms/step - loss: 0.2680 - accuracy: 0.9221\n",
      "Epoch 2/3\n",
      "938/938 [==============================] - 4s 4ms/step - loss: 0.1170 - accuracy: 0.9649\n",
      "Epoch 3/3\n",
      "938/938 [==============================] - 4s 4ms/step - loss: 0.0831 - accuracy: 0.9750\n"
     ]
    },
    {
     "data": {
      "text/plain": [
       "<keras.callbacks.History at 0x7f83e798dbd0>"
      ]
     },
     "execution_count": 11,
     "metadata": {},
     "output_type": "execute_result"
    }
   ],
   "source": [
    "model.fit(train_images_flat, train_labels_cat, epochs=3, batch_size=64)"
   ]
  },
  {
   "cell_type": "code",
   "execution_count": 12,
   "metadata": {
    "colab": {
     "base_uri": "https://localhost:8080/"
    },
    "id": "JWGwyDRBdNqL",
    "outputId": "9f8cc084-d6db-4bb9-ed79-dfd54595ddd9"
   },
   "outputs": [
    {
     "name": "stdout",
     "output_type": "stream",
     "text": [
      "313/313 [==============================] - 1s 3ms/step - loss: 0.0915 - accuracy: 0.9708\n",
      "loss, acc =  0.09146393090486526 0.97079998254776\n"
     ]
    }
   ],
   "source": [
    "test_loss, test_acc = model.evaluate(test_images_flat, test_labels_cat)\n",
    "print('loss, acc = ',test_loss, test_acc)"
   ]
  },
  {
   "cell_type": "markdown",
   "metadata": {
    "id": "H6bgW5hsidhB"
   },
   "source": [
    "###  예측에 사용하기\n",
    "- agrmax()로 판별"
   ]
  },
  {
   "cell_type": "code",
   "execution_count": 13,
   "metadata": {
    "colab": {
     "base_uri": "https://localhost:8080/"
    },
    "id": "aC65kd69hms8",
    "outputId": "e4611162-f440-45cd-9193-a01f0d3632c8"
   },
   "outputs": [
    {
     "data": {
      "text/plain": [
       "array([[1.4567356e-09, 7.4509366e-08, 1.5134860e-07, 1.0668320e-02,\n",
       "        6.4558337e-14, 9.8933136e-01, 1.0078044e-10, 1.3668271e-10,\n",
       "        2.2042997e-08, 1.3426542e-07],\n",
       "       [9.9997032e-01, 3.0064989e-10, 2.1213335e-05, 2.1893251e-07,\n",
       "        1.1106848e-09, 1.4926590e-08, 2.0457795e-08, 7.4064233e-06,\n",
       "        3.1377476e-07, 4.9711832e-07],\n",
       "       [4.8249120e-08, 8.4093163e-06, 3.4094538e-04, 7.1011623e-06,\n",
       "        9.9693310e-01, 1.7378233e-06, 1.4566567e-05, 2.6458909e-03,\n",
       "        6.7463093e-06, 4.1359472e-05]], dtype=float32)"
      ]
     },
     "execution_count": 13,
     "metadata": {},
     "output_type": "execute_result"
    }
   ],
   "source": [
    "model.predict(train_images_flat[0:3])"
   ]
  },
  {
   "cell_type": "code",
   "execution_count": 14,
   "metadata": {
    "colab": {
     "base_uri": "https://localhost:8080/"
    },
    "id": "58bzUyEUiBqU",
    "outputId": "b57e10f8-ccfc-4931-83a5-5b9ef254bafa"
   },
   "outputs": [
    {
     "data": {
      "text/plain": [
       "array([5, 0, 4])"
      ]
     },
     "execution_count": 14,
     "metadata": {},
     "output_type": "execute_result"
    }
   ],
   "source": [
    "np.argmax(model.predict(train_images_flat[0:3]), axis=1)"
   ]
  },
  {
   "cell_type": "markdown",
   "metadata": {
    "id": "44tLYKCwtYc-"
   },
   "source": [
    "# CNN 모델\n",
    "- 입력으로 4차원 구조를 필요로 한다\n",
    "- (샘플수, 행, 열, 특성수)"
   ]
  },
  {
   "cell_type": "code",
   "execution_count": 15,
   "metadata": {
    "id": "-uSV7hakZzWC"
   },
   "outputs": [],
   "source": [
    "train_images_cnn = train_images.reshape(-1,28,28,1)\n",
    "test_images_cnn = test_images.reshape(-1,28,28,1)"
   ]
  },
  {
   "cell_type": "code",
   "execution_count": 16,
   "metadata": {
    "colab": {
     "base_uri": "https://localhost:8080/"
    },
    "id": "ZF7JkSQvrYAj",
    "outputId": "58579186-9350-4bb4-8a30-d400fd8edebe"
   },
   "outputs": [
    {
     "name": "stdout",
     "output_type": "stream",
     "text": [
      "Model: \"sequential_1\"\n",
      "_________________________________________________________________\n",
      "Layer (type)                 Output Shape              Param #   \n",
      "=================================================================\n",
      "conv2d (Conv2D)              (None, 26, 26, 32)        320       \n",
      "_________________________________________________________________\n",
      "max_pooling2d (MaxPooling2D) (None, 13, 13, 32)        0         \n",
      "_________________________________________________________________\n",
      "conv2d_1 (Conv2D)            (None, 11, 11, 64)        18496     \n",
      "_________________________________________________________________\n",
      "max_pooling2d_1 (MaxPooling2 (None, 5, 5, 64)          0         \n",
      "_________________________________________________________________\n",
      "conv2d_2 (Conv2D)            (None, 3, 3, 64)          36928     \n",
      "_________________________________________________________________\n",
      "flatten (Flatten)            (None, 576)               0         \n",
      "_________________________________________________________________\n",
      "dense_3 (Dense)              (None, 10)                5770      \n",
      "=================================================================\n",
      "Total params: 61,514\n",
      "Trainable params: 61,514\n",
      "Non-trainable params: 0\n",
      "_________________________________________________________________\n"
     ]
    }
   ],
   "source": [
    "from keras import layers\n",
    "from keras import models\n",
    "\n",
    "model = models.Sequential()\n",
    "model.add(layers.Conv2D(32, (3,3), activation='relu', input_shape = (28, 28,1)))\n",
    "model.add(layers.MaxPooling2D((2,2)))\n",
    "model.add(layers.Conv2D(64, (3,3), activation='relu'))\n",
    "model.add(layers.MaxPooling2D((2,2)))\n",
    "model.add(layers.Conv2D(64, (3,3), activation='relu'))\n",
    "\n",
    "model.add(layers.Flatten())\n",
    "model.add(layers.Dense(10, activation='softmax'))\n",
    "\n",
    "model.summary()   "
   ]
  },
  {
   "cell_type": "code",
   "execution_count": 17,
   "metadata": {
    "id": "_ikkdb8qsx6d"
   },
   "outputs": [],
   "source": [
    "model.compile(optimizer= 'rmsprop',\n",
    "             loss = 'categorical_crossentropy',\n",
    "             metrics = ['accuracy'])"
   ]
  },
  {
   "cell_type": "code",
   "execution_count": 18,
   "metadata": {
    "colab": {
     "base_uri": "https://localhost:8080/"
    },
    "id": "FWsfipcXu20x",
    "outputId": "d8e9485c-3d6f-4ee5-e060-eb0e5d743685"
   },
   "outputs": [
    {
     "name": "stdout",
     "output_type": "stream",
     "text": [
      "Epoch 1/3\n",
      "938/938 [==============================] - 36s 9ms/step - loss: 0.3890 - accuracy: 0.9394\n",
      "Epoch 2/3\n",
      "938/938 [==============================] - 8s 8ms/step - loss: 0.0589 - accuracy: 0.9837\n",
      "Epoch 3/3\n",
      "938/938 [==============================] - 8s 8ms/step - loss: 0.0434 - accuracy: 0.9882\n"
     ]
    },
    {
     "data": {
      "text/plain": [
       "<keras.callbacks.History at 0x7f836ca84990>"
      ]
     },
     "execution_count": 18,
     "metadata": {},
     "output_type": "execute_result"
    }
   ],
   "source": [
    "model.fit(train_images_cnn, train_labels_cat, epochs=3, batch_size=64)"
   ]
  },
  {
   "cell_type": "code",
   "execution_count": 19,
   "metadata": {
    "colab": {
     "base_uri": "https://localhost:8080/"
    },
    "id": "H4MhJEoUvCm0",
    "outputId": "fd0367ce-5554-42d2-fcbe-da87f9ca53ec"
   },
   "outputs": [
    {
     "name": "stdout",
     "output_type": "stream",
     "text": [
      "313/313 [==============================] - 2s 4ms/step - loss: 0.0508 - accuracy: 0.9855\n",
      "test_acc =  0.9854999780654907\n"
     ]
    }
   ],
   "source": [
    "test_loss, test_acc = model.evaluate(test_images_cnn, test_labels_cat)\n",
    "print('test_acc = ',test_acc)"
   ]
  },
  {
   "cell_type": "code",
   "execution_count": 20,
   "metadata": {
    "colab": {
     "base_uri": "https://localhost:8080/"
    },
    "id": "bb0S4RHVjLR_",
    "outputId": "f4df997c-62f0-4dcf-f449-15a50040970e"
   },
   "outputs": [
    {
     "data": {
      "text/plain": [
       "array([[1.1473170e-17, 1.9582922e-14, 7.4825291e-14, 5.0693183e-05,\n",
       "        1.8854987e-15, 9.9994934e-01, 1.8751610e-13, 4.1450152e-11,\n",
       "        4.4978509e-12, 5.4155606e-08],\n",
       "       [9.9999917e-01, 2.0249339e-11, 4.3717932e-07, 2.9148763e-11,\n",
       "        1.7749244e-12, 4.1779207e-09, 2.7392238e-07, 1.8500314e-12,\n",
       "        7.6201667e-09, 8.8898382e-08],\n",
       "       [3.3045217e-16, 7.2751444e-11, 5.4930249e-10, 2.9582839e-14,\n",
       "        9.9997973e-01, 1.0426914e-09, 4.2961084e-14, 7.7769533e-09,\n",
       "        4.6519979e-08, 2.0273392e-05]], dtype=float32)"
      ]
     },
     "execution_count": 20,
     "metadata": {},
     "output_type": "execute_result"
    }
   ],
   "source": [
    "model.predict(train_images_cnn[:3])"
   ]
  },
  {
   "cell_type": "code",
   "execution_count": 21,
   "metadata": {
    "colab": {
     "base_uri": "https://localhost:8080/"
    },
    "id": "WQutnaIBjT68",
    "outputId": "161bdf1e-7768-4bf2-d37b-b1e07ad8195e"
   },
   "outputs": [
    {
     "data": {
      "text/plain": [
       "array([5, 0, 4])"
      ]
     },
     "execution_count": 21,
     "metadata": {},
     "output_type": "execute_result"
    }
   ],
   "source": [
    "np.argmax(model.predict(train_images_cnn[:3]), axis=1)"
   ]
  },
  {
   "cell_type": "markdown",
   "metadata": {
    "id": "snRNbW4dv7cF"
   },
   "source": [
    "# (참고) MLP를 이용한  회귀 예측"
   ]
  },
  {
   "cell_type": "code",
   "execution_count": 22,
   "metadata": {
    "colab": {
     "base_uri": "https://localhost:8080/"
    },
    "id": "rNy5eSjPgbW3",
    "outputId": "61a2b555-6545-4ecf-f3dc-6337c371a057"
   },
   "outputs": [
    {
     "name": "stdout",
     "output_type": "stream",
     "text": [
      "Downloading data from https://storage.googleapis.com/tensorflow/tf-keras-datasets/boston_housing.npz\n",
      "57344/57026 [==============================] - 0s 0us/step\n",
      "65536/57026 [==================================] - 0s 0us/step\n",
      "(404, 13)\n"
     ]
    },
    {
     "data": {
      "text/plain": [
       "array([[1.23247e+00, 0.00000e+00, 8.14000e+00, 0.00000e+00, 5.38000e-01,\n",
       "        6.14200e+00, 9.17000e+01, 3.97690e+00, 4.00000e+00, 3.07000e+02,\n",
       "        2.10000e+01, 3.96900e+02, 1.87200e+01],\n",
       "       [2.17700e-02, 8.25000e+01, 2.03000e+00, 0.00000e+00, 4.15000e-01,\n",
       "        7.61000e+00, 1.57000e+01, 6.27000e+00, 2.00000e+00, 3.48000e+02,\n",
       "        1.47000e+01, 3.95380e+02, 3.11000e+00],\n",
       "       [4.89822e+00, 0.00000e+00, 1.81000e+01, 0.00000e+00, 6.31000e-01,\n",
       "        4.97000e+00, 1.00000e+02, 1.33250e+00, 2.40000e+01, 6.66000e+02,\n",
       "        2.02000e+01, 3.75520e+02, 3.26000e+00]])"
      ]
     },
     "execution_count": 22,
     "metadata": {},
     "output_type": "execute_result"
    }
   ],
   "source": [
    "from keras.datasets import boston_housing\n",
    "(x_train, y_train), (x_test, y_test) = boston_housing.load_data()\n",
    "print(x_train.shape)\n",
    "\n",
    "x_train[:3]"
   ]
  },
  {
   "cell_type": "code",
   "execution_count": 23,
   "metadata": {
    "colab": {
     "base_uri": "https://localhost:8080/"
    },
    "id": "Tw2M-KNFgbW3",
    "outputId": "eb139a01-42bd-4883-ad57-0d8deac7194a"
   },
   "outputs": [
    {
     "name": "stdout",
     "output_type": "stream",
     "text": [
      "Model: \"sequential_2\"\n",
      "_________________________________________________________________\n",
      "Layer (type)                 Output Shape              Param #   \n",
      "=================================================================\n",
      "dense_4 (Dense)              (None, 32)                448       \n",
      "_________________________________________________________________\n",
      "batch_normalization (BatchNo (None, 32)                128       \n",
      "_________________________________________________________________\n",
      "dense_5 (Dense)              (None, 16)                528       \n",
      "_________________________________________________________________\n",
      "batch_normalization_1 (Batch (None, 16)                64        \n",
      "_________________________________________________________________\n",
      "dropout (Dropout)            (None, 16)                0         \n",
      "_________________________________________________________________\n",
      "dense_6 (Dense)              (None, 1)                 17        \n",
      "=================================================================\n",
      "Total params: 1,185\n",
      "Trainable params: 1,089\n",
      "Non-trainable params: 96\n",
      "_________________________________________________________________\n"
     ]
    }
   ],
   "source": [
    "model = models.Sequential()\n",
    "model.add(layers.Dense(32, activation='relu', input_shape = (13,)))\n",
    "model.add(layers.BatchNormalization())\n",
    "model.add(layers.Dense(16, activation='relu'))\n",
    "model.add(layers.BatchNormalization())\n",
    "model.add(layers.Dropout(0.2))\n",
    "model.add(layers.Dense(1, activation='linear'))\n",
    "model.summary()"
   ]
  },
  {
   "cell_type": "code",
   "execution_count": 24,
   "metadata": {
    "colab": {
     "base_uri": "https://localhost:8080/"
    },
    "id": "_yGvkO2igbW4",
    "outputId": "e0dae6c8-bb43-4bdd-b224-c7b5796ddf71"
   },
   "outputs": [
    {
     "name": "stdout",
     "output_type": "stream",
     "text": [
      "Epoch 1/32\n",
      "51/51 [==============================] - 1s 5ms/step - loss: 579.6453\n",
      "Epoch 2/32\n",
      "51/51 [==============================] - 0s 5ms/step - loss: 562.8892\n",
      "Epoch 3/32\n",
      "51/51 [==============================] - 0s 5ms/step - loss: 542.6131\n",
      "Epoch 4/32\n",
      "51/51 [==============================] - 0s 5ms/step - loss: 524.0461\n",
      "Epoch 5/32\n",
      "51/51 [==============================] - 0s 5ms/step - loss: 497.7185\n",
      "Epoch 6/32\n",
      "51/51 [==============================] - 0s 5ms/step - loss: 468.3247\n",
      "Epoch 7/32\n",
      "51/51 [==============================] - 0s 5ms/step - loss: 447.5298\n",
      "Epoch 8/32\n",
      "51/51 [==============================] - 0s 5ms/step - loss: 403.3696\n",
      "Epoch 9/32\n",
      "51/51 [==============================] - 0s 5ms/step - loss: 359.9807\n",
      "Epoch 10/32\n",
      "51/51 [==============================] - 0s 5ms/step - loss: 319.2202\n",
      "Epoch 11/32\n",
      "51/51 [==============================] - 0s 5ms/step - loss: 281.0418\n",
      "Epoch 12/32\n",
      "51/51 [==============================] - 0s 5ms/step - loss: 245.4546\n",
      "Epoch 13/32\n",
      "51/51 [==============================] - 0s 5ms/step - loss: 216.8562\n",
      "Epoch 14/32\n",
      "51/51 [==============================] - 0s 5ms/step - loss: 175.7777\n",
      "Epoch 15/32\n",
      "51/51 [==============================] - 0s 5ms/step - loss: 142.8098\n",
      "Epoch 16/32\n",
      "51/51 [==============================] - 0s 5ms/step - loss: 117.3677\n",
      "Epoch 17/32\n",
      "51/51 [==============================] - 0s 6ms/step - loss: 102.0292\n",
      "Epoch 18/32\n",
      "51/51 [==============================] - 0s 5ms/step - loss: 87.0119\n",
      "Epoch 19/32\n",
      "51/51 [==============================] - 0s 5ms/step - loss: 71.1395\n",
      "Epoch 20/32\n",
      "51/51 [==============================] - 0s 5ms/step - loss: 66.4170\n",
      "Epoch 21/32\n",
      "51/51 [==============================] - 0s 5ms/step - loss: 62.9785\n",
      "Epoch 22/32\n",
      "51/51 [==============================] - 0s 5ms/step - loss: 48.5580\n",
      "Epoch 23/32\n",
      "51/51 [==============================] - 0s 5ms/step - loss: 52.1431\n",
      "Epoch 24/32\n",
      "51/51 [==============================] - 0s 5ms/step - loss: 47.0533\n",
      "Epoch 25/32\n",
      "51/51 [==============================] - 0s 5ms/step - loss: 43.7480\n",
      "Epoch 26/32\n",
      "51/51 [==============================] - 0s 5ms/step - loss: 47.9838\n",
      "Epoch 27/32\n",
      "51/51 [==============================] - 0s 5ms/step - loss: 48.0119\n",
      "Epoch 28/32\n",
      "51/51 [==============================] - 0s 5ms/step - loss: 42.0859\n",
      "Epoch 29/32\n",
      "51/51 [==============================] - 0s 5ms/step - loss: 40.4877\n",
      "Epoch 30/32\n",
      "51/51 [==============================] - 0s 5ms/step - loss: 51.1755\n",
      "Epoch 31/32\n",
      "51/51 [==============================] - 0s 5ms/step - loss: 42.8788\n",
      "Epoch 32/32\n",
      "51/51 [==============================] - 0s 5ms/step - loss: 42.8284\n"
     ]
    }
   ],
   "source": [
    "model.compile(optimizer= 'adam', loss = 'mean_squared_error')\n",
    "history = model.fit(x_train, y_train, epochs=32, batch_size=8, verbose=1)"
   ]
  },
  {
   "cell_type": "code",
   "execution_count": 25,
   "metadata": {
    "colab": {
     "base_uri": "https://localhost:8080/"
    },
    "id": "QJyjZWnEgbW4",
    "outputId": "f8a58277-12ce-455b-a98f-fdd4b2f7b07a"
   },
   "outputs": [
    {
     "data": {
      "text/plain": [
       "array([[ 5.1292176],\n",
       "       [19.521084 ],\n",
       "       [21.691605 ],\n",
       "       [34.62658  ],\n",
       "       [23.146355 ],\n",
       "       [20.166267 ],\n",
       "       [27.396204 ],\n",
       "       [23.75312  ],\n",
       "       [19.5324   ],\n",
       "       [16.138533 ]], dtype=float32)"
      ]
     },
     "execution_count": 25,
     "metadata": {},
     "output_type": "execute_result"
    }
   ],
   "source": [
    "model.predict(x_test[:10])"
   ]
  },
  {
   "cell_type": "code",
   "execution_count": 26,
   "metadata": {
    "colab": {
     "base_uri": "https://localhost:8080/"
    },
    "id": "RmkvM_htgbW4",
    "outputId": "258ec21e-ada0-4f46-c444-583324c065cf"
   },
   "outputs": [
    {
     "data": {
      "text/plain": [
       "array([ 7.2, 18.8, 19. , 27. , 22.2, 24.5, 31.2, 22.9, 20.5, 23.2])"
      ]
     },
     "execution_count": 26,
     "metadata": {},
     "output_type": "execute_result"
    }
   ],
   "source": [
    "y_test[:10]"
   ]
  },
  {
   "cell_type": "code",
   "execution_count": 27,
   "metadata": {
    "colab": {
     "base_uri": "https://localhost:8080/",
     "height": 203
    },
    "id": "hTqXXw3Ikwlb",
    "outputId": "7d899b01-1362-4c17-bc55-52506935af98"
   },
   "outputs": [
    {
     "data": {
      "text/html": [
       "<div>\n",
       "<style scoped>\n",
       "    .dataframe tbody tr th:only-of-type {\n",
       "        vertical-align: middle;\n",
       "    }\n",
       "\n",
       "    .dataframe tbody tr th {\n",
       "        vertical-align: top;\n",
       "    }\n",
       "\n",
       "    .dataframe thead th {\n",
       "        text-align: right;\n",
       "    }\n",
       "</style>\n",
       "<table border=\"1\" class=\"dataframe\">\n",
       "  <thead>\n",
       "    <tr style=\"text-align: right;\">\n",
       "      <th></th>\n",
       "      <th>y_pred</th>\n",
       "      <th>y_test</th>\n",
       "    </tr>\n",
       "  </thead>\n",
       "  <tbody>\n",
       "    <tr>\n",
       "      <th>0</th>\n",
       "      <td>5.129218</td>\n",
       "      <td>7.2</td>\n",
       "    </tr>\n",
       "    <tr>\n",
       "      <th>1</th>\n",
       "      <td>19.521084</td>\n",
       "      <td>18.8</td>\n",
       "    </tr>\n",
       "    <tr>\n",
       "      <th>2</th>\n",
       "      <td>21.691605</td>\n",
       "      <td>19.0</td>\n",
       "    </tr>\n",
       "    <tr>\n",
       "      <th>3</th>\n",
       "      <td>34.626579</td>\n",
       "      <td>27.0</td>\n",
       "    </tr>\n",
       "    <tr>\n",
       "      <th>4</th>\n",
       "      <td>23.146355</td>\n",
       "      <td>22.2</td>\n",
       "    </tr>\n",
       "  </tbody>\n",
       "</table>\n",
       "</div>"
      ],
      "text/plain": [
       "      y_pred  y_test\n",
       "0   5.129218     7.2\n",
       "1  19.521084    18.8\n",
       "2  21.691605    19.0\n",
       "3  34.626579    27.0\n",
       "4  23.146355    22.2"
      ]
     },
     "execution_count": 27,
     "metadata": {},
     "output_type": "execute_result"
    }
   ],
   "source": [
    "import pandas as pd\n",
    "y_pred = model.predict(x_test).ravel()\n",
    "df = pd.DataFrame({'y_pred': y_pred, 'y_test':y_test})\n",
    "df[:5]"
   ]
  },
  {
   "cell_type": "code",
   "execution_count": 28,
   "metadata": {
    "colab": {
     "base_uri": "https://localhost:8080/"
    },
    "id": "VXRfHaYXliRd",
    "outputId": "c24ab1ca-7159-4139-b155-9a9acdf38968"
   },
   "outputs": [
    {
     "data": {
      "text/plain": [
       "-0.9192596634524588"
      ]
     },
     "execution_count": 28,
     "metadata": {},
     "output_type": "execute_result"
    }
   ],
   "source": [
    "from sklearn.metrics import r2_score\n",
    "r2_score(y_test, y_pred)"
   ]
  },
  {
   "cell_type": "code",
   "execution_count": 29,
   "metadata": {
    "colab": {
     "base_uri": "https://localhost:8080/",
     "height": 282
    },
    "id": "riS3AIFdmQuG",
    "outputId": "db81947b-ba52-4be2-c0e4-81ac5a85a1aa"
   },
   "outputs": [
    {
     "data": {
      "text/plain": [
       "[<matplotlib.lines.Line2D at 0x7f82ee7eb690>]"
      ]
     },
     "execution_count": 29,
     "metadata": {},
     "output_type": "execute_result"
    },
    {
     "data": {
      "image/png": "[encoded data removed]",
      "text/plain": [
       "<Figure size 432x288 with 1 Axes>"
      ]
     },
     "metadata": {
      "image/png": {
       "height": 248,
       "width": 375
      },
      "needs_background": "light"
     },
     "output_type": "display_data"
    }
   ],
   "source": [
    "import matplotlib.pyplot as plt\n",
    "plt.plot(y_pred, c='b')\n",
    "plt.plot(y_test, c='r')"
   ]
  },
  {
   "cell_type": "code",
   "execution_count": 30,
   "metadata": {
    "colab": {
     "base_uri": "https://localhost:8080/",
     "height": 282
    },
    "id": "9bLWjWm-mffS",
    "outputId": "e447ee5d-84e9-4780-b580-32f9f89466bb"
   },
   "outputs": [
    {
     "data": {
      "text/plain": [
       "<matplotlib.collections.PathCollection at 0x7f82ee79cfd0>"
      ]
     },
     "execution_count": 30,
     "metadata": {},
     "output_type": "execute_result"
    },
    {
     "data": {
      "image/png": "[encoded data removed]",
      "text/plain": [
       "<Figure size 432x288 with 1 Axes>"
      ]
     },
     "metadata": {
      "image/png": {
       "height": 248,
       "width": 375
      },
      "needs_background": "light"
     },
     "output_type": "display_data"
    }
   ],
   "source": [
    "plt.scatter(y_test, np.abs(y_test-y_pred), s=5)"
   ]
  },
  {
   "cell_type": "code",
   "execution_count": 31,
   "metadata": {
    "colab": {
     "base_uri": "https://localhost:8080/"
    },
    "id": "2-27KnmUgbW5",
    "outputId": "56f2d200-1e71-496b-efda-6ce87dbc8411"
   },
   "outputs": [
    {
     "data": {
      "text/plain": [
       "dict_keys(['loss'])"
      ]
     },
     "execution_count": 31,
     "metadata": {},
     "output_type": "execute_result"
    }
   ],
   "source": [
    "history.history.keys()"
   ]
  },
  {
   "cell_type": "code",
   "execution_count": 32,
   "metadata": {
    "colab": {
     "base_uri": "https://localhost:8080/",
     "height": 266
    },
    "id": "sl9a38gPgbW5",
    "outputId": "c2de100f-32b7-48a5-8361-72b4b1a68ae3"
   },
   "outputs": [
    {
     "data": {
      "image/png": "[encoded data removed]",
      "text/plain": [
       "<Figure size 432x288 with 1 Axes>"
      ]
     },
     "metadata": {
      "image/png": {
       "height": 249,
       "width": 375
      },
      "needs_background": "light"
     },
     "output_type": "display_data"
    }
   ],
   "source": [
    "loss = history.history['loss']\n",
    "epochs = range(1, len(loss)+1)\n",
    "plt.plot(epochs, loss, 'ro', label='Training loss')\n",
    "plt.legend()\n",
    "plt.show()"
   ]
  }
 ],
 "metadata": {
  "accelerator": "GPU",
  "colab": {
   "collapsed_sections": [],
   "name": "d_33_MLP_CNN.ipynb",
   "provenance": [],
   "toc_visible": true
  },
  "kernelspec": {
   "display_name": "Python 3",
   "language": "python",
   "name": "python3"
  },
  "language_info": {
   "codemirror_mode": {
    "name": "ipython",
    "version": 3
   },
   "file_extension": ".py",
   "mimetype": "text/x-python",
   "name": "python",
   "nbconvert_exporter": "python",
   "pygments_lexer": "ipython3",
   "version": "3.8.8"
  },
  "toc": {
   "base_numbering": 1,
   "nav_menu": {},
   "number_sections": false,
   "sideBar": true,
   "skip_h1_title": false,
   "title_cell": "Table of Contents",
   "title_sidebar": "Contents",
   "toc_cell": false,
   "toc_position": {},
   "toc_section_display": true,
   "toc_window_display": true
  }
 },
 "nbformat": 4,
 "nbformat_minor": 1
}
