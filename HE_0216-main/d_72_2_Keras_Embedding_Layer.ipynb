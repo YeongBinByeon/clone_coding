{
 "cells": [
  {
   "cell_type": "markdown",
   "metadata": {
    "id": "uOIZMqjwyj3d"
   },
   "source": [
    "# 단어 임베딩\n",
    "- 감성 분석을 수행하며 단어 임베딩 생성"
   ]
  },
  {
   "cell_type": "code",
   "execution_count": 33,
   "metadata": {
    "colab": {
     "base_uri": "https://localhost:8080/"
    },
    "id": "mbooex9FQaPq",
    "outputId": "77e7cee8-17c4-4107-d37a-df68035c688d"
   },
   "outputs": [
    {
     "name": "stdout",
     "output_type": "stream",
     "text": [
      "[[6, 2], [3, 1], [7, 4], [8, 1], [9], [10], [5, 4], [11, 3], [5, 1], [12, 13, 2, 14]]\n"
     ]
    }
   ],
   "source": [
    "import numpy as np\n",
    "from keras.preprocessing.text import one_hot, Tokenizer\n",
    "from keras.preprocessing.sequence import pad_sequences\n",
    "from keras.models import Sequential\n",
    "from keras.layers import Dense\n",
    "from keras.layers import Flatten\n",
    "from keras.layers.embeddings import Embedding\n",
    "%config InlineBackend.figure_format = 'retina'\n",
    "\n",
    "\n",
    "# 10개의 문장으로 구성된 문서 정의\n",
    "docs = np.array(['Well done!',\n",
    "        'Good work',\n",
    "        'Great effort',\n",
    "        'nice work',\n",
    "        'Excellent!',\n",
    "        'Weak',\n",
    "        'Poor effort!',\n",
    "        'not good',\n",
    "        'poor work',\n",
    "        'Could have done better.'])\n",
    "# 감성 레이블 1: 긍정, 0: 부정\n",
    "labels = np.array([1,1,1,1,1,0,0,0,0,0])\n",
    "\n",
    "# 토큰화\n",
    "vocab_size = 20 # 충분히 큰 숫자를 지정한다\n",
    "tokenizer = Tokenizer(num_words=vocab_size)\n",
    "tokenizer.fit_on_texts(docs)\n",
    "\n",
    "# 문장을 인코딩\n",
    "encoded_docs = tokenizer.texts_to_sequences(docs)\n",
    "print(encoded_docs)\n"
   ]
  },
  {
   "cell_type": "code",
   "execution_count": 35,
   "metadata": {
    "colab": {
     "base_uri": "https://localhost:8080/"
    },
    "id": "JmWSPxb8zVcg",
    "outputId": "be750a5b-62d6-46e6-b126-5c13d9e2bbd7"
   },
   "outputs": [
    {
     "data": {
      "text/plain": [
       "{'better': 14,\n",
       " 'could': 12,\n",
       " 'done': 2,\n",
       " 'effort': 4,\n",
       " 'excellent': 9,\n",
       " 'good': 3,\n",
       " 'great': 7,\n",
       " 'have': 13,\n",
       " 'nice': 8,\n",
       " 'not': 11,\n",
       " 'poor': 5,\n",
       " 'weak': 10,\n",
       " 'well': 6,\n",
       " 'work': 1}"
      ]
     },
     "execution_count": 35,
     "metadata": {},
     "output_type": "execute_result"
    }
   ],
   "source": [
    "# 토큰화 결과 보기 (인코딩 결과가 딕셔너리에 저장됨)\n",
    "tokenizer.word_index"
   ]
  },
  {
   "cell_type": "code",
   "execution_count": 36,
   "metadata": {
    "colab": {
     "base_uri": "https://localhost:8080/"
    },
    "id": "a9qgD1q5zQEt",
    "outputId": "2a0a2dd3-bcb5-4685-c2b2-e41d1af856bf"
   },
   "outputs": [
    {
     "name": "stdout",
     "output_type": "stream",
     "text": [
      "[[ 6  2  0  0]\n",
      " [ 3  1  0  0]\n",
      " [ 7  4  0  0]\n",
      " [ 8  1  0  0]\n",
      " [ 9  0  0  0]\n",
      " [10  0  0  0]\n",
      " [ 5  4  0  0]\n",
      " [11  3  0  0]\n",
      " [ 5  1  0  0]\n",
      " [12 13  2 14]]\n"
     ]
    }
   ],
   "source": [
    "# 문장의 길이를 가장 긴 4 단어로 맞춤 (패딩)\n",
    "max_length = 4\n",
    "padded_docs = pad_sequences(encoded_docs, maxlen=max_length, padding='post')\n",
    "print(padded_docs)"
   ]
  },
  {
   "cell_type": "code",
   "execution_count": 37,
   "metadata": {
    "colab": {
     "base_uri": "https://localhost:8080/"
    },
    "id": "KbFd3g6kQhfM",
    "outputId": "ab8b6a8c-fff0-4c9f-c771-b10b66088fab"
   },
   "outputs": [
    {
     "name": "stdout",
     "output_type": "stream",
     "text": [
      "{'work': array([ 0.03338187,  0.02890731, -0.06290624,  0.07967303,  0.06978413,\n",
      "       -0.05083824,  0.05157545, -0.04204298], dtype=float32), 'done': array([ 0.07553969,  0.07773639, -0.07216284,  0.01046565, -0.04502609,\n",
      "       -0.04864708,  0.10027366, -0.05961209], dtype=float32), 'good': array([-0.01242673, -0.0673933 ,  0.04230712,  0.01820541, -0.08363136,\n",
      "        0.0871869 , -0.01438637,  0.08850159], dtype=float32), 'effort': array([ 0.00864481, -0.09041593,  0.00069677, -0.01304612, -0.06264058,\n",
      "        0.05779323, -0.00331549, -0.00631199], dtype=float32), 'poor': array([ 0.06914441,  0.04420276, -0.02048748, -0.03990904, -0.00544797,\n",
      "       -0.01495453,  0.05756018, -0.08631419], dtype=float32), 'well': array([-0.03313544, -0.04893695,  0.01825487,  0.02356319,  0.09365205,\n",
      "        0.0191354 , -0.0913894 ,  0.01857515], dtype=float32), 'great': array([-0.00584964, -0.01570915, -0.02513573,  0.0538801 ,  0.0905799 ,\n",
      "        0.05697586, -0.01173427,  0.07852455], dtype=float32), 'nice': array([-0.08082841, -0.07455451, -0.05291509,  0.01673179,  0.06584725,\n",
      "        0.03607635, -0.016911  ,  0.05577091], dtype=float32), 'excellent': array([-0.08732186, -0.04633345,  0.01643905,  0.04144346,  0.0493494 ,\n",
      "        0.01134195, -0.02428904,  0.10220608], dtype=float32), 'weak': array([ 0.09638421,  0.03138498,  0.07245107, -0.07387771, -0.01921353,\n",
      "       -0.09076289,  0.07978283, -0.09348885], dtype=float32), 'not': array([ 0.07131691,  0.05002371, -0.02329795, -0.06656736, -0.05531557,\n",
      "       -0.01931343,  0.06760132, -0.0372383 ], dtype=float32), 'could': array([ 0.07445592,  0.01590134, -0.02031497, -0.02024764, -0.08770712,\n",
      "       -0.00739307,  0.0477284 , -0.04780974], dtype=float32), 'have': array([-0.09266245, -0.07800845,  0.09323668, -0.00434049, -0.03563975,\n",
      "        0.08602422, -0.04707437,  0.07209411], dtype=float32), 'better': array([ 0.0849871 , -0.09193154,  0.03834551,  0.03239368, -0.06223386,\n",
      "       -0.0494677 ,  0.06705085, -0.02167504], dtype=float32)}\n"
     ]
    }
   ],
   "source": [
    "# 단어 임베딩 얻기. 케라스의 Embedding() 사용\n",
    "# 임베딩 벡터 크기를 8로 지정\n",
    "# 감성 분류(이진 분류)를 위해서 로지스틱 회귀 사용\n",
    "model = Sequential()\n",
    "model.add(Embedding(vocab_size, 8, input_length=max_length, name='embeddings'))\n",
    "model.add(Flatten())\n",
    "model.add(Dense(1, activation='sigmoid'))\n",
    "\n",
    "# 모델 컴파일\n",
    "model.compile(optimizer='adam', loss='binary_crossentropy', metrics=['accuracy'])\n",
    "\n",
    "# 모델 학습\n",
    "model.fit(padded_docs, labels, epochs=50, verbose=0)\n",
    "\n",
    "# 임베딩 벡터 저장\n",
    "embeddings = model.get_layer('embeddings').get_weights()[0]\n",
    "w2v_my = {}\n",
    "\n",
    "for word, index in tokenizer.word_index.items():\n",
    "    w2v_my[word] = embeddings[index]\n",
    "\n",
    "print(w2v_my)"
   ]
  },
  {
   "cell_type": "code",
   "execution_count": 38,
   "metadata": {
    "colab": {
     "base_uri": "https://localhost:8080/"
    },
    "id": "fQsBfA8hQvLk",
    "outputId": "42d276ea-eca6-471d-f444-095bf22c23e5"
   },
   "outputs": [
    {
     "name": "stdout",
     "output_type": "stream",
     "text": [
      "Accuracy: 80.000001\n"
     ]
    }
   ],
   "source": [
    "# evaluate the model\n",
    "loss, accuracy = model.evaluate(padded_docs, labels, verbose=0)\n",
    "print('Accuracy: %f' % (accuracy*100))"
   ]
  },
  {
   "cell_type": "code",
   "execution_count": 45,
   "metadata": {
    "colab": {
     "base_uri": "https://localhost:8080/"
    },
    "id": "7k7bcOPY1NMT",
    "outputId": "37a81ba5-ae23-441f-a907-fb50039fcb4d"
   },
   "outputs": [
    {
     "data": {
      "text/plain": [
       "array([[0.53361726],\n",
       "       [0.49767753]], dtype=float32)"
      ]
     },
     "execution_count": 45,
     "metadata": {},
     "output_type": "execute_result"
    }
   ],
   "source": [
    "# 임의의 단어 조합을 입력\n",
    "# good great, weak poor work\n",
    "model.predict([[3, 7, 0, 0], [10,5,1,0]])"
   ]
  },
  {
   "cell_type": "markdown",
   "metadata": {
    "id": "xLO6dbmU2UoB"
   },
   "source": [
    "## (연습) 임베딩 벡터 차원을 2로 설정하고 학습시킨 단어의 임베딩 벡터를 2차원 평면에 산포도로 그리시오"
   ]
  },
  {
   "cell_type": "code",
   "execution_count": 47,
   "metadata": {
    "id": "dxVfW7TA2qqm"
   },
   "outputs": [],
   "source": [
    "model = Sequential()\n",
    "model.add(Embedding(vocab_size, 2, input_length=max_length, name='embeddings'))\n",
    "model.add(Flatten())\n",
    "model.add(Dense(1, activation='sigmoid'))\n",
    "\n",
    "model.compile(optimizer='adam', loss='binary_crossentropy', metrics=['accuracy'])\n",
    "model.fit(padded_docs, labels, epochs=50, verbose=0)\n",
    "embeddings = model.get_layer('embeddings').get_weights()[0]\n",
    "w2v_my = {}\n",
    "for word, index in tokenizer.word_index.items():\n",
    "    w2v_my[word] = embeddings[index]"
   ]
  },
  {
   "cell_type": "code",
   "execution_count": 48,
   "metadata": {
    "colab": {
     "base_uri": "https://localhost:8080/",
     "height": 488
    },
    "id": "4u55bhmPtpcj",
    "outputId": "bcd14d14-bc7d-469c-b505-995f29723c3b"
   },
   "outputs": [
    {
     "data": {
      "text/html": [
       "\n",
       "  <div id=\"df-5c707b5a-34c2-4d35-b5cb-71410b097e81\">\n",
       "    <div class=\"colab-df-container\">\n",
       "      <div>\n",
       "<style scoped>\n",
       "    .dataframe tbody tr th:only-of-type {\n",
       "        vertical-align: middle;\n",
       "    }\n",
       "\n",
       "    .dataframe tbody tr th {\n",
       "        vertical-align: top;\n",
       "    }\n",
       "\n",
       "    .dataframe thead tr th {\n",
       "        text-align: left;\n",
       "    }\n",
       "</style>\n",
       "<table border=\"1\" class=\"dataframe\">\n",
       "  <thead>\n",
       "    <tr>\n",
       "      <th></th>\n",
       "      <th>x</th>\n",
       "      <th>y</th>\n",
       "    </tr>\n",
       "  </thead>\n",
       "  <tbody>\n",
       "    <tr>\n",
       "      <th>work</th>\n",
       "      <td>0.005923</td>\n",
       "      <td>0.046087</td>\n",
       "    </tr>\n",
       "    <tr>\n",
       "      <th>done</th>\n",
       "      <td>0.019766</td>\n",
       "      <td>0.092266</td>\n",
       "    </tr>\n",
       "    <tr>\n",
       "      <th>good</th>\n",
       "      <td>0.078624</td>\n",
       "      <td>-0.031080</td>\n",
       "    </tr>\n",
       "    <tr>\n",
       "      <th>effort</th>\n",
       "      <td>-0.023274</td>\n",
       "      <td>0.006893</td>\n",
       "    </tr>\n",
       "    <tr>\n",
       "      <th>poor</th>\n",
       "      <td>-0.016444</td>\n",
       "      <td>0.069732</td>\n",
       "    </tr>\n",
       "    <tr>\n",
       "      <th>well</th>\n",
       "      <td>0.072263</td>\n",
       "      <td>-0.056393</td>\n",
       "    </tr>\n",
       "    <tr>\n",
       "      <th>great</th>\n",
       "      <td>0.039220</td>\n",
       "      <td>-0.023186</td>\n",
       "    </tr>\n",
       "    <tr>\n",
       "      <th>nice</th>\n",
       "      <td>0.052692</td>\n",
       "      <td>-0.020751</td>\n",
       "    </tr>\n",
       "    <tr>\n",
       "      <th>excellent</th>\n",
       "      <td>0.062390</td>\n",
       "      <td>-0.044415</td>\n",
       "    </tr>\n",
       "    <tr>\n",
       "      <th>weak</th>\n",
       "      <td>-0.045216</td>\n",
       "      <td>0.021449</td>\n",
       "    </tr>\n",
       "    <tr>\n",
       "      <th>not</th>\n",
       "      <td>-0.075671</td>\n",
       "      <td>0.064479</td>\n",
       "    </tr>\n",
       "    <tr>\n",
       "      <th>could</th>\n",
       "      <td>-0.064505</td>\n",
       "      <td>0.032899</td>\n",
       "    </tr>\n",
       "    <tr>\n",
       "      <th>have</th>\n",
       "      <td>-0.039838</td>\n",
       "      <td>-0.059033</td>\n",
       "    </tr>\n",
       "    <tr>\n",
       "      <th>better</th>\n",
       "      <td>0.084920</td>\n",
       "      <td>0.060636</td>\n",
       "    </tr>\n",
       "  </tbody>\n",
       "</table>\n",
       "</div>\n",
       "      <button class=\"colab-df-convert\" onclick=\"convertToInteractive('df-5c707b5a-34c2-4d35-b5cb-71410b097e81')\"\n",
       "              title=\"Convert this dataframe to an interactive table.\"\n",
       "              style=\"display:none;\">\n",
       "        \n",
       "  <svg xmlns=\"http://www.w3.org/2000/svg\" height=\"24px\"viewBox=\"0 0 24 24\"\n",
       "       width=\"24px\">\n",
       "    <path d=\"M0 0h24v24H0V0z\" fill=\"none\"/>\n",
       "    <path d=\"M18.56 5.44l.94 2.06.94-2.06 2.06-.94-2.06-.94-.94-2.06-.94 2.06-2.06.94zm-11 1L8.5 8.5l.94-2.06 2.06-.94-2.06-.94L8.5 2.5l-.94 2.06-2.06.94zm10 10l.94 2.06.94-2.06 2.06-.94-2.06-.94-.94-2.06-.94 2.06-2.06.94z\"/><path d=\"M17.41 7.96l-1.37-1.37c-.4-.4-.92-.59-1.43-.59-.52 0-1.04.2-1.43.59L10.3 9.45l-7.72 7.72c-.78.78-.78 2.05 0 2.83L4 21.41c.39.39.9.59 1.41.59.51 0 1.02-.2 1.41-.59l7.78-7.78 2.81-2.81c.8-.78.8-2.07 0-2.86zM5.41 20L4 18.59l7.72-7.72 1.47 1.35L5.41 20z\"/>\n",
       "  </svg>\n",
       "      </button>\n",
       "      \n",
       "  <style>\n",
       "    .colab-df-container {\n",
       "      display:flex;\n",
       "      flex-wrap:wrap;\n",
       "      gap: 12px;\n",
       "    }\n",
       "\n",
       "    .colab-df-convert {\n",
       "      background-color: #E8F0FE;\n",
       "      border: none;\n",
       "      border-radius: 50%;\n",
       "      cursor: pointer;\n",
       "      display: none;\n",
       "      fill: #1967D2;\n",
       "      height: 32px;\n",
       "      padding: 0 0 0 0;\n",
       "      width: 32px;\n",
       "    }\n",
       "\n",
       "    .colab-df-convert:hover {\n",
       "      background-color: #E2EBFA;\n",
       "      box-shadow: 0px 1px 2px rgba(60, 64, 67, 0.3), 0px 1px 3px 1px rgba(60, 64, 67, 0.15);\n",
       "      fill: #174EA6;\n",
       "    }\n",
       "\n",
       "    [theme=dark] .colab-df-convert {\n",
       "      background-color: #3B4455;\n",
       "      fill: #D2E3FC;\n",
       "    }\n",
       "\n",
       "    [theme=dark] .colab-df-convert:hover {\n",
       "      background-color: #434B5C;\n",
       "      box-shadow: 0px 1px 3px 1px rgba(0, 0, 0, 0.15);\n",
       "      filter: drop-shadow(0px 1px 2px rgba(0, 0, 0, 0.3));\n",
       "      fill: #FFFFFF;\n",
       "    }\n",
       "  </style>\n",
       "\n",
       "      <script>\n",
       "        const buttonEl =\n",
       "          document.querySelector('#df-5c707b5a-34c2-4d35-b5cb-71410b097e81 button.colab-df-convert');\n",
       "        buttonEl.style.display =\n",
       "          google.colab.kernel.accessAllowed ? 'block' : 'none';\n",
       "\n",
       "        async function convertToInteractive(key) {\n",
       "          const element = document.querySelector('#df-5c707b5a-34c2-4d35-b5cb-71410b097e81');\n",
       "          const dataTable =\n",
       "            await google.colab.kernel.invokeFunction('convertToInteractive',\n",
       "                                                     [key], {});\n",
       "          if (!dataTable) return;\n",
       "\n",
       "          const docLinkHtml = 'Like what you see? Visit the ' +\n",
       "            '<a target=\"_blank\" href=https://colab.research.google.com/notebooks/data_table.ipynb>data table notebook</a>'\n",
       "            + ' to learn more about interactive tables.';\n",
       "          element.innerHTML = '';\n",
       "          dataTable['output_type'] = 'display_data';\n",
       "          await google.colab.output.renderOutput(dataTable, element);\n",
       "          const docLink = document.createElement('div');\n",
       "          docLink.innerHTML = docLinkHtml;\n",
       "          element.appendChild(docLink);\n",
       "        }\n",
       "      </script>\n",
       "    </div>\n",
       "  </div>\n",
       "  "
      ],
      "text/plain": [
       "                  x         y\n",
       "work       0.005923  0.046087\n",
       "done       0.019766  0.092266\n",
       "good       0.078624 -0.031080\n",
       "effort    -0.023274  0.006893\n",
       "poor      -0.016444  0.069732\n",
       "well       0.072263 -0.056393\n",
       "great      0.039220 -0.023186\n",
       "nice       0.052692 -0.020751\n",
       "excellent  0.062390 -0.044415\n",
       "weak      -0.045216  0.021449\n",
       "not       -0.075671  0.064479\n",
       "could     -0.064505  0.032899\n",
       "have      -0.039838 -0.059033\n",
       "better     0.084920  0.060636"
      ]
     },
     "execution_count": 48,
     "metadata": {},
     "output_type": "execute_result"
    }
   ],
   "source": [
    "import pandas as pd\n",
    "df = pd.DataFrame(w2v_my).T\n",
    "df.columns = [list('xy')]\n",
    "df"
   ]
  },
  {
   "cell_type": "code",
   "execution_count": 32,
   "metadata": {
    "colab": {
     "base_uri": "https://localhost:8080/",
     "height": 265
    },
    "id": "0beX4NO_r4J4",
    "outputId": "f68e3b88-4514-4e9f-9136-4371edc97d34"
   },
   "outputs": [
    {
     "data": {
      "image/png": "[encoded data removed]",
      "text/plain": [
       "<Figure size 432x288 with 1 Axes>"
      ]
     },
     "metadata": {
      "image/png": {
       "height": 248,
       "width": 423
      },
      "needs_background": "light"
     },
     "output_type": "display_data"
    }
   ],
   "source": [
    "import matplotlib.pyplot as plt\n",
    "plt.scatter(df.x, df.y, s=10)\n",
    "for i in range(len(df)):\n",
    "  plt.text(df.x.iloc[i], df.y.iloc[i], df.index[i])"
   ]
  }
 ],
 "metadata": {
  "colab": {
   "collapsed_sections": [],
   "name": "d_90_Embedding.ipynb",
   "provenance": []
  },
  "kernelspec": {
   "display_name": "Python 3",
   "language": "python",
   "name": "python3"
  },
  "language_info": {
   "codemirror_mode": {
    "name": "ipython",
    "version": 3
   },
   "file_extension": ".py",
   "mimetype": "text/x-python",
   "name": "python",
   "nbconvert_exporter": "python",
   "pygments_lexer": "ipython3",
   "version": "3.8.8"
  },
  "toc": {
   "base_numbering": 1,
   "nav_menu": {},
   "number_sections": false,
   "sideBar": true,
   "skip_h1_title": false,
   "title_cell": "Table of Contents",
   "title_sidebar": "Contents",
   "toc_cell": false,
   "toc_position": {},
   "toc_section_display": true,
   "toc_window_display": false
  }
 },
 "nbformat": 4,
 "nbformat_minor": 1
}
