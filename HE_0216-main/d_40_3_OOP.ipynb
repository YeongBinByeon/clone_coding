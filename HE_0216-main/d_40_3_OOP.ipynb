{
 "cells": [
  {
   "cell_type": "markdown",
   "id": "397d3f65",
   "metadata": {},
   "source": [
    "# 객체 지향 프로그래밍\n",
    "- 객체에는 함수와 변수를 미리 정의하여 사용할 수 있다.\n",
    " - 함수는 어떤 작업을 수행하는 것이고 (출생, 입학, 졸업 등), 변수는 이름, 나이, 학번 같은 정보를 담는다\n",
    " - 함수를 멤버 메소드, 변수를 멤버 변수라고도 부른다\n",
    "- 객체를 처음 설계할 때 클래스를 사용하며 클래스로부터 객체를 만들어 (생성하여) 사용한다\n",
    " - 즉, 클래스는 설계도에 해당하고 객체는 이 설계도로 만들어 실제 프로그램에 사용되는 (함수+변수) 집합체이다. 생성된 객체를 인스턴스라고도 부른다.\n",
    " - 객체가 생성될 때 자동으로 기본적으로 수행되는 함수는 \\__init\\__()에 정의한다\n",
    "- 상속은 이미 정의된 다른 클래스의 특징을 그대로 이용해 새로운 클래스를 정의한 것이다.\n",
    " - 상속을 이용하면 어떤 공통의 개념을 구현하고 관리하는데 편리하다"
   ]
  },
  {
   "cell_type": "code",
   "execution_count": 85,
   "id": "5510db66",
   "metadata": {},
   "outputs": [],
   "source": [
    "# 클래스 설계\n",
    "class Human:\n",
    "    def __init__(self, dob, nationality='Korean'):\n",
    "        self.dob = dob\n",
    "        self.nat = nationality\n",
    "    def print_dob(self):\n",
    "        print('dob:', self.dob)\n",
    "    def print_nat(self):\n",
    "        print('nat:', self.nat)"
   ]
  },
  {
   "cell_type": "code",
   "execution_count": 86,
   "id": "a416efdd",
   "metadata": {},
   "outputs": [],
   "source": [
    "# 객체 (인스턴스) 생성\n",
    "kim = Human('220303')"
   ]
  },
  {
   "cell_type": "code",
   "execution_count": 87,
   "id": "575d2188",
   "metadata": {},
   "outputs": [
    {
     "name": "stdout",
     "output_type": "stream",
     "text": [
      "dob: 220303\n"
     ]
    }
   ],
   "source": [
    "# 멤버 함수 호출\n",
    "kim.print_dob()"
   ]
  },
  {
   "cell_type": "code",
   "execution_count": 89,
   "id": "dfede04b",
   "metadata": {},
   "outputs": [
    {
     "name": "stdout",
     "output_type": "stream",
     "text": [
      "nat: Korean\n"
     ]
    }
   ],
   "source": [
    "kim.print_nat()"
   ]
  },
  {
   "cell_type": "code",
   "execution_count": 88,
   "id": "cd845695",
   "metadata": {},
   "outputs": [
    {
     "data": {
      "text/plain": [
       "'Korean'"
      ]
     },
     "execution_count": 88,
     "metadata": {},
     "output_type": "execute_result"
    }
   ],
   "source": [
    "# 멤버 변수 보기\n",
    "kim.nat"
   ]
  },
  {
   "cell_type": "code",
   "execution_count": 70,
   "id": "c220daa8",
   "metadata": {},
   "outputs": [
    {
     "data": {
      "text/plain": [
       "'220303'"
      ]
     },
     "execution_count": 70,
     "metadata": {},
     "output_type": "execute_result"
    }
   ],
   "source": [
    "kim.dob"
   ]
  },
  {
   "cell_type": "code",
   "execution_count": 71,
   "id": "59c29f99",
   "metadata": {},
   "outputs": [
    {
     "name": "stdout",
     "output_type": "stream",
     "text": [
      "nat: Korean\n"
     ]
    }
   ],
   "source": [
    "kim.print_nat()"
   ]
  },
  {
   "cell_type": "markdown",
   "id": "fcc1dcf1",
   "metadata": {},
   "source": [
    "# 클래스 Human을 상속\n",
    "- 새로운 클래스 Student는 Human의 속성을 이어받는다 (함수와 변수 정의)\n",
    "- 새로운 함수나 변수를 추가할 수 있고, 변경할 수도 있다"
   ]
  },
  {
   "cell_type": "code",
   "execution_count": 113,
   "id": "616d142a",
   "metadata": {},
   "outputs": [],
   "source": [
    "# Human을 상속하는 새로운 클래스 정의\n",
    "# 생성자의 인자를 바꿀 수 있다\n",
    "class Student(Human):\n",
    "    def __init__(self, dob, schoolday, nationaity='Unknown'):\n",
    "        super().__init__(dob, nationality=nationaity)\n",
    "        self.schoolday = schoolday\n",
    "    def print_schoolday(self):\n",
    "        print('schoolday:', self.schoolday)"
   ]
  },
  {
   "cell_type": "code",
   "execution_count": 114,
   "id": "862a4279",
   "metadata": {},
   "outputs": [],
   "source": [
    "lee = Student('220404','290301')"
   ]
  },
  {
   "cell_type": "code",
   "execution_count": 115,
   "id": "01f8851c",
   "metadata": {},
   "outputs": [
    {
     "data": {
      "text/plain": [
       "'220404'"
      ]
     },
     "execution_count": 115,
     "metadata": {},
     "output_type": "execute_result"
    }
   ],
   "source": [
    "lee.dob"
   ]
  },
  {
   "cell_type": "code",
   "execution_count": 116,
   "id": "b64debf8",
   "metadata": {},
   "outputs": [
    {
     "data": {
      "text/plain": [
       "'Unknown'"
      ]
     },
     "execution_count": 116,
     "metadata": {},
     "output_type": "execute_result"
    }
   ],
   "source": [
    "lee.nat"
   ]
  },
  {
   "cell_type": "code",
   "execution_count": 117,
   "id": "fcb8b3d4",
   "metadata": {},
   "outputs": [
    {
     "name": "stdout",
     "output_type": "stream",
     "text": [
      "dob: 220404\n"
     ]
    }
   ],
   "source": [
    "lee.print_dob()"
   ]
  },
  {
   "cell_type": "code",
   "execution_count": 118,
   "id": "152d7d54",
   "metadata": {},
   "outputs": [
    {
     "name": "stdout",
     "output_type": "stream",
     "text": [
      "nat: Unknown\n"
     ]
    }
   ],
   "source": [
    "lee.print_nat()"
   ]
  },
  {
   "cell_type": "code",
   "execution_count": 119,
   "id": "0e72b335",
   "metadata": {},
   "outputs": [
    {
     "name": "stdout",
     "output_type": "stream",
     "text": [
      "schoolday: 290301\n"
     ]
    }
   ],
   "source": [
    "lee.print_schoolday()"
   ]
  },
  {
   "cell_type": "code",
   "execution_count": 120,
   "id": "6587e42e",
   "metadata": {},
   "outputs": [],
   "source": [
    "park = Student('220404','290301', 'American')"
   ]
  },
  {
   "cell_type": "code",
   "execution_count": 121,
   "id": "51c3a042",
   "metadata": {},
   "outputs": [
    {
     "data": {
      "text/plain": [
       "('220404', 'American')"
      ]
     },
     "execution_count": 121,
     "metadata": {},
     "output_type": "execute_result"
    }
   ],
   "source": [
    "park.dob, park.nat"
   ]
  },
  {
   "cell_type": "code",
   "execution_count": 122,
   "id": "d034b332",
   "metadata": {},
   "outputs": [
    {
     "name": "stdout",
     "output_type": "stream",
     "text": [
      "nat: American\n"
     ]
    }
   ],
   "source": [
    "park.print_nat()"
   ]
  },
  {
   "cell_type": "code",
   "execution_count": 123,
   "id": "7c97c5aa",
   "metadata": {},
   "outputs": [
    {
     "name": "stdout",
     "output_type": "stream",
     "text": [
      "dob: 220404\n"
     ]
    }
   ],
   "source": [
    "lee.print_dob()"
   ]
  }
 ],
 "metadata": {
  "kernelspec": {
   "display_name": "Python 3",
   "language": "python",
   "name": "python3"
  },
  "language_info": {
   "codemirror_mode": {
    "name": "ipython",
    "version": 3
   },
   "file_extension": ".py",
   "mimetype": "text/x-python",
   "name": "python",
   "nbconvert_exporter": "python",
   "pygments_lexer": "ipython3",
   "version": "3.8.8"
  }
 },
 "nbformat": 4,
 "nbformat_minor": 5
}
