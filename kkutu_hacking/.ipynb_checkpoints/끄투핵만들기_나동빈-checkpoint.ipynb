{
 "cells": [
  {
   "cell_type": "code",
   "execution_count": 5,
   "metadata": {},
   "outputs": [],
   "source": [
    "#자동화 테스트를 위해 셀레니움을 불러옵니다.\n",
    "from selenium import webdriver\n",
    "# 크롬 웹 드라이버의 경로를 설정합니다.\n",
    "driver = webdriver.Chrome('D:\\code_folder\\chromedriver.exe')\n",
    "#크롬을 통해 웹 사이트에 접속합니다.\n",
    "driver.get('http://kkutu.io')"
   ]
  },
  {
   "cell_type": "code",
   "execution_count": 8,
   "metadata": {},
   "outputs": [],
   "source": [
    "# 현재 시작 단어를 얻습니다.\n",
    "def now():\n",
    "    #해당 class name을 가지는 모든 element 가져오기\n",
    "    element = driver.find_elements_by_class_name('jjo-display')\n",
    "    #위 클래스 이름의 엘리먼트가 하나만 존재한다고 가정\n",
    "    return element[0].text"
   ]
  },
  {
   "cell_type": "code",
   "execution_count": 20,
   "metadata": {},
   "outputs": [
    {
     "ename": "UnexpectedAlertPresentException",
     "evalue": "Alert Text: 3라운드 연속으로 차례를 넘기지 않아서 강제퇴장되었습니다.\nMessage: unexpected alert open: {Alert text : 3라운드 연속으로 차례를 넘기지 않아서 강제퇴장되었습니다.}\n  (Session info: chrome=77.0.3865.120)\n",
     "output_type": "error",
     "traceback": [
      "\u001b[1;31m---------------------------------------------------------------------------\u001b[0m",
      "\u001b[1;31mUnexpectedAlertPresentException\u001b[0m           Traceback (most recent call last)",
      "\u001b[1;32m<ipython-input-20-609c8bdc7a3a>\u001b[0m in \u001b[0;36m<module>\u001b[1;34m()\u001b[0m\n\u001b[1;32m----> 1\u001b[1;33m \u001b[0mnow\u001b[0m\u001b[1;33m(\u001b[0m\u001b[1;33m)\u001b[0m\u001b[1;33m\u001b[0m\u001b[0m\n\u001b[0m",
      "\u001b[1;32m<ipython-input-8-54ffba0bd964>\u001b[0m in \u001b[0;36mnow\u001b[1;34m()\u001b[0m\n\u001b[0;32m      4\u001b[0m     \u001b[0melement\u001b[0m \u001b[1;33m=\u001b[0m \u001b[0mdriver\u001b[0m\u001b[1;33m.\u001b[0m\u001b[0mfind_elements_by_class_name\u001b[0m\u001b[1;33m(\u001b[0m\u001b[1;34m'jjo-display'\u001b[0m\u001b[1;33m)\u001b[0m\u001b[1;33m\u001b[0m\u001b[0m\n\u001b[0;32m      5\u001b[0m     \u001b[1;31m#위 클래스 이름의 엘리먼트가 하나만 존재한다고 가정\u001b[0m\u001b[1;33m\u001b[0m\u001b[1;33m\u001b[0m\u001b[0m\n\u001b[1;32m----> 6\u001b[1;33m     \u001b[1;32mreturn\u001b[0m \u001b[0melement\u001b[0m\u001b[1;33m[\u001b[0m\u001b[1;36m0\u001b[0m\u001b[1;33m]\u001b[0m\u001b[1;33m.\u001b[0m\u001b[0mtext\u001b[0m\u001b[1;33m\u001b[0m\u001b[0m\n\u001b[0m",
      "\u001b[1;32m~\\Anaconda3\\lib\\site-packages\\selenium\\webdriver\\remote\\webelement.py\u001b[0m in \u001b[0;36mtext\u001b[1;34m(self)\u001b[0m\n\u001b[0;32m     74\u001b[0m     \u001b[1;32mdef\u001b[0m \u001b[0mtext\u001b[0m\u001b[1;33m(\u001b[0m\u001b[0mself\u001b[0m\u001b[1;33m)\u001b[0m\u001b[1;33m:\u001b[0m\u001b[1;33m\u001b[0m\u001b[0m\n\u001b[0;32m     75\u001b[0m         \u001b[1;34m\"\"\"The text of the element.\"\"\"\u001b[0m\u001b[1;33m\u001b[0m\u001b[0m\n\u001b[1;32m---> 76\u001b[1;33m         \u001b[1;32mreturn\u001b[0m \u001b[0mself\u001b[0m\u001b[1;33m.\u001b[0m\u001b[0m_execute\u001b[0m\u001b[1;33m(\u001b[0m\u001b[0mCommand\u001b[0m\u001b[1;33m.\u001b[0m\u001b[0mGET_ELEMENT_TEXT\u001b[0m\u001b[1;33m)\u001b[0m\u001b[1;33m[\u001b[0m\u001b[1;34m'value'\u001b[0m\u001b[1;33m]\u001b[0m\u001b[1;33m\u001b[0m\u001b[0m\n\u001b[0m\u001b[0;32m     77\u001b[0m \u001b[1;33m\u001b[0m\u001b[0m\n\u001b[0;32m     78\u001b[0m     \u001b[1;32mdef\u001b[0m \u001b[0mclick\u001b[0m\u001b[1;33m(\u001b[0m\u001b[0mself\u001b[0m\u001b[1;33m)\u001b[0m\u001b[1;33m:\u001b[0m\u001b[1;33m\u001b[0m\u001b[0m\n",
      "\u001b[1;32m~\\Anaconda3\\lib\\site-packages\\selenium\\webdriver\\remote\\webelement.py\u001b[0m in \u001b[0;36m_execute\u001b[1;34m(self, command, params)\u001b[0m\n\u001b[0;32m    631\u001b[0m             \u001b[0mparams\u001b[0m \u001b[1;33m=\u001b[0m \u001b[1;33m{\u001b[0m\u001b[1;33m}\u001b[0m\u001b[1;33m\u001b[0m\u001b[0m\n\u001b[0;32m    632\u001b[0m         \u001b[0mparams\u001b[0m\u001b[1;33m[\u001b[0m\u001b[1;34m'id'\u001b[0m\u001b[1;33m]\u001b[0m \u001b[1;33m=\u001b[0m \u001b[0mself\u001b[0m\u001b[1;33m.\u001b[0m\u001b[0m_id\u001b[0m\u001b[1;33m\u001b[0m\u001b[0m\n\u001b[1;32m--> 633\u001b[1;33m         \u001b[1;32mreturn\u001b[0m \u001b[0mself\u001b[0m\u001b[1;33m.\u001b[0m\u001b[0m_parent\u001b[0m\u001b[1;33m.\u001b[0m\u001b[0mexecute\u001b[0m\u001b[1;33m(\u001b[0m\u001b[0mcommand\u001b[0m\u001b[1;33m,\u001b[0m \u001b[0mparams\u001b[0m\u001b[1;33m)\u001b[0m\u001b[1;33m\u001b[0m\u001b[0m\n\u001b[0m\u001b[0;32m    634\u001b[0m \u001b[1;33m\u001b[0m\u001b[0m\n\u001b[0;32m    635\u001b[0m     \u001b[1;32mdef\u001b[0m \u001b[0mfind_element\u001b[0m\u001b[1;33m(\u001b[0m\u001b[0mself\u001b[0m\u001b[1;33m,\u001b[0m \u001b[0mby\u001b[0m\u001b[1;33m=\u001b[0m\u001b[0mBy\u001b[0m\u001b[1;33m.\u001b[0m\u001b[0mID\u001b[0m\u001b[1;33m,\u001b[0m \u001b[0mvalue\u001b[0m\u001b[1;33m=\u001b[0m\u001b[1;32mNone\u001b[0m\u001b[1;33m)\u001b[0m\u001b[1;33m:\u001b[0m\u001b[1;33m\u001b[0m\u001b[0m\n",
      "\u001b[1;32m~\\Anaconda3\\lib\\site-packages\\selenium\\webdriver\\remote\\webdriver.py\u001b[0m in \u001b[0;36mexecute\u001b[1;34m(self, driver_command, params)\u001b[0m\n\u001b[0;32m    319\u001b[0m         \u001b[0mresponse\u001b[0m \u001b[1;33m=\u001b[0m \u001b[0mself\u001b[0m\u001b[1;33m.\u001b[0m\u001b[0mcommand_executor\u001b[0m\u001b[1;33m.\u001b[0m\u001b[0mexecute\u001b[0m\u001b[1;33m(\u001b[0m\u001b[0mdriver_command\u001b[0m\u001b[1;33m,\u001b[0m \u001b[0mparams\u001b[0m\u001b[1;33m)\u001b[0m\u001b[1;33m\u001b[0m\u001b[0m\n\u001b[0;32m    320\u001b[0m         \u001b[1;32mif\u001b[0m \u001b[0mresponse\u001b[0m\u001b[1;33m:\u001b[0m\u001b[1;33m\u001b[0m\u001b[0m\n\u001b[1;32m--> 321\u001b[1;33m             \u001b[0mself\u001b[0m\u001b[1;33m.\u001b[0m\u001b[0merror_handler\u001b[0m\u001b[1;33m.\u001b[0m\u001b[0mcheck_response\u001b[0m\u001b[1;33m(\u001b[0m\u001b[0mresponse\u001b[0m\u001b[1;33m)\u001b[0m\u001b[1;33m\u001b[0m\u001b[0m\n\u001b[0m\u001b[0;32m    322\u001b[0m             response['value'] = self._unwrap_value(\n\u001b[0;32m    323\u001b[0m                 response.get('value', None))\n",
      "\u001b[1;32m~\\Anaconda3\\lib\\site-packages\\selenium\\webdriver\\remote\\errorhandler.py\u001b[0m in \u001b[0;36mcheck_response\u001b[1;34m(self, response)\u001b[0m\n\u001b[0;32m    239\u001b[0m             \u001b[1;32melif\u001b[0m \u001b[1;34m'alert'\u001b[0m \u001b[1;32min\u001b[0m \u001b[0mvalue\u001b[0m\u001b[1;33m:\u001b[0m\u001b[1;33m\u001b[0m\u001b[0m\n\u001b[0;32m    240\u001b[0m                 \u001b[0malert_text\u001b[0m \u001b[1;33m=\u001b[0m \u001b[0mvalue\u001b[0m\u001b[1;33m[\u001b[0m\u001b[1;34m'alert'\u001b[0m\u001b[1;33m]\u001b[0m\u001b[1;33m.\u001b[0m\u001b[0mget\u001b[0m\u001b[1;33m(\u001b[0m\u001b[1;34m'text'\u001b[0m\u001b[1;33m)\u001b[0m\u001b[1;33m\u001b[0m\u001b[0m\n\u001b[1;32m--> 241\u001b[1;33m             \u001b[1;32mraise\u001b[0m \u001b[0mexception_class\u001b[0m\u001b[1;33m(\u001b[0m\u001b[0mmessage\u001b[0m\u001b[1;33m,\u001b[0m \u001b[0mscreen\u001b[0m\u001b[1;33m,\u001b[0m \u001b[0mstacktrace\u001b[0m\u001b[1;33m,\u001b[0m \u001b[0malert_text\u001b[0m\u001b[1;33m)\u001b[0m\u001b[1;33m\u001b[0m\u001b[0m\n\u001b[0m\u001b[0;32m    242\u001b[0m         \u001b[1;32mraise\u001b[0m \u001b[0mexception_class\u001b[0m\u001b[1;33m(\u001b[0m\u001b[0mmessage\u001b[0m\u001b[1;33m,\u001b[0m \u001b[0mscreen\u001b[0m\u001b[1;33m,\u001b[0m \u001b[0mstacktrace\u001b[0m\u001b[1;33m)\u001b[0m\u001b[1;33m\u001b[0m\u001b[0m\n\u001b[0;32m    243\u001b[0m \u001b[1;33m\u001b[0m\u001b[0m\n",
      "\u001b[1;31mUnexpectedAlertPresentException\u001b[0m: Alert Text: 3라운드 연속으로 차례를 넘기지 않아서 강제퇴장되었습니다.\nMessage: unexpected alert open: {Alert text : 3라운드 연속으로 차례를 넘기지 않아서 강제퇴장되었습니다.}\n  (Session info: chrome=77.0.3865.120)\n"
     ]
    }
   ],
   "source": [
    "now()"
   ]
  },
  {
   "cell_type": "code",
   "execution_count": 45,
   "metadata": {},
   "outputs": [],
   "source": [
    "#//*[@id=\"ChatBtn\"]\n",
    "#//*[@id=\"Middle\"]/div[29]/div/input[2]\n",
    "# 단어를 작성해서 보내는 함수입니다.\n",
    "def send(message):\n",
    "    input_tag = driver.find_element_by_xpath('//*[@id=\"Middle\"]/div[29]/div/input[2]')\n",
    "    input_tag.send_keys(message)\n",
    "    \n",
    "    # 밑 주석 건 1문장처럼 써도 되는대, 밑 2문장처럼 쓰는게 확실한 click이 보장된다\n",
    "    #driver.find_element_by_xpath('//*[@id=\"ChatBtn\"]').click\n",
    "    element = driver.find_element_by_xpath('//*[@id=\"ChatBtn\"]')\n",
    "    driver.execute_script('arguments[0].click();', element)"
   ]
  },
  {
   "cell_type": "code",
   "execution_count": 28,
   "metadata": {},
   "outputs": [],
   "source": [
    "#send('안녕?')\n",
    "send('늠름')"
   ]
  },
  {
   "cell_type": "code",
   "execution_count": 32,
   "metadata": {},
   "outputs": [
    {
     "name": "stdout",
     "output_type": "stream",
     "text": [
      "데이터 개수: 65688개\n"
     ]
    }
   ],
   "source": [
    "# 사전 데이터를 불러옵니다.\n",
    "import csv\n",
    "\n",
    "f = open('D:\\code_folder\\kkutu_hacking\\kp_korean.csv', 'r', encoding='utf-8-sig')\n",
    "reader = csv.reader(f)\n",
    "\n",
    "result = []\n",
    "for line in reader:\n",
    "    result.append(line)\n",
    "print('데이터 개수: ' + str(len(result)) + \"개\")\n",
    "f.close()"
   ]
  },
  {
   "cell_type": "code",
   "execution_count": 34,
   "metadata": {},
   "outputs": [
    {
     "name": "stdout",
     "output_type": "stream",
     "text": [
      "['-ㄹ가', '어미']\n"
     ]
    }
   ],
   "source": [
    "print(result[0])"
   ]
  },
  {
   "cell_type": "code",
   "execution_count": 37,
   "metadata": {},
   "outputs": [
    {
     "name": "stdout",
     "output_type": "stream",
     "text": [
      "['단식저수지조수력발전소', '단식저수지조수력발전소', '단순성포진비루스감염증', '단순성포진비루스감염증', '단순요동식턱형파쇄기', '단순요동식턱형파쇄기', '단시간지체전기뢰관', '단시간지체전기뢰관', '단선자동길차지장치', '단선자동길차지장치', '단동원격모사기계손', '단동원격모사기계손', '단행정자기증폭기', '단행정자기증폭기', '단측대파통신체계', '단측대파통신체계', '단일주파수합성기', '단일주파수합성기', '단동식피스톤뽐프', '단동식피스톤뽐프', '단동비모사기계손', '단동비모사기계손', '단풍잎베고니아', '단풍잎베고니아', '단판접착프레스', '단판접착프레스', '단판쓸림크라치', '단판쓸림크라치', '단판쓸림카프링', '단판쓸림카프링', '단추구멍얽기수', '단추구멍얽기수', '단일소득세제도', '단일소득세제도', '단일도급지불제', '단일도급지불제', '단일도급임금제', '단일도급임금제', '단식피스톤뽐프', '단식피스톤뽐프', '단식매달이장치', '단식매달이장치', '단시간지체발파', '단시간지체발파', '단순이부분형식', '단순이부분형식', '단순시간임금제', '단순시간임금제', '단순삼부분형식', '단순삼부분형식', '단순계통간잡종', '단순계통간잡종', '단상접지맞닿이', '단상접지맞닿이', '단독적가치형태', '단독적가치형태', '단극성삼극소자', '단극성삼극소자', '단파투열치료', '단파투열치료', '단파자외선등', '단파자외선등', '단지우릉성이', '단지우릉성이', '단지식페매기', '단지식페매기', '단지수레벌레', '단지수레벌레', '단지솜털벌레', '단지솜털벌레', '단중중복권선', '단중중복권선', '단조만능집게', '단조만능집게', '단일처리체계', '단일처리체계', '단원통건조기', '단원통건조기', '단원추투영법', '단원추투영법', '단순상품경제', '단순상품경제', '단순립방살창', '단순립방살창', '단색광선치료', '단색광선치료', '단백질최소량', '단백질최소량', '단백질물분해', '단백질물분해', '단방아편팅크', '단방아편팅크', '단독식인발기', '단독식인발기', '단능절삭기계', '단능절삭기계', '단금속인쇄판', '단금속인쇄판', '단결정인상법', '단결정인상법', '단판평삭기', '단판평삭기', '단판지인쇄', '단판지인쇄', '단판원삭기', '단판원삭기', '단축축전기', '단축축전기', '단추전화기', '단추전화기', '단추구멍기', '단추구멍기', '단조보냄량', '단조보냄량', '단조거둠률', '단조거둠률', '단자채자기', '단자채자기', '단일반성뚝', '단일반성뚝', '단일구성문', '단일구성문', '단위자체계', '단위자체계', '단위임풀스', '단위임풀스', '단어조성론', '단어조성론', '단어만들기', '단어만들기', '단어마무리', '단어마무리', '단어당번역', '단어당번역', '단식조차장', '단식조차장', '단순합침법', '단순합침법', '단순요동식', '단순요동식', '단순단일문', '단순단일문', '단삭식삭도', '단삭식삭도', '단분자반응', '단분자반응', '단번차넣기', '단번차넣기', '단백풀먹이', '단백풀먹이', '단백질효률', '단백질효률', '단백질낟알', '단백질낟알', '단방연경고', '단방연경고', '단매영사기', '단매영사기', '단동기계손', '단동기계손', '단독권양기', '단독권양기', '단능선반기', '단능선반기', '단능굴착기', '단능굴착기', '단기림시짐', '단기림시짐', '단기능지대', '단기능지대', '단궤도대차', '단궤도대차', '단고기국집', '단고기국집', '단간방살이', '단간방살이', '단간방살림', '단간방살림', '단행랑집', '단행랑집', '단풍맞이', '단풍맞이', '단파잃음', '단파잃음', '단층비지', '단층비지', '단층덕땅', '단층덕땅', '단취생활', '단취생활', '단축습곡', '단축습곡', '단축분지', '단축분지', '단축배사', '단축배사', '단천청콩', '단천청콩', '단척레루', '단척레루', '단지팽이', '단지팽이', '단지이끼', '단지이끼', '단지어로', '단지어로', '단중심론', '단중심론', '단조행정', '단조행정', '단조망치', '단조망치', '단조마치', '단조마치', '단전밀부', '단전밀부', '단작경리', '단작경리', '단자잇개', '단자잇개', '단자놀음', '단자놀음', '단일판단', '단일판단', '단일전개', '단일전개', '단일소편', '단일소편', '단위자화', '단위자화', '단어형태', '단어형태', '단어조성', '단어조성', '단어문장', '단어문장', '단어력점', '단어력점', '단어구역', '단어구역', '단양살구', '단양살구', '단심항일', '단심항일', '단신방식', '단신방식', '단식우리', '단식우리', '단순형강', '단순형강', '단순현수', '단순현수', '단순음정', '단순음정', '단순술어', '단순술어', '단순수사', '단순수사', '단순성분', '단순성분', '단순물질', '단순물질', '단순목욕', '단순목욕', '단순모방', '단순모방', '단순광석', '단순광석', '단순관길', '단순관길', '단순결합', '단순결합', '단세대집', '단세대집', '단선철길', '단선철길', '단선차굴', '단선차굴', '단상연고', '단상연고', '단삼보약', '단삼보약', '단붓질법', '단붓질법', '단벽막장', '단벽막장', '단벗나무', '단벗나무', '단벌짜기', '단벌짜기', '단벌내기', '단벌내기', '단번련락', '단번련락', '단번결속', '단번결속', '단백효률', '단백효률', '단백오줌', '단백오줌', '단백료법', '단백료법', '단방시롭', '단방시롭', '단발명중', '단발명중', '단물얼음', '단물얼음', '단매화면', '단매화면', '단말마상', '단말마상', '단마구리', '단마구리', '단둥글파', '단둥글파', '단독출정', '단독출정', '단독장례', '단독장례', '단독돌격', '단독돌격', '단도사격', '단도사격', '단단주순', '단단주순', '단능짐함', '단능짐함', '단능기대', '단능기대', '단꺼번에', '단꺼번에', '단기세기', '단기세기', '단기돌격', '단기돌격', '단광물암', '단광물암', '단골맞춤', '단골맞춤', '단고기국', '단고기국', '단강냉이', '단강냉이', '단간척소', '단간척소', '단행랑', '단행랑', '단패짝', '단패짝', '단판지', '단판지', '단층숲', '단층숲', '단추집', '단추집', '단추리', '단추리', '단추고', '단추고', '단초물', '단초물', '단철기', '단철기', '단지말', '단지말', '단지곰', '단지곰', '단졸임', '단졸임', '단조롤', '단조롤', '단조렬', '단조렬', '단절법', '단절법', '단일문', '단일문', '단이슬', '단이슬', '단의음', '단의음', '단위원', '단위원', '단열계', '단열계', '단얼음', '단얼음', '단어화', '단어화', '단어책', '단어책', '단야밤', '단야밤', '단야간', '단야간', '단알약', '단알약', '단실분', '단실분', '단식품', '단식품', '단숨결', '단숨결', '단순욕', '단순욕', '단수면', '단수면', '단속초', '단속초', '단설기', '단설기', '단삭식', '단삭식', '단삭도', '단삭도', '단사형', '단사형', '단사률', '단사률', '단분장', '단분장', '단백풀', '단백풀', '단백풀', '단백풀', '단백젖', '단백젖', '단바로', '단바로', '단바람', '단바람', '단물약', '단물약', '단물겁', '단물겁', '단문포', '단문포', '단무릎', '단무릎', '단목살', '단목살', '단먹이', '단먹이', '단매질', '단매질', '단매손', '단매손', '단매소', '단매소', '단맛약', '단맛약', '단맛감', '단맛감', '단령의', '단령의', '단렬대', '단렬대', '단련체', '단련체', '단락선', '단락선', '단독재', '단독재', '단독선', '단독선', '단독꼴', '단독꼴', '단기짐', '단기짐', '단기발', '단기발', '단국화', '단국화', '단교대', '단교대', '단고기', '단고기', '단간막', '단간막', '단행', '단행', '단해', '단해', '단풀', '단풀', '단포', '단포', '단파', '단파', '단초', '단초', '단천', '단천', '단창', '단창', '단차', '단차', '단지', '단지', '단중', '단중', '단적', '단적', '단재', '단재', '단장', '단장', '단자', '단자', '단의', '단의', '단업', '단업', '단실', '단실', '단식', '단식', '단숨', '단숨', '단쇄', '단쇄', '단설', '단설', '단삭', '단삭', '단부', '단부', '단부', '단부', '단물', '단물', '단묵', '단묵', '단몸', '단몸', '단명', '단명', '단말', '단말', '단말', '단말', '단니', '단니', '단기', '단기', '단궁', '단궁', '단군', '단군', '단계', '단계', '단견', '단견', '단감', '단감', '단간', '단간']\n"
     ]
    }
   ],
   "source": [
    "#특정 글자로 시작하는 단어를 찾아 긴 순서대로 출력합니다.\n",
    "def get_words(start):\n",
    "    text_list=[]\n",
    "    for i in result:\n",
    "        # '다'로 끝나지 않는 형태의 단어만을 추출합니다.\n",
    "        if i[0].startswith(start) and not i[0].endswith('다'):\n",
    "            #별도의 특수문자가 들어가는 경우를 제외합니다.\n",
    "            if \"-\" in i[0] or \"^\" in i[0] or \"·\" in i[0] or \" \" in i[0]:\n",
    "                continue\n",
    "            text = i[0]\n",
    "            #2글자 이상인 경우만 포함합니다.\n",
    "            if len(text) >= 2:\n",
    "                text_list.append(text)\n",
    "    #단어가 긴 순서대로 정렬하여 반환합니다\n",
    "    text_list.sort(key=lambda item: (len(item), item), reverse=True)\n",
    "    return text_list\n",
    "\n",
    "print(get_words('단'))"
   ]
  },
  {
   "cell_type": "code",
   "execution_count": 50,
   "metadata": {},
   "outputs": [],
   "source": [
    "# 특정 단어에 대한 방어 내용 설정\n",
    "result.append(('늣치', '방어'))\n",
    "result.append(('슭곰', '방어'))\n",
    "\n",
    "# 공격을 수행하는 함수입니다.\n",
    "import random\n",
    "\n",
    "def attack(start):\n",
    "    my_list = get_words(start)\n",
    "    if len(my_list) == 0:\n",
    "        print(\"사전에서 찾을 수 없습니다.\")\n",
    "        return\n",
    "    # 되도록 긴 문자열을 뽑기 위해 긴 문자열 10개 이하에서만 추출합니다.\n",
    "    length = len(my_list)\n",
    "    if length > 10:\n",
    "        length = 5\n",
    "    # 단어를 랜덤으로 추출합니다.\n",
    "    i = random.randrange(0, length)\n",
    "    message = my_list[i]\n",
    "    # 특정 단어를 입력해 전송합니다.\n",
    "    print(\"단어 전송: \" + message)\n",
    "    send(message)\n",
    "    \n",
    "# 현재 시작 단어를 구합니다.\n",
    "start = now()\n",
    "# '이(리)'와 같은 형태 잘라냅니다.\n",
    "if '(' in start:\n",
    "    start = start.split('(')[0]\n",
    "#1글자로 구성된 경우만 공격합니다.\n",
    "if len(start) == 1:\n",
    "    attack(start)"
   ]
  },
  {
   "cell_type": "code",
   "execution_count": null,
   "metadata": {},
   "outputs": [],
   "source": [
    "\n",
    "\n",
    "ID = 'GUEST9999'\n",
    "\n",
    "def auto():\n",
    "    while True:\n",
    "        now_player = driver.find_elements_by_class_name('game-user-current')\n",
    "        if len(now_player) == 0:\n",
    "            continue\n",
    "        target = now_player[0].find_elements_by_class_name(\"game-user-name\")\n",
    "        if len(target) == 0:\n",
    "            continue\n",
    "        player_name = target[0].text\n",
    "        if len(player_name) > 0 and player_name == ID:\n",
    "            # 현재 시작 단어를 구합니다.\n",
    "            start = now()\n",
    "            # '이(리)'와 같은 형태 잘라냅니다.\n",
    "            if '(' in start:\n",
    "                start = start.split('(')[0]\n",
    "            #1글자로 구성된 경우만 공격합니다.\n",
    "            if len(start) == 1:\n",
    "                attack(start)\n",
    "auto()\n",
    "            "
   ]
  }
 ],
 "metadata": {
  "kernelspec": {
   "display_name": "Python 3",
   "language": "python",
   "name": "python3"
  }
 },
 "nbformat": 4,
 "nbformat_minor": 2
}
